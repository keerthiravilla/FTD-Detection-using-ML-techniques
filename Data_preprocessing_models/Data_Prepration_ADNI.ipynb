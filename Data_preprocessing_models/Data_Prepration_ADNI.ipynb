{
 "cells": [
  {
   "cell_type": "markdown",
   "metadata": {
    "id": "_2M29RIYgNdL"
   },
   "source": [
    "# Importing Libraries"
   ]
  },
  {
   "cell_type": "code",
   "execution_count": 1,
   "metadata": {
    "id": "9Lvesaxdebqh"
   },
   "outputs": [],
   "source": [
    "#Multi-class Classification\n",
    "import zipfile\n",
    "import nibabel as nib\n",
    "import torch\n",
    "import torch.nn as nn\n",
    "import torch.nn.functional as F\n",
    "from torchvision.utils import make_grid\n",
    "import numpy as np\n",
    "import pandas as pd\n",
    "import pickle\n",
    "from sklearn.metrics import confusion_matrix\n",
    "import matplotlib.pyplot as plt\n",
    "import glob\n",
    "from torch.autograd import Variable\n",
    "from torchvision import models\n",
    "from torch.nn import Module,  Linear, ReLU, CrossEntropyLoss, Sequential, Conv3d, MaxPool3d, Softmax, BatchNorm3d\n",
    "from torch.optim import Adam\n",
    "from tqdm import tqdm\n",
    "from sklearn.metrics import accuracy_score\n",
    "import seaborn as sn\n",
    "import torch.optim as optim\n",
    "from torchsummary import summary\n",
    "%matplotlib inline"
   ]
  },
  {
   "cell_type": "code",
   "execution_count": 2,
   "metadata": {
    "colab": {
     "base_uri": "https://localhost:8080/"
    },
    "id": "8EwbkTJUeiRF",
    "outputId": "08e8db6b-ad2b-4ac8-eb67-c6b0960ce221"
   },
   "outputs": [
    {
     "name": "stdout",
     "output_type": "stream",
     "text": [
      "Mounted at /content/drive/\n"
     ]
    }
   ],
   "source": [
    "from google.colab import drive\n",
    "drive.mount('/content/drive/')"
   ]
  },
  {
   "cell_type": "code",
   "execution_count": 3,
   "metadata": {
    "colab": {
     "base_uri": "https://localhost:8080/"
    },
    "id": "-Qt9iz50ellg",
    "outputId": "1d4c30f6-eeb5-48d1-fb3f-ca438b8893ad"
   },
   "outputs": [
    {
     "name": "stdout",
     "output_type": "stream",
     "text": [
      "There are 4 directories and 0 images in '/content/drive/My Drive/ADNI_full'.\n",
      "There are 0 directories and 189 images in '/content/drive/My Drive/ADNI_full/AD'.\n",
      "There are 0 directories and 220 images in '/content/drive/My Drive/ADNI_full/LMCI'.\n",
      "There are 0 directories and 254 images in '/content/drive/My Drive/ADNI_full/CN'.\n",
      "There are 0 directories and 0 images in '/content/drive/My Drive/ADNI_full/.ipynb_checkpoints'.\n"
     ]
    },
    {
     "data": {
      "text/plain": [
       "0"
      ]
     },
     "execution_count": 3,
     "metadata": {},
     "output_type": "execute_result"
    }
   ],
   "source": [
    "import os\n",
    "#walk through directory and list through files\n",
    "for dirpath, dirnames, filenames in os.walk(\"/content/drive/My Drive/ADNI_full\"):\n",
    "  print(f\"There are {len(dirnames)} directories and {len(filenames)} images in '{dirpath}'.\")\n",
    "len(filenames)\n"
   ]
  },
  {
   "cell_type": "code",
   "execution_count": 4,
   "metadata": {
    "colab": {
     "base_uri": "https://localhost:8080/"
    },
    "id": "T3f34d4NeuNq",
    "outputId": "3c634362-6e32-49af-f52d-7e3245650770"
   },
   "outputs": [
    {
     "name": "stdout",
     "output_type": "stream",
     "text": [
      "['.ipynb_checkpoints' 'AD' 'CN' 'LMCI']\n"
     ]
    }
   ],
   "source": [
    "#Get the class names\n",
    "import numpy as np\n",
    "import pathlib\n",
    "data_dir = pathlib.Path('/content/drive/My Drive/ADNI_full')\n",
    "class_names = np.array(sorted([item.name for item in data_dir.glob('*')]))\n",
    "print(class_names)"
   ]
  },
  {
   "cell_type": "markdown",
   "metadata": {
    "id": "e3flSZBue7UR"
   },
   "source": [
    "# Loading AD Images"
   ]
  },
  {
   "cell_type": "code",
   "execution_count": 5,
   "metadata": {
    "colab": {
     "base_uri": "https://localhost:8080/"
    },
    "id": "Hb07ndlVeydR",
    "outputId": "8349e44a-f263-42a0-8413-ff0795ddff26"
   },
   "outputs": [
    {
     "name": "stdout",
     "output_type": "stream",
     "text": [
      "Found  189  nifti files\n",
      "(189, 100, 100, 55, 1)\n",
      "Loading file 1 of 189\n",
      "Loading file 21 of 189\n",
      "Loading file 41 of 189\n",
      "Loading file 61 of 189\n",
      "Loading file 81 of 189\n",
      "Loading file 101 of 189\n",
      "Loading file 121 of 189\n",
      "Loading file 141 of 189\n",
      "Loading file 161 of 189\n",
      "Loading file 181 of 189\n",
      "Successfully loaded files\n",
      "Image array size:  (189, 100, 100, 55, 1)\n",
      "LabelAD size:  (189,)\n",
      "LabelADD size:  (189,)\n"
     ]
    }
   ],
   "source": [
    "AD = glob.glob(r'/content/drive/My Drive/ADNI_full/AD/*.nii.gz')\n",
    "ADFiles = AD\n",
    "ADnumfiles = len(ADFiles)\n",
    "\n",
    "\n",
    "\n",
    "x_range_from = 10; x_range_to = 110\n",
    "y_range_from = 40; y_range_to = 95\n",
    "z_range_from = 5; z_range_to = 105\n",
    "ADimages = np.zeros((ADnumfiles, z_range_to-z_range_from, x_range_to-x_range_from, y_range_to-y_range_from, 1), \n",
    "                  dtype=np.float32) # numfiles× z × x × y ×1; avoid 64bit types\n",
    "print(ADimages.shape)\n",
    "\n",
    "# Actually load nifti files into array\n",
    "for i in range(ADnumfiles):   # for loop over files and load\n",
    "    if (i % 20 == 0):\n",
    "        print('Loading file %d of %d' % (i+1, ADnumfiles))\n",
    "    ADimg = nib.load(ADFiles[i])\n",
    "    ADimg = ADimg.get_fdata()[x_range_from:x_range_to, y_range_from:y_range_to, z_range_from:z_range_to]\n",
    "    ADimg = np.transpose(ADimg, (2, 0, 1)) # reorder dimensions to match coronal view z*x*y in MRIcron etc.\n",
    "    #print(img.shape)\n",
    "    ADimg = np.flip(ADimg)\n",
    "    ADimages[i, :,:,:, 0] = np.nan_to_num(ADimg)\n",
    "print('Successfully loaded files')\n",
    "print('Image array size: ', ADimages.shape)\n",
    "\n",
    "#y_label for AD\n",
    "labelAD=np.full(len(ADimages),1)\n",
    "print('LabelAD size: ', labelAD.shape)\n"
   ]
  },
  {
   "cell_type": "markdown",
   "metadata": {
    "id": "pj7IpwK-e_5d"
   },
   "source": [
    "# Loading CN Images"
   ]
  },
  {
   "cell_type": "code",
   "execution_count": 6,
   "metadata": {
    "colab": {
     "base_uri": "https://localhost:8080/"
    },
    "id": "VWZ6gxAle2pC",
    "outputId": "82a1cb2e-a316-460c-bff8-b9fff075a8a0"
   },
   "outputs": [
    {
     "name": "stdout",
     "output_type": "stream",
     "text": [
      "Found  254  nifti files\n",
      "(254, 100, 100, 55, 1)\n",
      "Loading file 1 of 254\n",
      "Loading file 21 of 254\n",
      "Loading file 41 of 254\n",
      "Loading file 61 of 254\n",
      "Loading file 81 of 254\n",
      "Loading file 101 of 254\n",
      "Loading file 121 of 254\n",
      "Loading file 141 of 254\n",
      "Loading file 161 of 254\n",
      "Loading file 181 of 254\n",
      "Loading file 201 of 254\n",
      "Loading file 221 of 254\n",
      "Loading file 241 of 254\n",
      "Successfully loaded files\n",
      "Image array size:  (254, 100, 100, 55, 1)\n",
      "LabelCN size:  (254,)\n",
      "LabelCNN size:  (254,)\n"
     ]
    }
   ],
   "source": [
    "CN = glob.glob(r'/content/drive/My Drive/ADNI_full/CN/*.nii.gz')\n",
    "CNFiles = CN\n",
    "CNnumfiles = len(CNFiles)\n",
    "\n",
    "\n",
    "\n",
    "x_range_from = 10; x_range_to = 110\n",
    "y_range_from = 40; y_range_to = 95\n",
    "z_range_from = 5; z_range_to = 105\n",
    "CNimages = np.zeros((CNnumfiles, z_range_to-z_range_from, x_range_to-x_range_from, y_range_to-y_range_from, 1), \n",
    "                  dtype=np.float32) # numfiles× z × x × y ×1; avoid 64bit types\n",
    "print(CNimages.shape)\n",
    "\n",
    "# Actually load nifti files into array\n",
    "for i in range(CNnumfiles):   # for loop over files and load\n",
    "    if (i % 20 == 0):\n",
    "        print('Loading file %d of %d' % (i+1, CNnumfiles))\n",
    "    CNimg = nib.load(CNFiles[i])\n",
    "    CNimg = CNimg.get_fdata()[x_range_from:x_range_to, y_range_from:y_range_to, z_range_from:z_range_to]\n",
    "    CNimg = np.transpose(CNimg, (2, 0, 1)) # reorder dimensions to match coronal view z*x*y in MRIcron etc.\n",
    "    CNimg = np.flip(CNimg) # flip all positions\n",
    "    #print(img.shape)\n",
    "    CNimages[i, :,:,:, 0] = np.nan_to_num(CNimg)\n",
    "print('Successfully loaded files')\n",
    "print('Image array size: ', CNimages.shape)\n",
    "#y_label for CN\n",
    "labelCN=np.full(len(CNimages),0)\n",
    "print('LabelCN size: ', labelCN.shape)\n"
   ]
  },
  {
   "cell_type": "code",
   "execution_count": null,
   "metadata": {
    "colab": {
     "base_uri": "https://localhost:8080/"
    },
    "id": "CCOO1XmRfLLm",
    "outputId": "ba029f6e-a92f-4045-d11e-41ef3339fc4f"
   },
   "outputs": [],
   "source": [
    "#Concatenation of training data\n",
    "X=np.concatenate((CNimages, ADimages), axis=0)\n",
    "print('x data of train size: ', X.shape)\n",
    "y=np.concatenate((labelCN,labelAD), axis=0)\n",
    "print('y data in  of train size: ', y.shape)"
   ]
  },
  {
   "cell_type": "code",
   "execution_count": 11,
   "metadata": {
    "id": "NOEQTevyf3Dw"
   },
   "outputs": [],
   "source": [
    "with open(\"Images_labels.txt\", \"wb\") as fp:   #Pickling\n",
    "    pickle.dump(X, fp)\n",
    "    pickle.dump(y, fp)"
   ]
  },
  {
   "cell_type": "code",
   "execution_count": null,
   "metadata": {
    "id": "oqzG2GmIf_IE"
   },
   "outputs": [],
   "source": []
  },
  {
   "cell_type": "markdown",
   "metadata": {
    "id": "BvvVe0wngMUV"
   },
   "source": []
  }
 ],
 "metadata": {
  "colab": {
   "name": "Data_Prepration_ADNI.ipynb",
   "provenance": []
  },
  "kernelspec": {
   "display_name": "Python 3",
   "language": "python",
   "name": "python3"
  },
  "language_info": {
   "codemirror_mode": {
    "name": "ipython",
    "version": 3
   },
   "file_extension": ".py",
   "mimetype": "text/x-python",
   "name": "python",
   "nbconvert_exporter": "python",
   "pygments_lexer": "ipython3",
   "version": "3.8.8"
  }
 },
 "nbformat": 4,
 "nbformat_minor": 1
}
