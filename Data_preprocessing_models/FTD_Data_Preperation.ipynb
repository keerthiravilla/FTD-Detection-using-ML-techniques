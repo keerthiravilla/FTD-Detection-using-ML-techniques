{
 "cells": [
  {
   "cell_type": "markdown",
   "id": "eeb23245",
   "metadata": {},
   "source": [
    "# Loading CN Samples"
   ]
  },
  {
   "cell_type": "code",
   "execution_count": 17,
   "id": "f55cceb4",
   "metadata": {},
   "outputs": [],
   "source": [
    "#Binary Classification\n",
    "import nibabel as nib\n",
    "import numpy as np\n",
    "import zipfile\n",
    "import nibabel as nib\n",
    "import torch\n",
    "import torch.nn as nn\n",
    "import torch.nn.functional as F\n",
    "from torchvision.utils import make_grid\n",
    "import numpy as np\n",
    "import pandas as pd\n",
    "import pickle\n",
    "from sklearn.metrics import confusion_matrix\n",
    "import matplotlib.pyplot as plt\n",
    "import glob\n",
    "from torch.autograd import Variable\n",
    "from torchvision import models\n",
    "from torch.nn import Module,  Linear, ReLU, CrossEntropyLoss, Sequential, Conv3d, MaxPool3d, Softmax, BatchNorm3d\n",
    "from torch.optim import Adam\n",
    "from tqdm import tqdm\n",
    "from sklearn.metrics import accuracy_score\n",
    "import seaborn as sn\n",
    "import torch.optim as optim\n",
    "from torchsummary import summary\n",
    "%matplotlib inline"
   ]
  },
  {
   "cell_type": "code",
   "execution_count": 30,
   "id": "9133e31f",
   "metadata": {},
   "outputs": [
    {
     "name": "stdout",
     "output_type": "stream",
     "text": [
      "The total number of nifti files: 133\n",
      "(133, 100, 100, 55, 1)\n",
      "Loading file 1 of 133\n",
      "Loading file 11 of 133\n",
      "Loading file 21 of 133\n",
      "Loading file 31 of 133\n",
      "Loading file 41 of 133\n",
      "Loading file 51 of 133\n",
      "Loading file 61 of 133\n",
      "Loading file 71 of 133\n",
      "Loading file 81 of 133\n",
      "Loading file 91 of 133\n",
      "Loading file 101 of 133\n",
      "Loading file 111 of 133\n",
      "Loading file 121 of 133\n",
      "Loading file 131 of 133\n",
      "Loaded files sucessfully\n",
      "Image array size: (133, 100, 100, 55, 1)\n",
      "label_CN_ftd (133,)\n",
      "label_CN_ftd (133,)\n"
     ]
    }
   ],
   "source": [
    "CN_ftd = glob.glob(r'D:\\Master_Thesis_DZNE\\Dataset_FTD\\NIFD-20220204T163127Z-001\\NIFD\\FTD_Dataset\\CN\\*.nii')\n",
    "CNftd_files = CN_ftd\n",
    "CNfiles = len(CNftd_files)\n",
    "print('The total number of nifti files:', str(CNfiles))\n",
    "x_range_from = 10; x_range_to = 110\n",
    "y_range_from = 40; y_range_to = 95\n",
    "z_range_from = 5; z_range_to = 105\n",
    "\n",
    "CN_ftd_images = np.zeros((CNfiles, z_range_to-z_range_from,x_range_to-x_range_from, y_range_to-y_range_from,1), \n",
    "                dtype=np.float32)\n",
    "print(CN_ftd_images.shape)\n",
    "#Load nifti files into array\n",
    "\n",
    "for i in  range(CNfiles):\n",
    "    if(i%10==0):\n",
    "        print('Loading file %d of %d' % (i+1, CNfiles))\n",
    "    CN_ftd_img = nib.load(CNftd_files[i])\n",
    "    CN_ftd_img = CN_ftd_img.get_fdata()[x_range_from:x_range_to, y_range_from:y_range_to, z_range_from:z_range_to]\n",
    "    CN_ftd_img = np.transpose(CN_ftd_img, (2,0,1))\n",
    "    CN_ftd_img = np.flip(CN_ftd_img)\n",
    "    \n",
    "    CN_ftd_images[i, :,:,:, 0] = np.nan_to_num(CN_ftd_img)\n",
    "print('Loaded files sucessfully')\n",
    "print('Image array size:', CN_ftd_images.shape)\n",
    "\n",
    "#Making y-labels\n",
    "label_CN_ftd = np.full(len(CN_ftd_images),0)\n",
    "print('label_CN_ftd', label_CN_ftd.shape)\n",
    "label_CN_ftd = np.full((len(CN_ftd_images),),0)\n",
    "print('label_CN_ftd', label_CN_ftd.shape)\n",
    "    \n"
   ]
  },
  {
   "cell_type": "markdown",
   "id": "4e075387",
   "metadata": {},
   "source": [
    "# Loading FT Samples"
   ]
  },
  {
   "cell_type": "code",
   "execution_count": 26,
   "id": "8546e926",
   "metadata": {},
   "outputs": [
    {
     "name": "stdout",
     "output_type": "stream",
     "text": [
      "The total number of nifti files: 146\n",
      "(146, 100, 100, 55, 1)\n",
      "Loading file 1 of 146\n",
      "Loading file 11 of 146\n",
      "Loading file 21 of 146\n",
      "Loading file 31 of 146\n",
      "Loading file 41 of 146\n",
      "Loading file 51 of 146\n",
      "Loading file 61 of 146\n",
      "Loading file 71 of 146\n",
      "Loading file 81 of 146\n",
      "Loading file 91 of 146\n",
      "Loading file 101 of 146\n",
      "Loading file 111 of 146\n",
      "Loading file 121 of 146\n",
      "Loading file 131 of 146\n",
      "Loading file 141 of 146\n",
      "Loaded files sucessfully\n",
      "Image array size: (146, 100, 100, 55, 1)\n",
      "FT_labels: (146,)\n",
      "FT_labels (146,)\n"
     ]
    }
   ],
   "source": [
    "ft_samples = glob.glob(r'D:\\Master_Thesis_DZNE\\Dataset_FTD\\NIFD-20220204T163127Z-001\\NIFD\\FTD_Dataset\\FTD\\*.nii')\n",
    "ft_files = ft_samples\n",
    "ft_num_files = len(ft_files)\n",
    "\n",
    "print('The total number of nifti files:', str(ft_num_files))\n",
    "\n",
    "x_range_from = 10; x_range_to = 110\n",
    "y_range_from = 40 ; y_range_to = 95\n",
    "z_range_from = 5; z_range_to = 105\n",
    "\n",
    "FTimages = np.zeros((ft_num_files, z_range_to-z_range_from, x_range_to-x_range_from,y_range_to-y_range_from,1),\n",
    "                    dtype=np.float32)\n",
    "print(FTimages.shape)\n",
    "#Load nifti files into array\n",
    "for i in range(ft_num_files):\n",
    "    if (i%10==0):\n",
    "        print('Loading file %d of %d' % (i+1, ft_num_files))\n",
    "    FT_img = nib.load(ft_files[i])\n",
    "    FT_img = FT_img.get_fdata()[x_range_from:x_range_to,y_range_from:y_range_to,z_range_from:z_range_to]\n",
    "    FT_img = np.transpose(FT_img,(2,0,1))\n",
    "    FT_img = np.flip(FT_img)\n",
    "    \n",
    "    FTimages[i, :,:,:, 0] = np.nan_to_num(FT_img)\n",
    "print('Loaded files sucessfully')\n",
    "print('Image array size:', FTimages.shape)\n",
    "\n",
    "#y_labels for FT samples\n",
    "FT_labels = np.full(len(FTimages),1)\n",
    "print('FT_labels:', FT_labels.shape)\n",
    "FT_labels = np.full((len(FTimages),),1)\n",
    "print('FT_labels', FT_labels.shape)\n"
   ]
  },
  {
   "cell_type": "code",
   "execution_count": 31,
   "id": "95395eb0",
   "metadata": {},
   "outputs": [
    {
     "name": "stdout",
     "output_type": "stream",
     "text": [
      "x data of train size:  (279, 100, 100, 55, 1)\n",
      "y data in  of train size:  (279,)\n"
     ]
    }
   ],
   "source": [
    "#Concatenation of training data\n",
    "X=np.concatenate((CN_ftd_images, FTimages), axis=0)\n",
    "print('x data of train size: ', X.shape)\n",
    "y=np.concatenate((label_CN_ftd,FT_labels), axis=0)\n",
    "print('y data in  of train size: ', y.shape)"
   ]
  },
  {
   "cell_type": "code",
   "execution_count": 32,
   "id": "236cba05",
   "metadata": {},
   "outputs": [],
   "source": [
    "with open(\"FTD_Images.txt\", \"wb\") as fp:   #Pickling\n",
    "    pickle.dump(X, fp)\n",
    "    pickle.dump(y, fp)"
   ]
  },
  {
   "cell_type": "code",
   "execution_count": 33,
   "id": "6fc95c92",
   "metadata": {},
   "outputs": [
    {
     "data": {
      "text/plain": [
       "((279, 100, 100, 55, 1), (279,))"
      ]
     },
     "execution_count": 33,
     "metadata": {},
     "output_type": "execute_result"
    }
   ],
   "source": [
    "X.shape, y.shape"
   ]
  },
  {
   "cell_type": "code",
   "execution_count": 34,
   "id": "47ed0e51",
   "metadata": {},
   "outputs": [
    {
     "data": {
      "text/plain": [
       "(dtype('float32'), dtype('int32'))"
      ]
     },
     "execution_count": 34,
     "metadata": {},
     "output_type": "execute_result"
    }
   ],
   "source": [
    "X.dtype, y.dtype"
   ]
  },
  {
   "cell_type": "code",
   "execution_count": null,
   "id": "62c7022f",
   "metadata": {},
   "outputs": [],
   "source": []
  }
 ],
 "metadata": {
  "kernelspec": {
   "display_name": "Python 3",
   "language": "python",
   "name": "python3"
  },
  "language_info": {
   "codemirror_mode": {
    "name": "ipython",
    "version": 3
   },
   "file_extension": ".py",
   "mimetype": "text/x-python",
   "name": "python",
   "nbconvert_exporter": "python",
   "pygments_lexer": "ipython3",
   "version": "3.8.8"
  }
 },
 "nbformat": 4,
 "nbformat_minor": 5
}
