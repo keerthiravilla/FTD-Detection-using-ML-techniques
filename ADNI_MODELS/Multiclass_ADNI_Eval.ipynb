{
 "cells": [
  {
   "cell_type": "code",
   "execution_count": null,
   "metadata": {
    "id": "osPePp7VFF1v"
   },
   "outputs": [],
   "source": []
  },
  {
   "cell_type": "code",
   "execution_count": 1,
   "metadata": {
    "id": "kLf6JX6UuhZu"
   },
   "outputs": [],
   "source": [
    "#Multi-class Classification\n",
    "import zipfile\n",
    "import nibabel as nib\n",
    "import torch\n",
    "import torch.nn as nn\n",
    "import torch.nn.functional as F\n",
    "from torchvision.utils import make_grid\n",
    "import numpy as np\n",
    "import pandas as pd\n",
    "import pickle\n",
    "from sklearn.metrics import confusion_matrix\n",
    "import matplotlib.pyplot as plt\n",
    "import glob\n",
    "from torch.autograd import Variable\n",
    "from torchvision import models\n",
    "from torch.nn import Module,  Linear, ReLU, CrossEntropyLoss, Sequential, Conv3d, MaxPool3d, Softmax, BatchNorm3d\n",
    "from torch.optim import Adam\n",
    "from tqdm import tqdm\n",
    "from sklearn.metrics import accuracy_score\n",
    "import seaborn as sn\n",
    "import torch.optim as optim\n",
    "from sklearn.metrics import accuracy_score\n",
    "from sklearn.metrics import balanced_accuracy_score\n",
    "from sklearn.metrics import matthews_corrcoef\n",
    "from torchsummary import summary\n",
    "\n",
    "%matplotlib inline"
   ]
  },
  {
   "cell_type": "code",
   "execution_count": 2,
   "metadata": {
    "colab": {
     "base_uri": "https://localhost:8080/"
    },
    "id": "vKED_jAHFPWQ",
    "outputId": "5239ecd1-23c7-4f91-e7ef-fe1faead2bb5"
   },
   "outputs": [
    {
     "name": "stdout",
     "output_type": "stream",
     "text": [
      "Mounted at /content/drive/\n"
     ]
    }
   ],
   "source": [
    "from google.colab import drive\n",
    "drive.mount('/content/drive/')"
   ]
  },
  {
   "cell_type": "code",
   "execution_count": 3,
   "metadata": {
    "colab": {
     "base_uri": "https://localhost:8080/"
    },
    "id": "a_8WgXXqFjwl",
    "outputId": "1cfcbf91-3c9d-4acb-ef90-3b35fecf8716"
   },
   "outputs": [
    {
     "name": "stdout",
     "output_type": "stream",
     "text": [
      "There are 4 directories and 0 images in '/content/drive/My Drive/ADNI_full'.\n",
      "There are 0 directories and 189 images in '/content/drive/My Drive/ADNI_full/AD'.\n",
      "There are 0 directories and 220 images in '/content/drive/My Drive/ADNI_full/LMCI'.\n",
      "There are 0 directories and 254 images in '/content/drive/My Drive/ADNI_full/CN'.\n",
      "There are 0 directories and 0 images in '/content/drive/My Drive/ADNI_full/.ipynb_checkpoints'.\n"
     ]
    },
    {
     "data": {
      "text/plain": [
       "0"
      ]
     },
     "execution_count": 3,
     "metadata": {},
     "output_type": "execute_result"
    }
   ],
   "source": [
    "import os\n",
    "#walk through directory and list through files\n",
    "for dirpath, dirnames, filenames in os.walk(\"/content/drive/My Drive/ADNI_full\"):\n",
    "  print(f\"There are {len(dirnames)} directories and {len(filenames)} images in '{dirpath}'.\")\n",
    "len(filenames)\n"
   ]
  },
  {
   "cell_type": "code",
   "execution_count": 4,
   "metadata": {
    "colab": {
     "base_uri": "https://localhost:8080/"
    },
    "id": "s_vW1rF7Fj_e",
    "outputId": "377a3aff-0d57-4e54-e5f4-aeadab26a020"
   },
   "outputs": [
    {
     "name": "stdout",
     "output_type": "stream",
     "text": [
      "['.ipynb_checkpoints' 'AD' 'CN' 'LMCI']\n"
     ]
    }
   ],
   "source": [
    "#Get the class names\n",
    "import numpy as np\n",
    "import pathlib\n",
    "data_dir = pathlib.Path('/content/drive/My Drive/ADNI_full')\n",
    "class_names = np.array(sorted([item.name for item in data_dir.glob('*')]))\n",
    "print(class_names)"
   ]
  },
  {
   "cell_type": "code",
   "execution_count": 5,
   "metadata": {
    "id": "g95JqHAmF9TF"
   },
   "outputs": [],
   "source": [
    "with open(\"/content/drive/MyDrive/Images_ADNI.txt\", 'rb') as fp:\n",
    "  X=pickle.load(fp)\n",
    "  y=pickle.load(fp)"
   ]
  },
  {
   "cell_type": "code",
   "execution_count": 6,
   "metadata": {
    "colab": {
     "base_uri": "https://localhost:8080/"
    },
    "id": "fokm-WD1GEYB",
    "outputId": "c6e52ad2-6c63-4fc9-de9c-b297a05e7474"
   },
   "outputs": [
    {
     "data": {
      "text/plain": [
       "((663, 100, 100, 55, 1), (663,))"
      ]
     },
     "execution_count": 6,
     "metadata": {},
     "output_type": "execute_result"
    }
   ],
   "source": [
    "X.shape, y.shape"
   ]
  },
  {
   "cell_type": "code",
   "execution_count": 7,
   "metadata": {
    "colab": {
     "base_uri": "https://localhost:8080/"
    },
    "id": "nv3-zD2cGHbC",
    "outputId": "600d0a6a-3f67-4add-b11e-9f6abb546adf"
   },
   "outputs": [
    {
     "data": {
      "text/plain": [
       "(torch.Size([663, 100, 100, 55, 1]), torch.float32)"
      ]
     },
     "execution_count": 7,
     "metadata": {},
     "output_type": "execute_result"
    }
   ],
   "source": [
    "X = torch.from_numpy(X)\n",
    "X.shape, X.dtype"
   ]
  },
  {
   "cell_type": "code",
   "execution_count": 8,
   "metadata": {
    "colab": {
     "base_uri": "https://localhost:8080/"
    },
    "id": "4Y8EIbUtGKTD",
    "outputId": "47899699-5de6-4dcd-8acd-78ef5c9357ca"
   },
   "outputs": [
    {
     "data": {
      "text/plain": [
       "torch.Size([663, 1, 100, 100, 55])"
      ]
     },
     "execution_count": 8,
     "metadata": {},
     "output_type": "execute_result"
    }
   ],
   "source": [
    "X=X.reshape(663,1,100,100,55)\n",
    "\n",
    "X.shape"
   ]
  },
  {
   "cell_type": "code",
   "execution_count": 9,
   "metadata": {
    "colab": {
     "base_uri": "https://localhost:8080/"
    },
    "id": "ebiCbjKHGMvl",
    "outputId": "59a9e163-629a-4fa2-9d6d-32ad7073af84"
   },
   "outputs": [
    {
     "data": {
      "text/plain": [
       "torch.Size([663, 3, 100, 100, 55])"
      ]
     },
     "execution_count": 9,
     "metadata": {},
     "output_type": "execute_result"
    }
   ],
   "source": [
    "X=X.expand(-1,3,-1,-1,-1)\n",
    "X.shape"
   ]
  },
  {
   "cell_type": "code",
   "execution_count": 10,
   "metadata": {
    "colab": {
     "base_uri": "https://localhost:8080/"
    },
    "id": "2-0bs6FjGQBg",
    "outputId": "c3c92fd5-68f4-4be2-c886-3df184cc729c"
   },
   "outputs": [
    {
     "data": {
      "text/plain": [
       "(torch.Size([663]), torch.int64)"
      ]
     },
     "execution_count": 10,
     "metadata": {},
     "output_type": "execute_result"
    }
   ],
   "source": [
    "y = torch.from_numpy(y)\n",
    "y.shape, y.dtype"
   ]
  },
  {
   "cell_type": "code",
   "execution_count": 11,
   "metadata": {
    "colab": {
     "base_uri": "https://localhost:8080/"
    },
    "id": "xYBGhIwhGSeb",
    "outputId": "7204577d-9e94-4248-dd86-f244ec3d59c4"
   },
   "outputs": [
    {
     "data": {
      "text/plain": [
       "((torch.Size([530, 3, 100, 100, 55]), torch.Size([530])),\n",
       " (torch.Size([67, 3, 100, 100, 55]), torch.Size([67])),\n",
       " (torch.Size([66, 3, 100, 100, 55]), torch.Size([66])),\n",
       " (torch.float32, torch.int64))"
      ]
     },
     "execution_count": 11,
     "metadata": {},
     "output_type": "execute_result"
    }
   ],
   "source": [
    "from sklearn.model_selection import train_test_split\n",
    "#batch_size=32\n",
    "X_train,X_test_data, y_train,y_test_data =train_test_split(X,y, test_size=0.2,  random_state=42)\n",
    "X_val,X_test,y_val,y_test= train_test_split(X_test_data,y_test_data, test_size=0.5,random_state=42)\n",
    "#X_train, X_test, y_train, y_test,X_val,y_val = X_train.cuda(), X_test.cuda(), y_train.cuda(), y_test.cuda(),X_val.cuda(), y_val.cuda()\n",
    "\n",
    "(X_train.shape, y_train.shape),(X_test.shape, y_test.shape),(X_val.shape,y_val.shape), (X_train.dtype, y_train.dtype)"
   ]
  },
  {
   "cell_type": "code",
   "execution_count": 12,
   "metadata": {
    "id": "itw56kZrGXj4"
   },
   "outputs": [],
   "source": [
    "from torch.utils.data import DataLoader,TensorDataset\n",
    "BATCH_SIZE = 10\n",
    "dataset = TensorDataset(X_train, y_train)\n",
    "dataset1= TensorDataset(X_val, y_val)\n",
    "dataset2 = TensorDataset(X_test, y_test)\n",
    "\n",
    "\n",
    "train_dataloader = DataLoader(dataset, batch_size=BATCH_SIZE, shuffle=True)\n",
    "validation_dataloader= DataLoader(dataset1, batch_size=BATCH_SIZE, shuffle=True)\n",
    "test_dataloader= DataLoader(dataset2,batch_size=BATCH_SIZE, shuffle=False)"
   ]
  },
  {
   "cell_type": "code",
   "execution_count": 13,
   "metadata": {
    "id": "hNgZKzuuGa1L"
   },
   "outputs": [],
   "source": [
    "device = torch.device(\"cuda:0\" if torch.cuda.is_available() else \"cpu\")"
   ]
  },
  {
   "cell_type": "code",
   "execution_count": 14,
   "metadata": {
    "colab": {
     "base_uri": "https://localhost:8080/"
    },
    "id": "0FkHtnS6Gfnp",
    "outputId": "8932dc50-1d37-4243-ab3d-ce4264e178ba"
   },
   "outputs": [
    {
     "name": "stderr",
     "output_type": "stream",
     "text": [
      "Downloading: \"https://download.pytorch.org/models/r3d_18-b3b3357e.pth\" to /root/.cache/torch/hub/checkpoints/r3d_18-b3b3357e.pth\n"
     ]
    }
   ],
   "source": [
    "multiclass_ADNI_finetune = models.video.r3d_18(pretrained=True, progress=False)"
   ]
  },
  {
   "cell_type": "code",
   "execution_count": 15,
   "metadata": {
    "id": "wiCWcrh4GlAJ"
   },
   "outputs": [],
   "source": [
    "multiclass_ADNI_finetune = multiclass_ADNI_finetune.to(device)"
   ]
  },
  {
   "cell_type": "code",
   "execution_count": 16,
   "metadata": {
    "colab": {
     "base_uri": "https://localhost:8080/"
    },
    "id": "PT1TeeSuGsYM",
    "outputId": "0307c094-a592-4792-badf-bf3b7d3aa0ee"
   },
   "outputs": [
    {
     "name": "stdout",
     "output_type": "stream",
     "text": [
      "----------------------------------------------------------------\n",
      "        Layer (type)               Output Shape         Param #\n",
      "================================================================\n",
      "            Conv3d-1      [-1, 64, 100, 50, 28]          28,224\n",
      "       BatchNorm3d-2      [-1, 64, 100, 50, 28]             128\n",
      "              ReLU-3      [-1, 64, 100, 50, 28]               0\n",
      "      Conv3DSimple-4      [-1, 64, 100, 50, 28]         110,592\n",
      "       BatchNorm3d-5      [-1, 64, 100, 50, 28]             128\n",
      "              ReLU-6      [-1, 64, 100, 50, 28]               0\n",
      "      Conv3DSimple-7      [-1, 64, 100, 50, 28]         110,592\n",
      "       BatchNorm3d-8      [-1, 64, 100, 50, 28]             128\n",
      "              ReLU-9      [-1, 64, 100, 50, 28]               0\n",
      "       BasicBlock-10      [-1, 64, 100, 50, 28]               0\n",
      "     Conv3DSimple-11      [-1, 64, 100, 50, 28]         110,592\n",
      "      BatchNorm3d-12      [-1, 64, 100, 50, 28]             128\n",
      "             ReLU-13      [-1, 64, 100, 50, 28]               0\n",
      "     Conv3DSimple-14      [-1, 64, 100, 50, 28]         110,592\n",
      "      BatchNorm3d-15      [-1, 64, 100, 50, 28]             128\n",
      "             ReLU-16      [-1, 64, 100, 50, 28]               0\n",
      "       BasicBlock-17      [-1, 64, 100, 50, 28]               0\n",
      "     Conv3DSimple-18      [-1, 128, 50, 25, 14]         221,184\n",
      "      BatchNorm3d-19      [-1, 128, 50, 25, 14]             256\n",
      "             ReLU-20      [-1, 128, 50, 25, 14]               0\n",
      "     Conv3DSimple-21      [-1, 128, 50, 25, 14]         442,368\n",
      "      BatchNorm3d-22      [-1, 128, 50, 25, 14]             256\n",
      "           Conv3d-23      [-1, 128, 50, 25, 14]           8,192\n",
      "      BatchNorm3d-24      [-1, 128, 50, 25, 14]             256\n",
      "             ReLU-25      [-1, 128, 50, 25, 14]               0\n",
      "       BasicBlock-26      [-1, 128, 50, 25, 14]               0\n",
      "     Conv3DSimple-27      [-1, 128, 50, 25, 14]         442,368\n",
      "      BatchNorm3d-28      [-1, 128, 50, 25, 14]             256\n",
      "             ReLU-29      [-1, 128, 50, 25, 14]               0\n",
      "     Conv3DSimple-30      [-1, 128, 50, 25, 14]         442,368\n",
      "      BatchNorm3d-31      [-1, 128, 50, 25, 14]             256\n",
      "             ReLU-32      [-1, 128, 50, 25, 14]               0\n",
      "       BasicBlock-33      [-1, 128, 50, 25, 14]               0\n",
      "     Conv3DSimple-34       [-1, 256, 25, 13, 7]         884,736\n",
      "      BatchNorm3d-35       [-1, 256, 25, 13, 7]             512\n",
      "             ReLU-36       [-1, 256, 25, 13, 7]               0\n",
      "     Conv3DSimple-37       [-1, 256, 25, 13, 7]       1,769,472\n",
      "      BatchNorm3d-38       [-1, 256, 25, 13, 7]             512\n",
      "           Conv3d-39       [-1, 256, 25, 13, 7]          32,768\n",
      "      BatchNorm3d-40       [-1, 256, 25, 13, 7]             512\n",
      "             ReLU-41       [-1, 256, 25, 13, 7]               0\n",
      "       BasicBlock-42       [-1, 256, 25, 13, 7]               0\n",
      "     Conv3DSimple-43       [-1, 256, 25, 13, 7]       1,769,472\n",
      "      BatchNorm3d-44       [-1, 256, 25, 13, 7]             512\n",
      "             ReLU-45       [-1, 256, 25, 13, 7]               0\n",
      "     Conv3DSimple-46       [-1, 256, 25, 13, 7]       1,769,472\n",
      "      BatchNorm3d-47       [-1, 256, 25, 13, 7]             512\n",
      "             ReLU-48       [-1, 256, 25, 13, 7]               0\n",
      "       BasicBlock-49       [-1, 256, 25, 13, 7]               0\n",
      "     Conv3DSimple-50        [-1, 512, 13, 7, 4]       3,538,944\n",
      "      BatchNorm3d-51        [-1, 512, 13, 7, 4]           1,024\n",
      "             ReLU-52        [-1, 512, 13, 7, 4]               0\n",
      "     Conv3DSimple-53        [-1, 512, 13, 7, 4]       7,077,888\n",
      "      BatchNorm3d-54        [-1, 512, 13, 7, 4]           1,024\n",
      "           Conv3d-55        [-1, 512, 13, 7, 4]         131,072\n",
      "      BatchNorm3d-56        [-1, 512, 13, 7, 4]           1,024\n",
      "             ReLU-57        [-1, 512, 13, 7, 4]               0\n",
      "       BasicBlock-58        [-1, 512, 13, 7, 4]               0\n",
      "     Conv3DSimple-59        [-1, 512, 13, 7, 4]       7,077,888\n",
      "      BatchNorm3d-60        [-1, 512, 13, 7, 4]           1,024\n",
      "             ReLU-61        [-1, 512, 13, 7, 4]               0\n",
      "     Conv3DSimple-62        [-1, 512, 13, 7, 4]       7,077,888\n",
      "      BatchNorm3d-63        [-1, 512, 13, 7, 4]           1,024\n",
      "             ReLU-64        [-1, 512, 13, 7, 4]               0\n",
      "       BasicBlock-65        [-1, 512, 13, 7, 4]               0\n",
      "AdaptiveAvgPool3d-66         [-1, 512, 1, 1, 1]               0\n",
      "           Linear-67                  [-1, 400]         205,200\n",
      "================================================================\n",
      "Total params: 33,371,472\n",
      "Trainable params: 33,371,472\n",
      "Non-trainable params: 0\n",
      "----------------------------------------------------------------\n",
      "Input size (MB): 6.29\n",
      "Forward/backward pass size (MB): 1529.40\n",
      "Params size (MB): 127.30\n",
      "Estimated Total Size (MB): 1662.99\n",
      "----------------------------------------------------------------\n"
     ]
    }
   ],
   "source": [
    "summary(multiclass_ADNI_finetune, (3, 100, 100,55))"
   ]
  },
  {
   "cell_type": "code",
   "execution_count": 17,
   "metadata": {
    "colab": {
     "base_uri": "https://localhost:8080/"
    },
    "id": "o1CPagQfGw_f",
    "outputId": "8aea88cd-eca7-4158-b50b-01c7293ebfe6"
   },
   "outputs": [
    {
     "name": "stdout",
     "output_type": "stream",
     "text": [
      "VideoResNet(\n",
      "  (stem): BasicStem(\n",
      "    (0): Conv3d(3, 64, kernel_size=(3, 7, 7), stride=(1, 2, 2), padding=(1, 3, 3), bias=False)\n",
      "    (1): BatchNorm3d(64, eps=1e-05, momentum=0.1, affine=True, track_running_stats=True)\n",
      "    (2): ReLU(inplace=True)\n",
      "  )\n",
      "  (layer1): Sequential(\n",
      "    (0): BasicBlock(\n",
      "      (conv1): Sequential(\n",
      "        (0): Conv3DSimple(64, 64, kernel_size=(3, 3, 3), stride=(1, 1, 1), padding=(1, 1, 1), bias=False)\n",
      "        (1): BatchNorm3d(64, eps=1e-05, momentum=0.1, affine=True, track_running_stats=True)\n",
      "        (2): ReLU(inplace=True)\n",
      "      )\n",
      "      (conv2): Sequential(\n",
      "        (0): Conv3DSimple(64, 64, kernel_size=(3, 3, 3), stride=(1, 1, 1), padding=(1, 1, 1), bias=False)\n",
      "        (1): BatchNorm3d(64, eps=1e-05, momentum=0.1, affine=True, track_running_stats=True)\n",
      "      )\n",
      "      (relu): ReLU(inplace=True)\n",
      "    )\n",
      "    (1): BasicBlock(\n",
      "      (conv1): Sequential(\n",
      "        (0): Conv3DSimple(64, 64, kernel_size=(3, 3, 3), stride=(1, 1, 1), padding=(1, 1, 1), bias=False)\n",
      "        (1): BatchNorm3d(64, eps=1e-05, momentum=0.1, affine=True, track_running_stats=True)\n",
      "        (2): ReLU(inplace=True)\n",
      "      )\n",
      "      (conv2): Sequential(\n",
      "        (0): Conv3DSimple(64, 64, kernel_size=(3, 3, 3), stride=(1, 1, 1), padding=(1, 1, 1), bias=False)\n",
      "        (1): BatchNorm3d(64, eps=1e-05, momentum=0.1, affine=True, track_running_stats=True)\n",
      "      )\n",
      "      (relu): ReLU(inplace=True)\n",
      "    )\n",
      "  )\n",
      "  (layer2): Sequential(\n",
      "    (0): BasicBlock(\n",
      "      (conv1): Sequential(\n",
      "        (0): Conv3DSimple(64, 128, kernel_size=(3, 3, 3), stride=(2, 2, 2), padding=(1, 1, 1), bias=False)\n",
      "        (1): BatchNorm3d(128, eps=1e-05, momentum=0.1, affine=True, track_running_stats=True)\n",
      "        (2): ReLU(inplace=True)\n",
      "      )\n",
      "      (conv2): Sequential(\n",
      "        (0): Conv3DSimple(128, 128, kernel_size=(3, 3, 3), stride=(1, 1, 1), padding=(1, 1, 1), bias=False)\n",
      "        (1): BatchNorm3d(128, eps=1e-05, momentum=0.1, affine=True, track_running_stats=True)\n",
      "      )\n",
      "      (relu): ReLU(inplace=True)\n",
      "      (downsample): Sequential(\n",
      "        (0): Conv3d(64, 128, kernel_size=(1, 1, 1), stride=(2, 2, 2), bias=False)\n",
      "        (1): BatchNorm3d(128, eps=1e-05, momentum=0.1, affine=True, track_running_stats=True)\n",
      "      )\n",
      "    )\n",
      "    (1): BasicBlock(\n",
      "      (conv1): Sequential(\n",
      "        (0): Conv3DSimple(128, 128, kernel_size=(3, 3, 3), stride=(1, 1, 1), padding=(1, 1, 1), bias=False)\n",
      "        (1): BatchNorm3d(128, eps=1e-05, momentum=0.1, affine=True, track_running_stats=True)\n",
      "        (2): ReLU(inplace=True)\n",
      "      )\n",
      "      (conv2): Sequential(\n",
      "        (0): Conv3DSimple(128, 128, kernel_size=(3, 3, 3), stride=(1, 1, 1), padding=(1, 1, 1), bias=False)\n",
      "        (1): BatchNorm3d(128, eps=1e-05, momentum=0.1, affine=True, track_running_stats=True)\n",
      "      )\n",
      "      (relu): ReLU(inplace=True)\n",
      "    )\n",
      "  )\n",
      "  (layer3): Sequential(\n",
      "    (0): BasicBlock(\n",
      "      (conv1): Sequential(\n",
      "        (0): Conv3DSimple(128, 256, kernel_size=(3, 3, 3), stride=(2, 2, 2), padding=(1, 1, 1), bias=False)\n",
      "        (1): BatchNorm3d(256, eps=1e-05, momentum=0.1, affine=True, track_running_stats=True)\n",
      "        (2): ReLU(inplace=True)\n",
      "      )\n",
      "      (conv2): Sequential(\n",
      "        (0): Conv3DSimple(256, 256, kernel_size=(3, 3, 3), stride=(1, 1, 1), padding=(1, 1, 1), bias=False)\n",
      "        (1): BatchNorm3d(256, eps=1e-05, momentum=0.1, affine=True, track_running_stats=True)\n",
      "      )\n",
      "      (relu): ReLU(inplace=True)\n",
      "      (downsample): Sequential(\n",
      "        (0): Conv3d(128, 256, kernel_size=(1, 1, 1), stride=(2, 2, 2), bias=False)\n",
      "        (1): BatchNorm3d(256, eps=1e-05, momentum=0.1, affine=True, track_running_stats=True)\n",
      "      )\n",
      "    )\n",
      "    (1): BasicBlock(\n",
      "      (conv1): Sequential(\n",
      "        (0): Conv3DSimple(256, 256, kernel_size=(3, 3, 3), stride=(1, 1, 1), padding=(1, 1, 1), bias=False)\n",
      "        (1): BatchNorm3d(256, eps=1e-05, momentum=0.1, affine=True, track_running_stats=True)\n",
      "        (2): ReLU(inplace=True)\n",
      "      )\n",
      "      (conv2): Sequential(\n",
      "        (0): Conv3DSimple(256, 256, kernel_size=(3, 3, 3), stride=(1, 1, 1), padding=(1, 1, 1), bias=False)\n",
      "        (1): BatchNorm3d(256, eps=1e-05, momentum=0.1, affine=True, track_running_stats=True)\n",
      "      )\n",
      "      (relu): ReLU(inplace=True)\n",
      "    )\n",
      "  )\n",
      "  (layer4): Sequential(\n",
      "    (0): BasicBlock(\n",
      "      (conv1): Sequential(\n",
      "        (0): Conv3DSimple(256, 512, kernel_size=(3, 3, 3), stride=(2, 2, 2), padding=(1, 1, 1), bias=False)\n",
      "        (1): BatchNorm3d(512, eps=1e-05, momentum=0.1, affine=True, track_running_stats=True)\n",
      "        (2): ReLU(inplace=True)\n",
      "      )\n",
      "      (conv2): Sequential(\n",
      "        (0): Conv3DSimple(512, 512, kernel_size=(3, 3, 3), stride=(1, 1, 1), padding=(1, 1, 1), bias=False)\n",
      "        (1): BatchNorm3d(512, eps=1e-05, momentum=0.1, affine=True, track_running_stats=True)\n",
      "      )\n",
      "      (relu): ReLU(inplace=True)\n",
      "      (downsample): Sequential(\n",
      "        (0): Conv3d(256, 512, kernel_size=(1, 1, 1), stride=(2, 2, 2), bias=False)\n",
      "        (1): BatchNorm3d(512, eps=1e-05, momentum=0.1, affine=True, track_running_stats=True)\n",
      "      )\n",
      "    )\n",
      "    (1): BasicBlock(\n",
      "      (conv1): Sequential(\n",
      "        (0): Conv3DSimple(512, 512, kernel_size=(3, 3, 3), stride=(1, 1, 1), padding=(1, 1, 1), bias=False)\n",
      "        (1): BatchNorm3d(512, eps=1e-05, momentum=0.1, affine=True, track_running_stats=True)\n",
      "        (2): ReLU(inplace=True)\n",
      "      )\n",
      "      (conv2): Sequential(\n",
      "        (0): Conv3DSimple(512, 512, kernel_size=(3, 3, 3), stride=(1, 1, 1), padding=(1, 1, 1), bias=False)\n",
      "        (1): BatchNorm3d(512, eps=1e-05, momentum=0.1, affine=True, track_running_stats=True)\n",
      "      )\n",
      "      (relu): ReLU(inplace=True)\n",
      "    )\n",
      "  )\n",
      "  (avgpool): AdaptiveAvgPool3d(output_size=(1, 1, 1))\n",
      "  (fc): Linear(in_features=512, out_features=400, bias=True)\n",
      ")\n"
     ]
    }
   ],
   "source": [
    "print(multiclass_ADNI_finetune)"
   ]
  },
  {
   "cell_type": "code",
   "execution_count": 19,
   "metadata": {
    "colab": {
     "base_uri": "https://localhost:8080/"
    },
    "id": "8X5U7rwpG4bb",
    "outputId": "35b9cea5-5aab-4f76-fe22-656429692b8f"
   },
   "outputs": [
    {
     "data": {
      "text/plain": [
       "Sequential(\n",
       "  (0): BasicBlock(\n",
       "    (conv1): Sequential(\n",
       "      (0): Conv3DSimple(256, 512, kernel_size=(3, 3, 3), stride=(2, 2, 2), padding=(1, 1, 1), bias=False)\n",
       "      (1): BatchNorm3d(512, eps=1e-05, momentum=0.1, affine=True, track_running_stats=True)\n",
       "      (2): ReLU(inplace=True)\n",
       "    )\n",
       "    (conv2): Sequential(\n",
       "      (0): Conv3DSimple(512, 512, kernel_size=(3, 3, 3), stride=(1, 1, 1), padding=(1, 1, 1), bias=False)\n",
       "      (1): BatchNorm3d(512, eps=1e-05, momentum=0.1, affine=True, track_running_stats=True)\n",
       "    )\n",
       "    (relu): ReLU(inplace=True)\n",
       "    (downsample): Sequential(\n",
       "      (0): Conv3d(256, 512, kernel_size=(1, 1, 1), stride=(2, 2, 2), bias=False)\n",
       "      (1): BatchNorm3d(512, eps=1e-05, momentum=0.1, affine=True, track_running_stats=True)\n",
       "    )\n",
       "  )\n",
       "  (1): BasicBlock(\n",
       "    (conv1): Sequential(\n",
       "      (0): Conv3DSimple(512, 512, kernel_size=(3, 3, 3), stride=(1, 1, 1), padding=(1, 1, 1), bias=False)\n",
       "      (1): BatchNorm3d(512, eps=1e-05, momentum=0.1, affine=True, track_running_stats=True)\n",
       "      (2): ReLU(inplace=True)\n",
       "    )\n",
       "    (conv2): Sequential(\n",
       "      (0): Conv3DSimple(512, 512, kernel_size=(3, 3, 3), stride=(1, 1, 1), padding=(1, 1, 1), bias=False)\n",
       "      (1): BatchNorm3d(512, eps=1e-05, momentum=0.1, affine=True, track_running_stats=True)\n",
       "    )\n",
       "    (relu): ReLU(inplace=True)\n",
       "  )\n",
       ")"
      ]
     },
     "execution_count": 19,
     "metadata": {},
     "output_type": "execute_result"
    }
   ],
   "source": [
    "multiclass_ADNI_finetune.layer4"
   ]
  },
  {
   "cell_type": "code",
   "execution_count": 20,
   "metadata": {
    "id": "MupQntJvG93C"
   },
   "outputs": [],
   "source": [
    "for param in multiclass_ADNI_finetune.layer4.parameters():\n",
    "    param.requires_grad = False"
   ]
  },
  {
   "cell_type": "code",
   "execution_count": 21,
   "metadata": {
    "id": "9JMsGDS6HJWj"
   },
   "outputs": [],
   "source": [
    "multiclass_ADNI_finetune.fc =  nn.Sequential(\n",
    "            nn.Linear(512, 512),\n",
    "            nn.LeakyReLU(inplace=True),\n",
    "            nn.Dropout(),\n",
    "            nn.Linear(512, 3),\n",
    "            )\n",
    "for param in multiclass_ADNI_finetune.fc.parameters():\n",
    "    param.requires_grad = True"
   ]
  },
  {
   "cell_type": "code",
   "execution_count": 22,
   "metadata": {
    "id": "u2HU-oLmHRcz"
   },
   "outputs": [],
   "source": [
    "criterion = nn.CrossEntropyLoss()\n",
    "optimizer = optim.Adam(multiclass_ADNI_finetune.fc.parameters(), lr=0.0001) #Learning rate must be low due to finetunning"
   ]
  },
  {
   "cell_type": "code",
   "execution_count": 23,
   "metadata": {
    "colab": {
     "base_uri": "https://localhost:8080/"
    },
    "id": "TjxfTrrlHWLc",
    "outputId": "f17912d0-2951-4c27-99de-a609be5c0902"
   },
   "outputs": [
    {
     "name": "stdout",
     "output_type": "stream",
     "text": [
      "----------------------------------------------------------------\n",
      "        Layer (type)               Output Shape         Param #\n",
      "================================================================\n",
      "            Conv3d-1      [-1, 64, 100, 50, 28]          28,224\n",
      "       BatchNorm3d-2      [-1, 64, 100, 50, 28]             128\n",
      "              ReLU-3      [-1, 64, 100, 50, 28]               0\n",
      "      Conv3DSimple-4      [-1, 64, 100, 50, 28]         110,592\n",
      "       BatchNorm3d-5      [-1, 64, 100, 50, 28]             128\n",
      "              ReLU-6      [-1, 64, 100, 50, 28]               0\n",
      "      Conv3DSimple-7      [-1, 64, 100, 50, 28]         110,592\n",
      "       BatchNorm3d-8      [-1, 64, 100, 50, 28]             128\n",
      "              ReLU-9      [-1, 64, 100, 50, 28]               0\n",
      "       BasicBlock-10      [-1, 64, 100, 50, 28]               0\n",
      "     Conv3DSimple-11      [-1, 64, 100, 50, 28]         110,592\n",
      "      BatchNorm3d-12      [-1, 64, 100, 50, 28]             128\n",
      "             ReLU-13      [-1, 64, 100, 50, 28]               0\n",
      "     Conv3DSimple-14      [-1, 64, 100, 50, 28]         110,592\n",
      "      BatchNorm3d-15      [-1, 64, 100, 50, 28]             128\n",
      "             ReLU-16      [-1, 64, 100, 50, 28]               0\n",
      "       BasicBlock-17      [-1, 64, 100, 50, 28]               0\n",
      "     Conv3DSimple-18      [-1, 128, 50, 25, 14]         221,184\n",
      "      BatchNorm3d-19      [-1, 128, 50, 25, 14]             256\n",
      "             ReLU-20      [-1, 128, 50, 25, 14]               0\n",
      "     Conv3DSimple-21      [-1, 128, 50, 25, 14]         442,368\n",
      "      BatchNorm3d-22      [-1, 128, 50, 25, 14]             256\n",
      "           Conv3d-23      [-1, 128, 50, 25, 14]           8,192\n",
      "      BatchNorm3d-24      [-1, 128, 50, 25, 14]             256\n",
      "             ReLU-25      [-1, 128, 50, 25, 14]               0\n",
      "       BasicBlock-26      [-1, 128, 50, 25, 14]               0\n",
      "     Conv3DSimple-27      [-1, 128, 50, 25, 14]         442,368\n",
      "      BatchNorm3d-28      [-1, 128, 50, 25, 14]             256\n",
      "             ReLU-29      [-1, 128, 50, 25, 14]               0\n",
      "     Conv3DSimple-30      [-1, 128, 50, 25, 14]         442,368\n",
      "      BatchNorm3d-31      [-1, 128, 50, 25, 14]             256\n",
      "             ReLU-32      [-1, 128, 50, 25, 14]               0\n",
      "       BasicBlock-33      [-1, 128, 50, 25, 14]               0\n",
      "     Conv3DSimple-34       [-1, 256, 25, 13, 7]         884,736\n",
      "      BatchNorm3d-35       [-1, 256, 25, 13, 7]             512\n",
      "             ReLU-36       [-1, 256, 25, 13, 7]               0\n",
      "     Conv3DSimple-37       [-1, 256, 25, 13, 7]       1,769,472\n",
      "      BatchNorm3d-38       [-1, 256, 25, 13, 7]             512\n",
      "           Conv3d-39       [-1, 256, 25, 13, 7]          32,768\n",
      "      BatchNorm3d-40       [-1, 256, 25, 13, 7]             512\n",
      "             ReLU-41       [-1, 256, 25, 13, 7]               0\n",
      "       BasicBlock-42       [-1, 256, 25, 13, 7]               0\n",
      "     Conv3DSimple-43       [-1, 256, 25, 13, 7]       1,769,472\n",
      "      BatchNorm3d-44       [-1, 256, 25, 13, 7]             512\n",
      "             ReLU-45       [-1, 256, 25, 13, 7]               0\n",
      "     Conv3DSimple-46       [-1, 256, 25, 13, 7]       1,769,472\n",
      "      BatchNorm3d-47       [-1, 256, 25, 13, 7]             512\n",
      "             ReLU-48       [-1, 256, 25, 13, 7]               0\n",
      "       BasicBlock-49       [-1, 256, 25, 13, 7]               0\n",
      "     Conv3DSimple-50        [-1, 512, 13, 7, 4]       3,538,944\n",
      "      BatchNorm3d-51        [-1, 512, 13, 7, 4]           1,024\n",
      "             ReLU-52        [-1, 512, 13, 7, 4]               0\n",
      "     Conv3DSimple-53        [-1, 512, 13, 7, 4]       7,077,888\n",
      "      BatchNorm3d-54        [-1, 512, 13, 7, 4]           1,024\n",
      "           Conv3d-55        [-1, 512, 13, 7, 4]         131,072\n",
      "      BatchNorm3d-56        [-1, 512, 13, 7, 4]           1,024\n",
      "             ReLU-57        [-1, 512, 13, 7, 4]               0\n",
      "       BasicBlock-58        [-1, 512, 13, 7, 4]               0\n",
      "     Conv3DSimple-59        [-1, 512, 13, 7, 4]       7,077,888\n",
      "      BatchNorm3d-60        [-1, 512, 13, 7, 4]           1,024\n",
      "             ReLU-61        [-1, 512, 13, 7, 4]               0\n",
      "     Conv3DSimple-62        [-1, 512, 13, 7, 4]       7,077,888\n",
      "      BatchNorm3d-63        [-1, 512, 13, 7, 4]           1,024\n",
      "             ReLU-64        [-1, 512, 13, 7, 4]               0\n",
      "       BasicBlock-65        [-1, 512, 13, 7, 4]               0\n",
      "AdaptiveAvgPool3d-66         [-1, 512, 1, 1, 1]               0\n",
      "           Linear-67                  [-1, 512]         262,656\n",
      "        LeakyReLU-68                  [-1, 512]               0\n",
      "          Dropout-69                  [-1, 512]               0\n",
      "           Linear-70                    [-1, 3]           1,539\n",
      "================================================================\n",
      "Total params: 33,430,467\n",
      "Trainable params: 8,521,667\n",
      "Non-trainable params: 24,908,800\n",
      "----------------------------------------------------------------\n",
      "Input size (MB): 6.29\n",
      "Forward/backward pass size (MB): 1529.41\n",
      "Params size (MB): 127.53\n",
      "Estimated Total Size (MB): 1663.23\n",
      "----------------------------------------------------------------\n"
     ]
    }
   ],
   "source": [
    "summary(multiclass_ADNI_finetune, (3, 100, 100,55))"
   ]
  },
  {
   "cell_type": "code",
   "execution_count": 25,
   "metadata": {
    "colab": {
     "base_uri": "https://localhost:8080/"
    },
    "id": "q_5S06xLHaDo",
    "outputId": "8ad2c302-5052-476c-bd6a-cfeb8e748891"
   },
   "outputs": [
    {
     "name": "stdout",
     "output_type": "stream",
     "text": [
      "epoch:  0  batch:   10 [   100/530]  loss: 0.96008861  accuracy:  41.000%\n",
      "epoch:  0  batch:   20 [   200/530]  loss: 0.63573658  accuracy:  52.500%\n",
      "epoch:  0  batch:   30 [   300/530]  loss: 0.70635408  accuracy:  55.000%\n",
      "epoch:  0  batch:   40 [   400/530]  loss: 0.65241981  accuracy:  61.750%\n",
      "epoch:  0  batch:   50 [   500/530]  loss: 0.70396107  accuracy:  65.800%\n",
      "epoch:  1  batch:   10 [   100/530]  loss: 0.36159655  accuracy:  98.000%\n",
      "epoch:  1  batch:   20 [   200/530]  loss: 0.32489201  accuracy:  95.500%\n",
      "epoch:  1  batch:   30 [   300/530]  loss: 0.28460348  accuracy:  94.667%\n",
      "epoch:  1  batch:   40 [   400/530]  loss: 0.36798459  accuracy:  90.500%\n",
      "epoch:  1  batch:   50 [   500/530]  loss: 0.20986462  accuracy:  91.400%\n",
      "epoch:  2  batch:   10 [   100/530]  loss: 0.23814788  accuracy:  89.000%\n",
      "epoch:  2  batch:   20 [   200/530]  loss: 0.30828142  accuracy:  92.500%\n",
      "epoch:  2  batch:   30 [   300/530]  loss: 0.13456587  accuracy:  93.667%\n",
      "epoch:  2  batch:   40 [   400/530]  loss: 0.24767788  accuracy:  93.250%\n",
      "epoch:  2  batch:   50 [   500/530]  loss: 0.20868583  accuracy:  93.800%\n",
      "epoch:  3  batch:   10 [   100/530]  loss: 0.17570411  accuracy:  96.000%\n",
      "epoch:  3  batch:   20 [   200/530]  loss: 0.28596067  accuracy:  98.000%\n",
      "epoch:  3  batch:   30 [   300/530]  loss: 0.32312769  accuracy:  98.333%\n",
      "epoch:  3  batch:   40 [   400/530]  loss: 0.21533819  accuracy:  98.750%\n",
      "epoch:  3  batch:   50 [   500/530]  loss: 0.04690877  accuracy:  98.800%\n",
      "epoch:  4  batch:   10 [   100/530]  loss: 0.18938169  accuracy:  97.000%\n",
      "epoch:  4  batch:   20 [   200/530]  loss: 0.09204291  accuracy:  98.000%\n",
      "epoch:  4  batch:   30 [   300/530]  loss: 0.18159036  accuracy:  97.667%\n",
      "epoch:  4  batch:   40 [   400/530]  loss: 0.23342833  accuracy:  98.000%\n",
      "epoch:  4  batch:   50 [   500/530]  loss: 0.04135067  accuracy:  98.200%\n",
      "\n",
      "Duration: 15238 seconds\n"
     ]
    }
   ],
   "source": [
    "torch.manual_seed(30)\n",
    "import time\n",
    "start_time = time.time()\n",
    "\n",
    "epochs = 5\n",
    "train_losses = []\n",
    "test_losses = []\n",
    "train_correct = []\n",
    "test_correct = []\n",
    "\n",
    "for i in range(epochs):\n",
    "    trn_corr = 0\n",
    "    tst_corr = 0\n",
    "    \n",
    "    # Run the training batches\n",
    "    for b, (X_train, y_train) in enumerate(train_dataloader):\n",
    "        b+=1\n",
    "        \n",
    "        # Apply the model\n",
    "        y_pred = multiclass_ADNI_finetune(X_train)\n",
    "        loss = criterion(y_pred, y_train)\n",
    " \n",
    "        # Tally the number of correct predictions\n",
    "        predicted = torch.max(y_pred.data, 1)[1]\n",
    "        batch_corr = (predicted == y_train).sum()\n",
    "        trn_corr += batch_corr\n",
    "        \n",
    "        # Update parameters\n",
    "        optimizer.zero_grad()\n",
    "        loss.backward()\n",
    "        optimizer.step()\n",
    "        \n",
    "        # Print interim results\n",
    "        if b%10 == 0:\n",
    "            print(f'epoch: {i:2}  batch: {b:4} [{10*b:6}/530]  loss: {loss.item():10.8f}  \\\n",
    "accuracy: {trn_corr.item()*100/(10*b):7.3f}%')\n",
    "        \n",
    "    train_losses.append(loss)\n",
    "    train_correct.append(trn_corr)\n",
    "        \n",
    "    # Run the testing batches\n",
    "    with torch.no_grad():\n",
    "        for b, (X_val, y_val) in enumerate(validation_dataloader):\n",
    "\n",
    "            # Apply the model\n",
    "            outputs = multiclass_ADNI_finetune(X_val)\n",
    "\n",
    "            # Tally the number of correct predictions\n",
    "            predicted = torch.max(outputs.data, 1)[1] \n",
    "            tst_corr += (predicted == y_val).sum()\n",
    "            \n",
    "    loss = criterion(outputs, y_val)\n",
    "    test_losses.append(loss)\n",
    "    test_correct.append(tst_corr)\n",
    "        \n",
    "print(f'\\nDuration: {time.time() - start_time:.0f} seconds') # print the time elapsed  \n"
   ]
  },
  {
   "cell_type": "code",
   "execution_count": 26,
   "metadata": {
    "colab": {
     "base_uri": "https://localhost:8080/",
     "height": 281
    },
    "id": "kNfpMtH2H5Ht",
    "outputId": "c76c9225-21dd-4205-8e2e-d7e32d3f877e"
   },
   "outputs": [
    {
     "data": {
      "image/png": "[encoded data removed]",
      "text/plain": [
       "<Figure size 432x288 with 1 Axes>"
      ]
     },
     "metadata": {
      "needs_background": "light"
     },
     "output_type": "display_data"
    }
   ],
   "source": [
    "plt.plot(train_losses, label='training loss')\n",
    "plt.plot(test_losses, label='validation loss')\n",
    "plt.title('Loss at the end of each epoch')\n",
    "plt.legend();"
   ]
  },
  {
   "cell_type": "code",
   "execution_count": 27,
   "metadata": {
    "colab": {
     "base_uri": "https://localhost:8080/",
     "height": 298
    },
    "id": "CxVIyP1zIXWm",
    "outputId": "a1ef8ff3-c1a7-4652-df36-e24587c1d646"
   },
   "outputs": [
    {
     "data": {
      "text/plain": [
       "<matplotlib.legend.Legend at 0x7f120da1b050>"
      ]
     },
     "execution_count": 27,
     "metadata": {},
     "output_type": "execute_result"
    },
    {
     "data": {
      "image/png": "[encoded data removed]",
      "text/plain": [
       "<Figure size 432x288 with 1 Axes>"
      ]
     },
     "metadata": {
      "needs_background": "light"
     },
     "output_type": "display_data"
    }
   ],
   "source": [
    "plt.plot([t/530 for t in train_correct], label='training accuracy')\n",
    "plt.plot([t/67 for t in test_correct], label='validation accuracy')\n",
    "plt.title('Accuracy at the end of each epoch')\n",
    "plt.legend()"
   ]
  },
  {
   "cell_type": "code",
   "execution_count": 28,
   "metadata": {
    "colab": {
     "base_uri": "https://localhost:8080/"
    },
    "id": "F--GsGDGH5Kl",
    "outputId": "e930a916-63f1-48cd-9b06-247249f99ca6"
   },
   "outputs": [
    {
     "name": "stdout",
     "output_type": "stream",
     "text": [
      "Testing  accuracy: 66/67 =  98.507%\n",
      "1.0\n"
     ]
    }
   ],
   "source": [
    "torch.manual_seed(32)\n",
    "with torch.no_grad():\n",
    "    correct = 0\n",
    "    for X_test, y_test in test_dataloader:\n",
    "        y_val1 = multiclass_ADNI_finetune(X_test)  # we don't flatten the data this time\n",
    "        predicted = torch.max(y_val1,1)[1]\n",
    "        correct += (predicted == y_test).sum()\n",
    "print(f'Testing  accuracy: {correct.item()}/{len(dataset2)} = {correct.item()*100/(len(dataset2)):7.3f}%')\n",
    "accM = accuracy_score(predicted.view(-1),y_test.view(-1))\n",
    "print(accM)"
   ]
  },
  {
   "cell_type": "code",
   "execution_count": 29,
   "metadata": {
    "colab": {
     "base_uri": "https://localhost:8080/"
    },
    "id": "WQxJo1-kHq1L",
    "outputId": "ea4b9450-089e-4b86-d908-e87f4c864efd"
   },
   "outputs": [
    {
     "name": "stdout",
     "output_type": "stream",
     "text": [
      "Accuracy of the network on the 66 test images: 100 %\n"
     ]
    }
   ],
   "source": [
    "torch.manual_seed(33)\n",
    "correct = 0\n",
    "total = 0\n",
    "# since we're not training, we don't need to calculate the gradients for our outputs\n",
    "with torch.no_grad():\n",
    "    for data in test_dataloader:\n",
    "        images, labels = data\n",
    "        # calculate outputs by running images through the network\n",
    "        outputs = multiclass_ADNI_finetune(images)\n",
    "        # the class with the highest energy is what we choose as prediction\n",
    "        _, predicted = torch.max(outputs.data, 1)\n",
    "        total += labels.size(0)\n",
    "        correct += (predicted == labels).sum().item()\n",
    "print(f'Accuracy of the network on the 67 test images: {100 * correct // total} %')"
   ]
  },
  {
   "cell_type": "code",
   "execution_count": 30,
   "metadata": {
    "colab": {
     "base_uri": "https://localhost:8080/"
    },
    "id": "6xBy2FIKIMwZ",
    "outputId": "147721e1-28d6-4066-9bd6-6ce294cdcf4e"
   },
   "outputs": [
    {
     "name": "stdout",
     "output_type": "stream",
     "text": [
      "Accuracy for class AD    is: 100.0 %\n",
      "Accuracy for class LMCI  is: 100.0 %\n",
      "Accuracy for class CN    is: 100.0 %\n"
     ]
    }
   ],
   "source": [
    "torch.manual_seed(34)\n",
    "# prepare to count predictions for each class\n",
    "classes= ['AD','LMCI', 'CN']\n",
    "correct_pred = {classname: 0 for classname in classes}\n",
    "total_pred = {classname: 0 for classname in classes}\n",
    "\n",
    "# again no gradients needed\n",
    "with torch.no_grad():\n",
    "    for X_test, y_test in test_dataloader:\n",
    "        outputs = multiclass_ADNI_finetune(X_test)\n",
    "        _, predictions = torch.max(outputs, 1)\n",
    "        # collect the correct predictions for each class\n",
    "        for label, prediction in zip(y_test, predictions):\n",
    "            if label == prediction:\n",
    "                correct_pred[classes[label]] += 1\n",
    "            total_pred[classes[label]] += 1\n",
    "\n",
    "\n",
    "# print accuracy for each class\n",
    "for classname, correct_count in correct_pred.items():\n",
    "    accuracy = 100 * float(correct_count) / total_pred[classname]\n",
    "    print(\"Accuracy for class {:5s} is: {:.1f} %\".format(classname,\n",
    "                                                   accuracy))\n"
   ]
  },
  {
   "cell_type": "code",
   "execution_count": 31,
   "metadata": {
    "colab": {
     "base_uri": "https://localhost:8080/",
     "height": 495
    },
    "id": "alWWf4McIMyy",
    "outputId": "d7b5d82a-4091-4089-ccd8-792db76ef3f8"
   },
   "outputs": [
    {
     "name": "stderr",
     "output_type": "stream",
     "text": [
      "No handles with labels found to put in legend.\n"
     ]
    },
    {
     "data": {
      "image/png": "[encoded data removed]",
      "text/plain": [
       "<Figure size 540x540 with 1 Axes>"
      ]
     },
     "metadata": {
      "needs_background": "light"
     },
     "output_type": "display_data"
    }
   ],
   "source": [
    "torch.manual_seed(35)\n",
    "nb_classes = 3\n",
    "from sklearn.metrics import confusion_matrix\n",
    "confusion_matrix = torch.zeros(nb_classes, nb_classes)\n",
    "with torch.no_grad():\n",
    "    for i, (inputs, classes) in enumerate(test_dataloader):\n",
    "        inputs = inputs.to(device)\n",
    "        classes = classes.to(device)\n",
    "        outputs = multiclass_ADNI_finetune(inputs)\n",
    "        _, preds = torch.max(outputs, 1)\n",
    "        for t, p in zip(classes.view(-1), preds.view(-1)):\n",
    "                confusion_matrix[t.long(), p.long()] += 1\n",
    "fig, ax = plt.subplots(figsize=(7.5, 7.5))\n",
    "ax.matshow(confusion_matrix, cmap=plt.cm.Blues, alpha=0.3)\n",
    "for i in range(confusion_matrix.shape[0]):\n",
    "  for j in range(confusion_matrix.shape[1]):\n",
    "    ax.text(x=j, y=i,s=confusion_matrix[i, j], va='center', ha='center', size='xx-large')\n",
    "plt.xlabel('Predictions', fontsize=18)\n",
    "plt.ylabel('Actuals', fontsize=18)\n",
    "plt.legend()\n",
    "plt.show();"
   ]
  },
  {
   "cell_type": "code",
   "execution_count": 32,
   "metadata": {
    "colab": {
     "base_uri": "https://localhost:8080/"
    },
    "id": "1WfTW5kdIM5i",
    "outputId": "c1878b05-0c35-4e3f-dc38-c8cdae5fb5eb"
   },
   "outputs": [
    {
     "name": "stdout",
     "output_type": "stream",
     "text": [
      "Accuracy of the network on the 67 test images: 98 %\n"
     ]
    },
    {
     "data": {
      "text/plain": [
       "0.9776392468010564"
      ]
     },
     "execution_count": 32,
     "metadata": {},
     "output_type": "execute_result"
    }
   ],
   "source": [
    "torch.manual_seed(37)\n",
    "y_pred_list = []\n",
    "labels_list = []\n",
    "correct = 0\n",
    "total = 0\n",
    "# since we're not training, we don't need to calculate the gradients for our outputs\n",
    "with torch.no_grad():\n",
    "    for data in test_dataloader:\n",
    "        images, labels = data\n",
    "        batch_size = images.shape[0]\n",
    "        # calculate outputs by running images through the network\n",
    "        outputs = multiclass_ADNI_finetune(images)\n",
    "        # the class with the highest energy is what we choose as prediction\n",
    "        _, predicted = torch.max(outputs.data, 1)\n",
    "        total += labels.size(0)\n",
    "        correct += (predicted == labels).sum().item()\n",
    "        predicted=predicted.detach().numpy()\n",
    "        labels=labels.detach().numpy()\n",
    "        for i in range(batch_size):\n",
    "          y_pred_list.append(predicted[i])\n",
    "          labels_list.append(labels[i])\n",
    "\n",
    "print(f'Accuracy of the network on the 67 test images: {100 * correct // total} %')\n",
    "matthews_corrcoef(y_pred_list, labels_list) \n"
   ]
  },
  {
   "cell_type": "code",
   "execution_count": 34,
   "metadata": {
    "colab": {
     "base_uri": "https://localhost:8080/"
    },
    "id": "FSaC4Bn0EgKH",
    "outputId": "a610693d-efc6-4148-a1e0-0f588a64e6ab"
   },
   "outputs": [
    {
     "data": {
      "text/plain": [
       "67"
      ]
     },
     "execution_count": 34,
     "metadata": {},
     "output_type": "execute_result"
    }
   ],
   "source": [
    "len(y_pred_list)"
   ]
  },
  {
   "cell_type": "code",
   "execution_count": 35,
   "metadata": {
    "colab": {
     "base_uri": "https://localhost:8080/"
    },
    "id": "78m-0nhsEgX9",
    "outputId": "5b0f26a9-bb40-46cd-91c2-7353ebdbc41e"
   },
   "outputs": [
    {
     "data": {
      "text/plain": [
       "67"
      ]
     },
     "execution_count": 35,
     "metadata": {},
     "output_type": "execute_result"
    }
   ],
   "source": [
    "len(labels_list)"
   ]
  },
  {
   "cell_type": "code",
   "execution_count": 33,
   "metadata": {
    "id": "14zImI-_JscO"
   },
   "outputs": [],
   "source": [
    "filepath='Transfer_multiclass_finetune_eval.pt'\n",
    "torch.save(multiclass_ADNI_finetune.state_dict(), filepath)"
   ]
  },
  {
   "cell_type": "code",
   "execution_count": null,
   "metadata": {
    "id": "CByWGPAhEbYV"
   },
   "outputs": [],
   "source": []
  }
 ],
 "metadata": {
  "colab": {
   "machine_shape": "hm",
   "name": "Multiclass_ADNI_Eval.ipynb",
   "provenance": []
  },
  "kernelspec": {
   "display_name": "Python 3",
   "language": "python",
   "name": "python3"
  },
  "language_info": {
   "codemirror_mode": {
    "name": "ipython",
    "version": 3
   },
   "file_extension": ".py",
   "mimetype": "text/x-python",
   "name": "python",
   "nbconvert_exporter": "python",
   "pygments_lexer": "ipython3",
   "version": "3.8.8"
  }
 },
 "nbformat": 4,
 "nbformat_minor": 1
}
