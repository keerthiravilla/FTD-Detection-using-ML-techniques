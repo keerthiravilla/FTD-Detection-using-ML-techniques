{
 "cells": [
  {
   "cell_type": "code",
   "execution_count": 1,
   "metadata": {
    "id": "rxH6Ue7HWXMB"
   },
   "outputs": [],
   "source": [
    "#Multi-class Classification\n",
    "import zipfile\n",
    "import nibabel as nib\n",
    "import torch\n",
    "import torch.nn as nn\n",
    "import torch.nn.functional as F\n",
    "from torchvision.utils import make_grid\n",
    "import numpy as np\n",
    "import pandas as pd\n",
    "import pickle\n",
    "from sklearn.metrics import confusion_matrix\n",
    "import matplotlib.pyplot as plt\n",
    "import glob\n",
    "from torch.autograd import Variable\n",
    "from torchvision import models\n",
    "from torch.nn import Module,  Linear, ReLU, CrossEntropyLoss, Sequential, Conv3d, MaxPool3d, Softmax, BatchNorm3d\n",
    "from torch.optim import Adam\n",
    "from tqdm import tqdm\n",
    "from sklearn.metrics import accuracy_score\n",
    "import seaborn as sn\n",
    "import torch.optim as optim\n",
    "from sklearn.metrics import accuracy_score\n",
    "from sklearn.metrics import balanced_accuracy_score\n",
    "from sklearn.metrics import matthews_corrcoef\n",
    "from torchsummary import summary\n",
    "\n",
    "%matplotlib inline"
   ]
  },
  {
   "cell_type": "code",
   "execution_count": 2,
   "metadata": {
    "colab": {
     "base_uri": "https://localhost:8080/"
    },
    "id": "iLtS2OAiWzLu",
    "outputId": "82e27c58-d0fd-4775-e303-50bbb8dd3d4a"
   },
   "outputs": [
    {
     "name": "stdout",
     "output_type": "stream",
     "text": [
      "Mounted at /content/drive/\n"
     ]
    }
   ],
   "source": [
    "from google.colab import drive\n",
    "drive.mount('/content/drive/')"
   ]
  },
  {
   "cell_type": "code",
   "execution_count": 3,
   "metadata": {
    "colab": {
     "base_uri": "https://localhost:8080/"
    },
    "id": "Js8oJIm1WpqQ",
    "outputId": "9e2ccf29-d51f-4c76-df34-96a95bafc1d5"
   },
   "outputs": [
    {
     "name": "stdout",
     "output_type": "stream",
     "text": [
      "There are 4 directories and 0 images in '/content/drive/My Drive/ADNI_full'.\n",
      "There are 0 directories and 189 images in '/content/drive/My Drive/ADNI_full/AD'.\n",
      "There are 0 directories and 220 images in '/content/drive/My Drive/ADNI_full/LMCI'.\n",
      "There are 0 directories and 254 images in '/content/drive/My Drive/ADNI_full/CN'.\n",
      "There are 0 directories and 0 images in '/content/drive/My Drive/ADNI_full/.ipynb_checkpoints'.\n"
     ]
    },
    {
     "data": {
      "text/plain": [
       "0"
      ]
     },
     "execution_count": 3,
     "metadata": {},
     "output_type": "execute_result"
    }
   ],
   "source": [
    "import os\n",
    "#walk through directory and list through files\n",
    "for dirpath, dirnames, filenames in os.walk(\"/content/drive/My Drive/ADNI_full\"):\n",
    "  print(f\"There are {len(dirnames)} directories and {len(filenames)} images in '{dirpath}'.\")\n",
    "len(filenames)\n"
   ]
  },
  {
   "cell_type": "code",
   "execution_count": 4,
   "metadata": {
    "colab": {
     "base_uri": "https://localhost:8080/"
    },
    "id": "ueViG2ivWuQM",
    "outputId": "a14f11b8-8665-407c-c094-8ef38076b36d"
   },
   "outputs": [
    {
     "name": "stdout",
     "output_type": "stream",
     "text": [
      "['.ipynb_checkpoints' 'AD' 'CN' 'LMCI']\n"
     ]
    }
   ],
   "source": [
    "#Get the class names\n",
    "import numpy as np\n",
    "import pathlib\n",
    "data_dir = pathlib.Path('/content/drive/My Drive/ADNI_full')\n",
    "class_names = np.array(sorted([item.name for item in data_dir.glob('*')]))\n",
    "print(class_names)"
   ]
  },
  {
   "cell_type": "code",
   "execution_count": 5,
   "metadata": {
    "id": "mi0Mp5adWxRN"
   },
   "outputs": [],
   "source": [
    "\n",
    "with open(\"/content/drive/MyDrive/Images_labels.txt\", 'rb') as fp:\n",
    "  X=pickle.load(fp)\n",
    "  y=pickle.load(fp)"
   ]
  },
  {
   "cell_type": "code",
   "execution_count": 6,
   "metadata": {
    "colab": {
     "base_uri": "https://localhost:8080/"
    },
    "id": "XkTMnXDYWxTO",
    "outputId": "4b785a24-8a5d-4cc5-ed1a-2df7dd6eed9f"
   },
   "outputs": [
    {
     "data": {
      "text/plain": [
       "((663, 100, 100, 55, 1), (663,))"
      ]
     },
     "execution_count": 6,
     "metadata": {},
     "output_type": "execute_result"
    }
   ],
   "source": [
    "X.shape, y.shape"
   ]
  },
  {
   "cell_type": "code",
   "execution_count": 7,
   "metadata": {
    "colab": {
     "base_uri": "https://localhost:8080/"
    },
    "id": "rXUb6ZX_WxWl",
    "outputId": "9dabafd4-72e0-41b6-a66e-e71de8b5c791"
   },
   "outputs": [
    {
     "data": {
      "text/plain": [
       "(torch.Size([663, 100, 100, 55, 1]), torch.float32)"
      ]
     },
     "execution_count": 7,
     "metadata": {},
     "output_type": "execute_result"
    }
   ],
   "source": [
    "X = torch.from_numpy(X)\n",
    "X.shape, X.dtype"
   ]
  },
  {
   "cell_type": "code",
   "execution_count": 8,
   "metadata": {
    "colab": {
     "base_uri": "https://localhost:8080/"
    },
    "id": "7C0J5R-OWxY_",
    "outputId": "98ec658d-c610-4645-ad34-c14d8e12af96"
   },
   "outputs": [
    {
     "data": {
      "text/plain": [
       "torch.Size([663, 1, 100, 100, 55])"
      ]
     },
     "execution_count": 8,
     "metadata": {},
     "output_type": "execute_result"
    }
   ],
   "source": [
    "X=X.reshape(663,1,100,100,55)\n",
    "\n",
    "X.shape"
   ]
  },
  {
   "cell_type": "code",
   "execution_count": 9,
   "metadata": {
    "colab": {
     "base_uri": "https://localhost:8080/"
    },
    "id": "F0_bwMeNWxcM",
    "outputId": "0679531d-9824-499c-8da6-a609c7f43a7d"
   },
   "outputs": [
    {
     "data": {
      "text/plain": [
       "torch.Size([663, 3, 100, 100, 55])"
      ]
     },
     "execution_count": 9,
     "metadata": {},
     "output_type": "execute_result"
    }
   ],
   "source": [
    "X=X.expand(-1,3,-1,-1,-1)\n",
    "X.shape"
   ]
  },
  {
   "cell_type": "code",
   "execution_count": 10,
   "metadata": {
    "colab": {
     "base_uri": "https://localhost:8080/"
    },
    "id": "KhbpUB1bXJoy",
    "outputId": "eb1c152a-dfcf-48fd-b9de-3e8e02f93e21"
   },
   "outputs": [
    {
     "data": {
      "text/plain": [
       "(torch.Size([663]), torch.int64)"
      ]
     },
     "execution_count": 10,
     "metadata": {},
     "output_type": "execute_result"
    }
   ],
   "source": [
    "y = torch.from_numpy(y)\n",
    "y.shape, y.dtype"
   ]
  },
  {
   "cell_type": "code",
   "execution_count": 11,
   "metadata": {
    "colab": {
     "base_uri": "https://localhost:8080/"
    },
    "id": "iC6fuwN8XJuu",
    "outputId": "33b0f60c-1443-4696-fe32-24813345b9ef"
   },
   "outputs": [
    {
     "data": {
      "text/plain": [
       "((torch.Size([530, 3, 100, 100, 55]), torch.Size([530])),\n",
       " (torch.Size([67, 3, 100, 100, 55]), torch.Size([67])),\n",
       " (torch.Size([66, 3, 100, 100, 55]), torch.Size([66])),\n",
       " (torch.float32, torch.int64))"
      ]
     },
     "execution_count": 11,
     "metadata": {},
     "output_type": "execute_result"
    }
   ],
   "source": [
    "from sklearn.model_selection import train_test_split\n",
    "#batch_size=32\n",
    "X_train,X_test_data, y_train,y_test_data =train_test_split(X,y, test_size=0.2,  random_state=42)\n",
    "X_val,X_test,y_val,y_test= train_test_split(X_test_data,y_test_data, test_size=0.5,random_state=42)\n",
    "#X_train, X_test, y_train, y_test,X_val,y_val = X_train.cuda(), X_test.cuda(), y_train.cuda(), y_test.cuda(),X_val.cuda(), y_val.cuda()\n",
    "\n",
    "(X_train.shape, y_train.shape),(X_test.shape, y_test.shape),(X_val.shape,y_val.shape), (X_train.dtype, y_train.dtype)"
   ]
  },
  {
   "cell_type": "code",
   "execution_count": 12,
   "metadata": {
    "id": "QYjPZEDqWxeK"
   },
   "outputs": [],
   "source": [
    "from torch.utils.data import DataLoader,TensorDataset\n",
    "BATCH_SIZE = 10\n",
    "dataset = TensorDataset(X_train, y_train)\n",
    "dataset1= TensorDataset(X_val, y_val)\n",
    "dataset2 = TensorDataset(X_test, y_test)\n",
    "\n",
    "\n",
    "train_dataloader = DataLoader(dataset, batch_size=BATCH_SIZE, shuffle=True)\n",
    "validation_dataloader= DataLoader(dataset1, batch_size=BATCH_SIZE, shuffle=True)\n",
    "test_dataloader= DataLoader(dataset2,batch_size=BATCH_SIZE, shuffle=False)"
   ]
  },
  {
   "cell_type": "code",
   "execution_count": 13,
   "metadata": {
    "id": "3HyUZNJEWxhj"
   },
   "outputs": [],
   "source": [
    "device = torch.device(\"cuda:0\" if torch.cuda.is_available() else \"cpu\")"
   ]
  },
  {
   "cell_type": "code",
   "execution_count": 14,
   "metadata": {
    "colab": {
     "base_uri": "https://localhost:8080/"
    },
    "id": "nPaSO27bXbgj",
    "outputId": "152bbde9-d4bb-4077-881b-a039ee7001ef"
   },
   "outputs": [
    {
     "name": "stderr",
     "output_type": "stream",
     "text": [
      "Downloading: \"https://download.pytorch.org/models/r3d_18-b3b3357e.pth\" to /root/.cache/torch/hub/checkpoints/r3d_18-b3b3357e.pth\n"
     ]
    }
   ],
   "source": [
    "binary_resnet_finetune = models.video.r3d_18(pretrained=True, progress=False)"
   ]
  },
  {
   "cell_type": "code",
   "execution_count": 15,
   "metadata": {
    "id": "OiIo3B7VXbk4"
   },
   "outputs": [],
   "source": [
    "binary_resnet_finetune = binary_resnet_finetune.to(device)"
   ]
  },
  {
   "cell_type": "code",
   "execution_count": 16,
   "metadata": {
    "colab": {
     "base_uri": "https://localhost:8080/"
    },
    "id": "UdSZ6NArXbne",
    "outputId": "8880de17-d0f7-411e-e77a-362ad0879a24"
   },
   "outputs": [
    {
     "name": "stdout",
     "output_type": "stream",
     "text": [
      "----------------------------------------------------------------\n",
      "        Layer (type)               Output Shape         Param #\n",
      "================================================================\n",
      "            Conv3d-1      [-1, 64, 100, 50, 28]          28,224\n",
      "       BatchNorm3d-2      [-1, 64, 100, 50, 28]             128\n",
      "              ReLU-3      [-1, 64, 100, 50, 28]               0\n",
      "      Conv3DSimple-4      [-1, 64, 100, 50, 28]         110,592\n",
      "       BatchNorm3d-5      [-1, 64, 100, 50, 28]             128\n",
      "              ReLU-6      [-1, 64, 100, 50, 28]               0\n",
      "      Conv3DSimple-7      [-1, 64, 100, 50, 28]         110,592\n",
      "       BatchNorm3d-8      [-1, 64, 100, 50, 28]             128\n",
      "              ReLU-9      [-1, 64, 100, 50, 28]               0\n",
      "       BasicBlock-10      [-1, 64, 100, 50, 28]               0\n",
      "     Conv3DSimple-11      [-1, 64, 100, 50, 28]         110,592\n",
      "      BatchNorm3d-12      [-1, 64, 100, 50, 28]             128\n",
      "             ReLU-13      [-1, 64, 100, 50, 28]               0\n",
      "     Conv3DSimple-14      [-1, 64, 100, 50, 28]         110,592\n",
      "      BatchNorm3d-15      [-1, 64, 100, 50, 28]             128\n",
      "             ReLU-16      [-1, 64, 100, 50, 28]               0\n",
      "       BasicBlock-17      [-1, 64, 100, 50, 28]               0\n",
      "     Conv3DSimple-18      [-1, 128, 50, 25, 14]         221,184\n",
      "      BatchNorm3d-19      [-1, 128, 50, 25, 14]             256\n",
      "             ReLU-20      [-1, 128, 50, 25, 14]               0\n",
      "     Conv3DSimple-21      [-1, 128, 50, 25, 14]         442,368\n",
      "      BatchNorm3d-22      [-1, 128, 50, 25, 14]             256\n",
      "           Conv3d-23      [-1, 128, 50, 25, 14]           8,192\n",
      "      BatchNorm3d-24      [-1, 128, 50, 25, 14]             256\n",
      "             ReLU-25      [-1, 128, 50, 25, 14]               0\n",
      "       BasicBlock-26      [-1, 128, 50, 25, 14]               0\n",
      "     Conv3DSimple-27      [-1, 128, 50, 25, 14]         442,368\n",
      "      BatchNorm3d-28      [-1, 128, 50, 25, 14]             256\n",
      "             ReLU-29      [-1, 128, 50, 25, 14]               0\n",
      "     Conv3DSimple-30      [-1, 128, 50, 25, 14]         442,368\n",
      "      BatchNorm3d-31      [-1, 128, 50, 25, 14]             256\n",
      "             ReLU-32      [-1, 128, 50, 25, 14]               0\n",
      "       BasicBlock-33      [-1, 128, 50, 25, 14]               0\n",
      "     Conv3DSimple-34       [-1, 256, 25, 13, 7]         884,736\n",
      "      BatchNorm3d-35       [-1, 256, 25, 13, 7]             512\n",
      "             ReLU-36       [-1, 256, 25, 13, 7]               0\n",
      "     Conv3DSimple-37       [-1, 256, 25, 13, 7]       1,769,472\n",
      "      BatchNorm3d-38       [-1, 256, 25, 13, 7]             512\n",
      "           Conv3d-39       [-1, 256, 25, 13, 7]          32,768\n",
      "      BatchNorm3d-40       [-1, 256, 25, 13, 7]             512\n",
      "             ReLU-41       [-1, 256, 25, 13, 7]               0\n",
      "       BasicBlock-42       [-1, 256, 25, 13, 7]               0\n",
      "     Conv3DSimple-43       [-1, 256, 25, 13, 7]       1,769,472\n",
      "      BatchNorm3d-44       [-1, 256, 25, 13, 7]             512\n",
      "             ReLU-45       [-1, 256, 25, 13, 7]               0\n",
      "     Conv3DSimple-46       [-1, 256, 25, 13, 7]       1,769,472\n",
      "      BatchNorm3d-47       [-1, 256, 25, 13, 7]             512\n",
      "             ReLU-48       [-1, 256, 25, 13, 7]               0\n",
      "       BasicBlock-49       [-1, 256, 25, 13, 7]               0\n",
      "     Conv3DSimple-50        [-1, 512, 13, 7, 4]       3,538,944\n",
      "      BatchNorm3d-51        [-1, 512, 13, 7, 4]           1,024\n",
      "             ReLU-52        [-1, 512, 13, 7, 4]               0\n",
      "     Conv3DSimple-53        [-1, 512, 13, 7, 4]       7,077,888\n",
      "      BatchNorm3d-54        [-1, 512, 13, 7, 4]           1,024\n",
      "           Conv3d-55        [-1, 512, 13, 7, 4]         131,072\n",
      "      BatchNorm3d-56        [-1, 512, 13, 7, 4]           1,024\n",
      "             ReLU-57        [-1, 512, 13, 7, 4]               0\n",
      "       BasicBlock-58        [-1, 512, 13, 7, 4]               0\n",
      "     Conv3DSimple-59        [-1, 512, 13, 7, 4]       7,077,888\n",
      "      BatchNorm3d-60        [-1, 512, 13, 7, 4]           1,024\n",
      "             ReLU-61        [-1, 512, 13, 7, 4]               0\n",
      "     Conv3DSimple-62        [-1, 512, 13, 7, 4]       7,077,888\n",
      "      BatchNorm3d-63        [-1, 512, 13, 7, 4]           1,024\n",
      "             ReLU-64        [-1, 512, 13, 7, 4]               0\n",
      "       BasicBlock-65        [-1, 512, 13, 7, 4]               0\n",
      "AdaptiveAvgPool3d-66         [-1, 512, 1, 1, 1]               0\n",
      "           Linear-67                  [-1, 400]         205,200\n",
      "================================================================\n",
      "Total params: 33,371,472\n",
      "Trainable params: 33,371,472\n",
      "Non-trainable params: 0\n",
      "----------------------------------------------------------------\n",
      "Input size (MB): 6.29\n",
      "Forward/backward pass size (MB): 1529.40\n",
      "Params size (MB): 127.30\n",
      "Estimated Total Size (MB): 1662.99\n",
      "----------------------------------------------------------------\n"
     ]
    }
   ],
   "source": [
    "summary(binary_resnet_finetune, (3, 100, 100,55))"
   ]
  },
  {
   "cell_type": "code",
   "execution_count": 17,
   "metadata": {
    "colab": {
     "base_uri": "https://localhost:8080/"
    },
    "id": "wkFIfkx1XbqL",
    "outputId": "5e98b5af-0f68-4786-f18a-d852354a8d9d"
   },
   "outputs": [
    {
     "name": "stdout",
     "output_type": "stream",
     "text": [
      "VideoResNet(\n",
      "  (stem): BasicStem(\n",
      "    (0): Conv3d(3, 64, kernel_size=(3, 7, 7), stride=(1, 2, 2), padding=(1, 3, 3), bias=False)\n",
      "    (1): BatchNorm3d(64, eps=1e-05, momentum=0.1, affine=True, track_running_stats=True)\n",
      "    (2): ReLU(inplace=True)\n",
      "  )\n",
      "  (layer1): Sequential(\n",
      "    (0): BasicBlock(\n",
      "      (conv1): Sequential(\n",
      "        (0): Conv3DSimple(64, 64, kernel_size=(3, 3, 3), stride=(1, 1, 1), padding=(1, 1, 1), bias=False)\n",
      "        (1): BatchNorm3d(64, eps=1e-05, momentum=0.1, affine=True, track_running_stats=True)\n",
      "        (2): ReLU(inplace=True)\n",
      "      )\n",
      "      (conv2): Sequential(\n",
      "        (0): Conv3DSimple(64, 64, kernel_size=(3, 3, 3), stride=(1, 1, 1), padding=(1, 1, 1), bias=False)\n",
      "        (1): BatchNorm3d(64, eps=1e-05, momentum=0.1, affine=True, track_running_stats=True)\n",
      "      )\n",
      "      (relu): ReLU(inplace=True)\n",
      "    )\n",
      "    (1): BasicBlock(\n",
      "      (conv1): Sequential(\n",
      "        (0): Conv3DSimple(64, 64, kernel_size=(3, 3, 3), stride=(1, 1, 1), padding=(1, 1, 1), bias=False)\n",
      "        (1): BatchNorm3d(64, eps=1e-05, momentum=0.1, affine=True, track_running_stats=True)\n",
      "        (2): ReLU(inplace=True)\n",
      "      )\n",
      "      (conv2): Sequential(\n",
      "        (0): Conv3DSimple(64, 64, kernel_size=(3, 3, 3), stride=(1, 1, 1), padding=(1, 1, 1), bias=False)\n",
      "        (1): BatchNorm3d(64, eps=1e-05, momentum=0.1, affine=True, track_running_stats=True)\n",
      "      )\n",
      "      (relu): ReLU(inplace=True)\n",
      "    )\n",
      "  )\n",
      "  (layer2): Sequential(\n",
      "    (0): BasicBlock(\n",
      "      (conv1): Sequential(\n",
      "        (0): Conv3DSimple(64, 128, kernel_size=(3, 3, 3), stride=(2, 2, 2), padding=(1, 1, 1), bias=False)\n",
      "        (1): BatchNorm3d(128, eps=1e-05, momentum=0.1, affine=True, track_running_stats=True)\n",
      "        (2): ReLU(inplace=True)\n",
      "      )\n",
      "      (conv2): Sequential(\n",
      "        (0): Conv3DSimple(128, 128, kernel_size=(3, 3, 3), stride=(1, 1, 1), padding=(1, 1, 1), bias=False)\n",
      "        (1): BatchNorm3d(128, eps=1e-05, momentum=0.1, affine=True, track_running_stats=True)\n",
      "      )\n",
      "      (relu): ReLU(inplace=True)\n",
      "      (downsample): Sequential(\n",
      "        (0): Conv3d(64, 128, kernel_size=(1, 1, 1), stride=(2, 2, 2), bias=False)\n",
      "        (1): BatchNorm3d(128, eps=1e-05, momentum=0.1, affine=True, track_running_stats=True)\n",
      "      )\n",
      "    )\n",
      "    (1): BasicBlock(\n",
      "      (conv1): Sequential(\n",
      "        (0): Conv3DSimple(128, 128, kernel_size=(3, 3, 3), stride=(1, 1, 1), padding=(1, 1, 1), bias=False)\n",
      "        (1): BatchNorm3d(128, eps=1e-05, momentum=0.1, affine=True, track_running_stats=True)\n",
      "        (2): ReLU(inplace=True)\n",
      "      )\n",
      "      (conv2): Sequential(\n",
      "        (0): Conv3DSimple(128, 128, kernel_size=(3, 3, 3), stride=(1, 1, 1), padding=(1, 1, 1), bias=False)\n",
      "        (1): BatchNorm3d(128, eps=1e-05, momentum=0.1, affine=True, track_running_stats=True)\n",
      "      )\n",
      "      (relu): ReLU(inplace=True)\n",
      "    )\n",
      "  )\n",
      "  (layer3): Sequential(\n",
      "    (0): BasicBlock(\n",
      "      (conv1): Sequential(\n",
      "        (0): Conv3DSimple(128, 256, kernel_size=(3, 3, 3), stride=(2, 2, 2), padding=(1, 1, 1), bias=False)\n",
      "        (1): BatchNorm3d(256, eps=1e-05, momentum=0.1, affine=True, track_running_stats=True)\n",
      "        (2): ReLU(inplace=True)\n",
      "      )\n",
      "      (conv2): Sequential(\n",
      "        (0): Conv3DSimple(256, 256, kernel_size=(3, 3, 3), stride=(1, 1, 1), padding=(1, 1, 1), bias=False)\n",
      "        (1): BatchNorm3d(256, eps=1e-05, momentum=0.1, affine=True, track_running_stats=True)\n",
      "      )\n",
      "      (relu): ReLU(inplace=True)\n",
      "      (downsample): Sequential(\n",
      "        (0): Conv3d(128, 256, kernel_size=(1, 1, 1), stride=(2, 2, 2), bias=False)\n",
      "        (1): BatchNorm3d(256, eps=1e-05, momentum=0.1, affine=True, track_running_stats=True)\n",
      "      )\n",
      "    )\n",
      "    (1): BasicBlock(\n",
      "      (conv1): Sequential(\n",
      "        (0): Conv3DSimple(256, 256, kernel_size=(3, 3, 3), stride=(1, 1, 1), padding=(1, 1, 1), bias=False)\n",
      "        (1): BatchNorm3d(256, eps=1e-05, momentum=0.1, affine=True, track_running_stats=True)\n",
      "        (2): ReLU(inplace=True)\n",
      "      )\n",
      "      (conv2): Sequential(\n",
      "        (0): Conv3DSimple(256, 256, kernel_size=(3, 3, 3), stride=(1, 1, 1), padding=(1, 1, 1), bias=False)\n",
      "        (1): BatchNorm3d(256, eps=1e-05, momentum=0.1, affine=True, track_running_stats=True)\n",
      "      )\n",
      "      (relu): ReLU(inplace=True)\n",
      "    )\n",
      "  )\n",
      "  (layer4): Sequential(\n",
      "    (0): BasicBlock(\n",
      "      (conv1): Sequential(\n",
      "        (0): Conv3DSimple(256, 512, kernel_size=(3, 3, 3), stride=(2, 2, 2), padding=(1, 1, 1), bias=False)\n",
      "        (1): BatchNorm3d(512, eps=1e-05, momentum=0.1, affine=True, track_running_stats=True)\n",
      "        (2): ReLU(inplace=True)\n",
      "      )\n",
      "      (conv2): Sequential(\n",
      "        (0): Conv3DSimple(512, 512, kernel_size=(3, 3, 3), stride=(1, 1, 1), padding=(1, 1, 1), bias=False)\n",
      "        (1): BatchNorm3d(512, eps=1e-05, momentum=0.1, affine=True, track_running_stats=True)\n",
      "      )\n",
      "      (relu): ReLU(inplace=True)\n",
      "      (downsample): Sequential(\n",
      "        (0): Conv3d(256, 512, kernel_size=(1, 1, 1), stride=(2, 2, 2), bias=False)\n",
      "        (1): BatchNorm3d(512, eps=1e-05, momentum=0.1, affine=True, track_running_stats=True)\n",
      "      )\n",
      "    )\n",
      "    (1): BasicBlock(\n",
      "      (conv1): Sequential(\n",
      "        (0): Conv3DSimple(512, 512, kernel_size=(3, 3, 3), stride=(1, 1, 1), padding=(1, 1, 1), bias=False)\n",
      "        (1): BatchNorm3d(512, eps=1e-05, momentum=0.1, affine=True, track_running_stats=True)\n",
      "        (2): ReLU(inplace=True)\n",
      "      )\n",
      "      (conv2): Sequential(\n",
      "        (0): Conv3DSimple(512, 512, kernel_size=(3, 3, 3), stride=(1, 1, 1), padding=(1, 1, 1), bias=False)\n",
      "        (1): BatchNorm3d(512, eps=1e-05, momentum=0.1, affine=True, track_running_stats=True)\n",
      "      )\n",
      "      (relu): ReLU(inplace=True)\n",
      "    )\n",
      "  )\n",
      "  (avgpool): AdaptiveAvgPool3d(output_size=(1, 1, 1))\n",
      "  (fc): Linear(in_features=512, out_features=400, bias=True)\n",
      ")\n"
     ]
    }
   ],
   "source": [
    "print(binary_resnet_finetune)"
   ]
  },
  {
   "cell_type": "code",
   "execution_count": 18,
   "metadata": {
    "colab": {
     "base_uri": "https://localhost:8080/"
    },
    "id": "YD18PdFHcIhp",
    "outputId": "f8581c18-4df7-4de1-d0c4-2506cdcc967a"
   },
   "outputs": [
    {
     "data": {
      "text/plain": [
       "Sequential(\n",
       "  (0): BasicBlock(\n",
       "    (conv1): Sequential(\n",
       "      (0): Conv3DSimple(256, 512, kernel_size=(3, 3, 3), stride=(2, 2, 2), padding=(1, 1, 1), bias=False)\n",
       "      (1): BatchNorm3d(512, eps=1e-05, momentum=0.1, affine=True, track_running_stats=True)\n",
       "      (2): ReLU(inplace=True)\n",
       "    )\n",
       "    (conv2): Sequential(\n",
       "      (0): Conv3DSimple(512, 512, kernel_size=(3, 3, 3), stride=(1, 1, 1), padding=(1, 1, 1), bias=False)\n",
       "      (1): BatchNorm3d(512, eps=1e-05, momentum=0.1, affine=True, track_running_stats=True)\n",
       "    )\n",
       "    (relu): ReLU(inplace=True)\n",
       "    (downsample): Sequential(\n",
       "      (0): Conv3d(256, 512, kernel_size=(1, 1, 1), stride=(2, 2, 2), bias=False)\n",
       "      (1): BatchNorm3d(512, eps=1e-05, momentum=0.1, affine=True, track_running_stats=True)\n",
       "    )\n",
       "  )\n",
       "  (1): BasicBlock(\n",
       "    (conv1): Sequential(\n",
       "      (0): Conv3DSimple(512, 512, kernel_size=(3, 3, 3), stride=(1, 1, 1), padding=(1, 1, 1), bias=False)\n",
       "      (1): BatchNorm3d(512, eps=1e-05, momentum=0.1, affine=True, track_running_stats=True)\n",
       "      (2): ReLU(inplace=True)\n",
       "    )\n",
       "    (conv2): Sequential(\n",
       "      (0): Conv3DSimple(512, 512, kernel_size=(3, 3, 3), stride=(1, 1, 1), padding=(1, 1, 1), bias=False)\n",
       "      (1): BatchNorm3d(512, eps=1e-05, momentum=0.1, affine=True, track_running_stats=True)\n",
       "    )\n",
       "    (relu): ReLU(inplace=True)\n",
       "  )\n",
       ")"
      ]
     },
     "execution_count": 18,
     "metadata": {},
     "output_type": "execute_result"
    }
   ],
   "source": [
    "binary_resnet_finetune.layer4"
   ]
  },
  {
   "cell_type": "code",
   "execution_count": 19,
   "metadata": {
    "id": "Gw4V_GxVXbsM"
   },
   "outputs": [],
   "source": [
    "for param in binary_resnet_finetune.layer4.parameters():\n",
    "    param.requires_grad = False"
   ]
  },
  {
   "cell_type": "code",
   "execution_count": 20,
   "metadata": {
    "id": "R3m1AJAzXbvn"
   },
   "outputs": [],
   "source": [
    "binary_resnet_finetune.fc =  nn.Sequential(\n",
    "            nn.Linear(512, 512),\n",
    "            nn.LeakyReLU(inplace=True),\n",
    "            nn.Dropout(),\n",
    "            nn.Linear(512, 2),\n",
    "            )\n",
    "for param in binary_resnet_finetune.fc.parameters():\n",
    "    param.requires_grad = True"
   ]
  },
  {
   "cell_type": "code",
   "execution_count": 21,
   "metadata": {
    "id": "CpLIBrqyYFW1"
   },
   "outputs": [],
   "source": [
    "criterion = nn.CrossEntropyLoss()\n",
    "optimizer = optim.Adam(binary_resnet_finetune.fc.parameters(), lr=0.0001) #Learning rate must be low due to finetunning"
   ]
  },
  {
   "cell_type": "code",
   "execution_count": 22,
   "metadata": {
    "colab": {
     "base_uri": "https://localhost:8080/"
    },
    "id": "f-p9BZ0OYFYz",
    "outputId": "cd56ee1b-5541-47b2-87a4-49302949f343"
   },
   "outputs": [
    {
     "name": "stdout",
     "output_type": "stream",
     "text": [
      "----------------------------------------------------------------\n",
      "        Layer (type)               Output Shape         Param #\n",
      "================================================================\n",
      "            Conv3d-1      [-1, 64, 100, 50, 28]          28,224\n",
      "       BatchNorm3d-2      [-1, 64, 100, 50, 28]             128\n",
      "              ReLU-3      [-1, 64, 100, 50, 28]               0\n",
      "      Conv3DSimple-4      [-1, 64, 100, 50, 28]         110,592\n",
      "       BatchNorm3d-5      [-1, 64, 100, 50, 28]             128\n",
      "              ReLU-6      [-1, 64, 100, 50, 28]               0\n",
      "      Conv3DSimple-7      [-1, 64, 100, 50, 28]         110,592\n",
      "       BatchNorm3d-8      [-1, 64, 100, 50, 28]             128\n",
      "              ReLU-9      [-1, 64, 100, 50, 28]               0\n",
      "       BasicBlock-10      [-1, 64, 100, 50, 28]               0\n",
      "     Conv3DSimple-11      [-1, 64, 100, 50, 28]         110,592\n",
      "      BatchNorm3d-12      [-1, 64, 100, 50, 28]             128\n",
      "             ReLU-13      [-1, 64, 100, 50, 28]               0\n",
      "     Conv3DSimple-14      [-1, 64, 100, 50, 28]         110,592\n",
      "      BatchNorm3d-15      [-1, 64, 100, 50, 28]             128\n",
      "             ReLU-16      [-1, 64, 100, 50, 28]               0\n",
      "       BasicBlock-17      [-1, 64, 100, 50, 28]               0\n",
      "     Conv3DSimple-18      [-1, 128, 50, 25, 14]         221,184\n",
      "      BatchNorm3d-19      [-1, 128, 50, 25, 14]             256\n",
      "             ReLU-20      [-1, 128, 50, 25, 14]               0\n",
      "     Conv3DSimple-21      [-1, 128, 50, 25, 14]         442,368\n",
      "      BatchNorm3d-22      [-1, 128, 50, 25, 14]             256\n",
      "           Conv3d-23      [-1, 128, 50, 25, 14]           8,192\n",
      "      BatchNorm3d-24      [-1, 128, 50, 25, 14]             256\n",
      "             ReLU-25      [-1, 128, 50, 25, 14]               0\n",
      "       BasicBlock-26      [-1, 128, 50, 25, 14]               0\n",
      "     Conv3DSimple-27      [-1, 128, 50, 25, 14]         442,368\n",
      "      BatchNorm3d-28      [-1, 128, 50, 25, 14]             256\n",
      "             ReLU-29      [-1, 128, 50, 25, 14]               0\n",
      "     Conv3DSimple-30      [-1, 128, 50, 25, 14]         442,368\n",
      "      BatchNorm3d-31      [-1, 128, 50, 25, 14]             256\n",
      "             ReLU-32      [-1, 128, 50, 25, 14]               0\n",
      "       BasicBlock-33      [-1, 128, 50, 25, 14]               0\n",
      "     Conv3DSimple-34       [-1, 256, 25, 13, 7]         884,736\n",
      "      BatchNorm3d-35       [-1, 256, 25, 13, 7]             512\n",
      "             ReLU-36       [-1, 256, 25, 13, 7]               0\n",
      "     Conv3DSimple-37       [-1, 256, 25, 13, 7]       1,769,472\n",
      "      BatchNorm3d-38       [-1, 256, 25, 13, 7]             512\n",
      "           Conv3d-39       [-1, 256, 25, 13, 7]          32,768\n",
      "      BatchNorm3d-40       [-1, 256, 25, 13, 7]             512\n",
      "             ReLU-41       [-1, 256, 25, 13, 7]               0\n",
      "       BasicBlock-42       [-1, 256, 25, 13, 7]               0\n",
      "     Conv3DSimple-43       [-1, 256, 25, 13, 7]       1,769,472\n",
      "      BatchNorm3d-44       [-1, 256, 25, 13, 7]             512\n",
      "             ReLU-45       [-1, 256, 25, 13, 7]               0\n",
      "     Conv3DSimple-46       [-1, 256, 25, 13, 7]       1,769,472\n",
      "      BatchNorm3d-47       [-1, 256, 25, 13, 7]             512\n",
      "             ReLU-48       [-1, 256, 25, 13, 7]               0\n",
      "       BasicBlock-49       [-1, 256, 25, 13, 7]               0\n",
      "     Conv3DSimple-50        [-1, 512, 13, 7, 4]       3,538,944\n",
      "      BatchNorm3d-51        [-1, 512, 13, 7, 4]           1,024\n",
      "             ReLU-52        [-1, 512, 13, 7, 4]               0\n",
      "     Conv3DSimple-53        [-1, 512, 13, 7, 4]       7,077,888\n",
      "      BatchNorm3d-54        [-1, 512, 13, 7, 4]           1,024\n",
      "           Conv3d-55        [-1, 512, 13, 7, 4]         131,072\n",
      "      BatchNorm3d-56        [-1, 512, 13, 7, 4]           1,024\n",
      "             ReLU-57        [-1, 512, 13, 7, 4]               0\n",
      "       BasicBlock-58        [-1, 512, 13, 7, 4]               0\n",
      "     Conv3DSimple-59        [-1, 512, 13, 7, 4]       7,077,888\n",
      "      BatchNorm3d-60        [-1, 512, 13, 7, 4]           1,024\n",
      "             ReLU-61        [-1, 512, 13, 7, 4]               0\n",
      "     Conv3DSimple-62        [-1, 512, 13, 7, 4]       7,077,888\n",
      "      BatchNorm3d-63        [-1, 512, 13, 7, 4]           1,024\n",
      "             ReLU-64        [-1, 512, 13, 7, 4]               0\n",
      "       BasicBlock-65        [-1, 512, 13, 7, 4]               0\n",
      "AdaptiveAvgPool3d-66         [-1, 512, 1, 1, 1]               0\n",
      "           Linear-67                  [-1, 512]         262,656\n",
      "        LeakyReLU-68                  [-1, 512]               0\n",
      "          Dropout-69                  [-1, 512]               0\n",
      "           Linear-70                    [-1, 2]           1,026\n",
      "================================================================\n",
      "Total params: 33,429,954\n",
      "Trainable params: 8,521,154\n",
      "Non-trainable params: 24,908,800\n",
      "----------------------------------------------------------------\n",
      "Input size (MB): 6.29\n",
      "Forward/backward pass size (MB): 1529.41\n",
      "Params size (MB): 127.53\n",
      "Estimated Total Size (MB): 1663.23\n",
      "----------------------------------------------------------------\n"
     ]
    }
   ],
   "source": [
    "summary(binary_resnet_finetune, (3, 100, 100,55))"
   ]
  },
  {
   "cell_type": "code",
   "execution_count": 23,
   "metadata": {
    "colab": {
     "base_uri": "https://localhost:8080/"
    },
    "id": "AkP1h1gaYFcT",
    "outputId": "86f10c1f-7b1b-4618-baa3-e36e5519cc1a"
   },
   "outputs": [
    {
     "name": "stdout",
     "output_type": "stream",
     "text": [
      "epoch:  0  batch:   10 [   100/530]  loss: 0.63477176  accuracy:  72.000%\n",
      "epoch:  0  batch:   20 [   200/530]  loss: 0.49372029  accuracy:  76.500%\n",
      "epoch:  0  batch:   30 [   300/530]  loss: 0.47969908  accuracy:  78.333%\n",
      "epoch:  0  batch:   40 [   400/530]  loss: 0.41018444  accuracy:  81.250%\n",
      "epoch:  0  batch:   50 [   500/530]  loss: 0.38114268  accuracy:  82.600%\n",
      "epoch:  1  batch:   10 [   100/530]  loss: 0.55074090  accuracy:  89.000%\n",
      "epoch:  1  batch:   20 [   200/530]  loss: 0.37693909  accuracy:  91.500%\n",
      "epoch:  1  batch:   30 [   300/530]  loss: 0.38785213  accuracy:  91.333%\n",
      "epoch:  1  batch:   40 [   400/530]  loss: 0.26964280  accuracy:  91.750%\n",
      "epoch:  1  batch:   50 [   500/530]  loss: 0.13113311  accuracy:  91.400%\n",
      "epoch:  2  batch:   10 [   100/530]  loss: 0.19504328  accuracy:  99.000%\n",
      "epoch:  2  batch:   20 [   200/530]  loss: 0.16612816  accuracy:  94.500%\n",
      "epoch:  2  batch:   30 [   300/530]  loss: 0.20186751  accuracy:  95.333%\n",
      "epoch:  2  batch:   40 [   400/530]  loss: 0.13520752  accuracy:  95.750%\n",
      "epoch:  2  batch:   50 [   500/530]  loss: 0.09053569  accuracy:  95.400%\n",
      "epoch:  3  batch:   10 [   100/530]  loss: 0.06653084  accuracy:  99.000%\n",
      "epoch:  3  batch:   20 [   200/530]  loss: 0.14696227  accuracy:  99.000%\n",
      "epoch:  3  batch:   30 [   300/530]  loss: 0.13968347  accuracy:  99.000%\n",
      "epoch:  3  batch:   40 [   400/530]  loss: 0.11341921  accuracy:  98.250%\n",
      "epoch:  3  batch:   50 [   500/530]  loss: 0.05767284  accuracy:  97.200%\n",
      "epoch:  4  batch:   10 [   100/530]  loss: 0.25840926  accuracy:  96.000%\n",
      "epoch:  4  batch:   20 [   200/530]  loss: 0.23662405  accuracy:  94.000%\n",
      "epoch:  4  batch:   30 [   300/530]  loss: 0.03176918  accuracy:  95.000%\n",
      "epoch:  4  batch:   40 [   400/530]  loss: 0.04583319  accuracy:  94.750%\n",
      "epoch:  4  batch:   50 [   500/530]  loss: 0.06274682  accuracy:  95.800%\n",
      "\n",
      "Duration: 21460 seconds\n"
     ]
    }
   ],
   "source": [
    "import time\n",
    "start_time = time.time()\n",
    "torch.manual_seed(21)\n",
    "epochs = 5\n",
    "train_losses = []\n",
    "test_losses = []\n",
    "train_correct = []\n",
    "test_correct = []\n",
    "\n",
    "for i in range(epochs):\n",
    "    trn_corr = 0\n",
    "    tst_corr = 0\n",
    "    \n",
    "    # Run the training batches\n",
    "    for b, (X_train, y_train) in enumerate(train_dataloader):\n",
    "        b+=1\n",
    "        \n",
    "        # Apply the model\n",
    "        y_pred = binary_resnet_finetune(X_train)\n",
    "        loss = criterion(y_pred, y_train)\n",
    " \n",
    "        # Tally the number of correct predictions\n",
    "        predicted = torch.max(y_pred.data, 1)[1]\n",
    "        batch_corr = (predicted == y_train).sum()\n",
    "        trn_corr += batch_corr\n",
    "        \n",
    "        # Update parameters\n",
    "        optimizer.zero_grad()\n",
    "        loss.backward()\n",
    "        optimizer.step()\n",
    "        \n",
    "        # Print interim results\n",
    "        if b%10 == 0:\n",
    "            print(f'epoch: {i:2}  batch: {b:4} [{10*b:6}/530]  loss: {loss.item():10.8f}  \\\n",
    "accuracy: {trn_corr.item()*100/(10*b):7.3f}%')\n",
    "        \n",
    "    train_losses.append(loss)\n",
    "    train_correct.append(trn_corr)\n",
    "        \n",
    "    # Run the testing batches\n",
    "    with torch.no_grad():\n",
    "        for b, (X_val, y_val) in enumerate(validation_dataloader):\n",
    "\n",
    "            # Apply the model\n",
    "            outputs = binary_resnet_finetune(X_val)\n",
    "\n",
    "            # Tally the number of correct predictions\n",
    "            predicted = torch.max(outputs.data, 1)[1] \n",
    "            tst_corr += (predicted == y_val).sum()\n",
    "            \n",
    "    loss = criterion(outputs, y_val)\n",
    "    test_losses.append(loss)\n",
    "    test_correct.append(tst_corr)\n",
    "        \n",
    "print(f'\\nDuration: {time.time() - start_time:.0f} seconds') # print the time elapsed  "
   ]
  },
  {
   "cell_type": "code",
   "execution_count": 24,
   "metadata": {
    "colab": {
     "base_uri": "https://localhost:8080/",
     "height": 281
    },
    "id": "H6lr8IE6Yw_t",
    "outputId": "e85fa178-fb0b-4ffb-b907-83c9c0c500c4"
   },
   "outputs": [
    {
     "data": {
      "image/png": "[encoded data removed]",
      "text/plain": [
       "<Figure size 432x288 with 1 Axes>"
      ]
     },
     "metadata": {
      "needs_background": "light"
     },
     "output_type": "display_data"
    }
   ],
   "source": [
    "plt.plot(train_losses, label='training loss')\n",
    "plt.plot(test_losses, label='validation loss')\n",
    "plt.title('Loss at the end of each epoch')\n",
    "plt.legend();\n",
    "#plt.savefig('model_resnet_losscurves.png')"
   ]
  },
  {
   "cell_type": "code",
   "execution_count": 25,
   "metadata": {
    "colab": {
     "base_uri": "https://localhost:8080/",
     "height": 281
    },
    "id": "qZGOUAt6YyEZ",
    "outputId": "c31ca397-7789-4885-a488-5bd99583bbb4"
   },
   "outputs": [
    {
     "data": {
      "image/png": "[encoded data removed]",
      "text/plain": [
       "<Figure size 432x288 with 1 Axes>"
      ]
     },
     "metadata": {
      "needs_background": "light"
     },
     "output_type": "display_data"
    }
   ],
   "source": [
    "plt.plot([t/530 for t in train_correct], label='training accuracy')\n",
    "plt.plot([t/66 for t in test_correct], label='validation accuracy')\n",
    "plt.title('Accuracy at the end of each epoch')\n",
    "plt.legend();"
   ]
  },
  {
   "cell_type": "markdown",
   "metadata": {
    "id": "ujDlba3WYpUM"
   },
   "source": [
    "#Evaluation of a model"
   ]
  },
  {
   "cell_type": "code",
   "execution_count": 26,
   "metadata": {
    "colab": {
     "base_uri": "https://localhost:8080/"
    },
    "id": "dzoOO1MRYFeO",
    "outputId": "34f12a2f-7e50-48cf-dc8f-821cffdb9c12"
   },
   "outputs": [
    {
     "name": "stdout",
     "output_type": "stream",
     "text": [
      "Testing  accuracy: 66/67 =  98.507%\n"
     ]
    }
   ],
   "source": [
    "torch.manual_seed(22)\n",
    "with torch.no_grad():\n",
    "    correct = 0\n",
    "    for X_test, y_test in test_dataloader:\n",
    "        y_val1 = binary_resnet_finetune(X_test)  # we don't flatten the data this time\n",
    "        predicted = torch.max(y_val1,1)[1]\n",
    "        correct += (predicted == y_test).sum()\n",
    "print(f'Testing  accuracy: {correct.item()}/{len(dataset2)} = {correct.item()*100/(len(dataset2)):7.3f}%')\n",
    "from sklearn.metrics import accuracy_score"
   ]
  },
  {
   "cell_type": "code",
   "execution_count": 27,
   "metadata": {
    "colab": {
     "base_uri": "https://localhost:8080/"
    },
    "id": "s0I1M6L0YFhs",
    "outputId": "1ae4d1b3-231b-40af-8691-c552fa71662a"
   },
   "outputs": [
    {
     "name": "stdout",
     "output_type": "stream",
     "text": [
      "Accuracy of the network on the 66 test images: 98 %\n"
     ]
    }
   ],
   "source": [
    "torch.manual_seed(23)\n",
    "correct = 0\n",
    "total = 0\n",
    "# since we're not training, we don't need to calculate the gradients for our outputs\n",
    "with torch.no_grad():\n",
    "    for data in test_dataloader:\n",
    "        images, labels = data\n",
    "        # calculate outputs by running images through the network\n",
    "        outputs = binary_resnet_finetune(images)\n",
    "        # the class with the highest energy is what we choose as prediction\n",
    "        _, predicted = torch.max(outputs.data, 1)\n",
    "        total += labels.size(0)\n",
    "        correct += (predicted == labels).sum().item()\n",
    "print(f'Accuracy of the network on the 66 test images: {100 * correct // total} %')"
   ]
  },
  {
   "cell_type": "code",
   "execution_count": 28,
   "metadata": {
    "colab": {
     "base_uri": "https://localhost:8080/",
     "height": 513
    },
    "id": "Pwt2jPLwYFkK",
    "outputId": "4948d8dc-0434-487d-a8b7-04d4622b42ef"
   },
   "outputs": [
    {
     "name": "stderr",
     "output_type": "stream",
     "text": [
      "No handles with labels found to put in legend.\n"
     ]
    },
    {
     "data": {
      "image/png": "[encoded data removed]",
      "text/plain": [
       "<Figure size 540x540 with 1 Axes>"
      ]
     },
     "metadata": {
      "needs_background": "light"
     },
     "output_type": "display_data"
    },
    {
     "name": "stdout",
     "output_type": "stream",
     "text": [
      "tensor([0.9630, 1.0000])\n"
     ]
    }
   ],
   "source": [
    "torch.manual_seed(24)\n",
    "nb_classes = 2\n",
    "from sklearn.metrics import confusion_matrix\n",
    "confusion_matrix = torch.zeros(nb_classes, nb_classes)\n",
    "with torch.no_grad():\n",
    "    for i, (inputs, classes) in enumerate(test_dataloader):\n",
    "        inputs = inputs.to(device)\n",
    "        classes = classes.to(device)\n",
    "        outputs = binary_resnet_finetune(inputs)\n",
    "        _, preds = torch.max(outputs, 1)\n",
    "        for t, p in zip(classes.view(-1), preds.view(-1)):\n",
    "                confusion_matrix[t.long(), p.long()] += 1\n",
    "fig, ax = plt.subplots(figsize=(7.5, 7.5))\n",
    "ax.matshow(confusion_matrix, cmap=plt.cm.Blues, alpha=0.3)\n",
    "for i in range(confusion_matrix.shape[0]):\n",
    "  for j in range(confusion_matrix.shape[1]):\n",
    "    ax.text(x=j, y=i,s=confusion_matrix[i, j], va='center', ha='center', size='xx-large')\n",
    "plt.xlabel('Predictions', fontsize=18)\n",
    "plt.ylabel('Actuals', fontsize=18)\n",
    "plt.legend()\n",
    "plt.show();\n",
    "print(confusion_matrix.diag()/confusion_matrix.sum(1))\n",
    "#print(confusion_matrix)"
   ]
  },
  {
   "cell_type": "code",
   "execution_count": 29,
   "metadata": {
    "colab": {
     "base_uri": "https://localhost:8080/"
    },
    "id": "-JHBcAtuYFnu",
    "outputId": "e13cd7ad-881b-48db-91f9-947cdf526165"
   },
   "outputs": [
    {
     "name": "stdout",
     "output_type": "stream",
     "text": [
      "Accuracy for class CN    is: 96.3 %\n",
      "Accuracy for class AD    is: 100.0 %\n"
     ]
    }
   ],
   "source": [
    "torch.manual_seed(33)\n",
    "# prepare to count predictions for each class\n",
    "classes= ['CN','AD']\n",
    "correct_pred = {classname: 0 for classname in classes}\n",
    "total_pred = {classname: 0 for classname in classes}\n",
    "\n",
    "# again no gradients needed\n",
    "with torch.no_grad():\n",
    "    for X_test, y_test in test_dataloader:\n",
    "        outputs = binary_resnet_finetune(X_test)\n",
    "        _, predictions = torch.max(outputs, 1)\n",
    "        # collect the correct predictions for each class\n",
    "        for label, prediction in zip(y_test, predictions):\n",
    "            if label == prediction:\n",
    "                correct_pred[classes[label]] += 1\n",
    "            total_pred[classes[label]] += 1\n",
    "\n",
    "\n",
    "# print accuracy for each class\n",
    "for classname, correct_count in correct_pred.items():\n",
    "    accuracy = 100 * float(correct_count) / total_pred[classname]\n",
    "    print(\"Accuracy for class {:5s} is: {:.1f} %\".format(classname,\n",
    "                                                   accuracy))"
   ]
  },
  {
   "cell_type": "code",
   "execution_count": 30,
   "metadata": {
    "colab": {
     "base_uri": "https://localhost:8080/"
    },
    "id": "DZzS08y8ZiL_",
    "outputId": "1f3931d6-2e43-4325-dbf0-91af0c2f7fc8"
   },
   "outputs": [
    {
     "name": "stdout",
     "output_type": "stream",
     "text": [
      "Accuracy of the network on the 67 test images: 98 %\n"
     ]
    },
    {
     "data": {
      "text/plain": [
       "0.9692657331337372"
      ]
     },
     "execution_count": 30,
     "metadata": {},
     "output_type": "execute_result"
    }
   ],
   "source": [
    "torch.manual_seed(25)\n",
    "y_pred_list = []\n",
    "labels_list = []\n",
    "correct = 0\n",
    "total = 0\n",
    "# since we're not training, we don't need to calculate the gradients for our outputs\n",
    "with torch.no_grad():\n",
    "    for data in test_dataloader:\n",
    "        images, labels = data\n",
    "        batch_size = images.shape[0]\n",
    "        # calculate outputs by running images through the network\n",
    "        outputs = binary_resnet_finetune(images)\n",
    "        # the class with the highest energy is what we choose as prediction\n",
    "        _, predicted = torch.max(outputs.data, 1)\n",
    "        total += labels.size(0)\n",
    "        correct += (predicted == labels).sum().item()\n",
    "        predicted=predicted.detach().numpy()\n",
    "        labels=labels.detach().numpy()\n",
    "        for i in range(batch_size):\n",
    "          y_pred_list.append(predicted[i])\n",
    "          labels_list.append(labels[i])\n",
    "\n",
    "print(f'Accuracy of the network on the 67 test images: {100 * correct // total} %')\n",
    "matthews_corrcoef(y_pred_list, labels_list) \n"
   ]
  },
  {
   "cell_type": "code",
   "execution_count": 31,
   "metadata": {
    "colab": {
     "base_uri": "https://localhost:8080/"
    },
    "id": "2xTzZKOKZiOV",
    "outputId": "077c716b-a333-4dd7-dd5d-0720f548c288"
   },
   "outputs": [
    {
     "data": {
      "text/plain": [
       "67"
      ]
     },
     "execution_count": 31,
     "metadata": {},
     "output_type": "execute_result"
    }
   ],
   "source": [
    "len(y_pred_list)"
   ]
  },
  {
   "cell_type": "code",
   "execution_count": 32,
   "metadata": {
    "colab": {
     "base_uri": "https://localhost:8080/"
    },
    "id": "pHQT8nbBZiSQ",
    "outputId": "a8d04f56-d104-46de-b0ec-a4eb610ba257"
   },
   "outputs": [
    {
     "data": {
      "text/plain": [
       "67"
      ]
     },
     "execution_count": 32,
     "metadata": {},
     "output_type": "execute_result"
    }
   ],
   "source": [
    "len(labels_list)"
   ]
  },
  {
   "cell_type": "code",
   "execution_count": 33,
   "metadata": {
    "colab": {
     "base_uri": "https://localhost:8080/"
    },
    "id": "5DUiMOevbA0e",
    "outputId": "8bd69af0-cc47-4ba7-fb3a-69105110dfca"
   },
   "outputs": [
    {
     "name": "stdout",
     "output_type": "stream",
     "text": [
      "0.9850746268656716\n"
     ]
    }
   ],
   "source": [
    "acc = accuracy_score(y_pred_list,labels_list)\n",
    "print(acc)"
   ]
  },
  {
   "cell_type": "code",
   "execution_count": 34,
   "metadata": {
    "colab": {
     "base_uri": "https://localhost:8080/"
    },
    "id": "V2zhnB47bA2w",
    "outputId": "3eb8d0fd-7d91-4fe5-c46f-515dff51e2b4"
   },
   "outputs": [
    {
     "data": {
      "text/plain": [
       "0.9878048780487805"
      ]
     },
     "execution_count": 34,
     "metadata": {},
     "output_type": "execute_result"
    }
   ],
   "source": [
    "balanced_accuracy_score(y_pred_list,labels_list)\n"
   ]
  },
  {
   "cell_type": "code",
   "execution_count": 35,
   "metadata": {
    "id": "vxE63m98bA60"
   },
   "outputs": [],
   "source": [
    "filepath='Binary_classification_eval.pt'\n",
    "torch.save(binary_resnet_finetune.state_dict(), filepath)"
   ]
  },
  {
   "cell_type": "code",
   "execution_count": null,
   "metadata": {
    "id": "NzWwtRkzzZ7F"
   },
   "outputs": [],
   "source": []
  }
 ],
 "metadata": {
  "colab": {
   "machine_shape": "hm",
   "name": "Binary_Classification_ADNI.pynb",
   "provenance": []
  },
  "kernelspec": {
   "display_name": "Python 3",
   "language": "python",
   "name": "python3"
  },
  "language_info": {
   "codemirror_mode": {
    "name": "ipython",
    "version": 3
   },
   "file_extension": ".py",
   "mimetype": "text/x-python",
   "name": "python",
   "nbconvert_exporter": "python",
   "pygments_lexer": "ipython3",
   "version": "3.8.8"
  }
 },
 "nbformat": 4,
 "nbformat_minor": 1
}
