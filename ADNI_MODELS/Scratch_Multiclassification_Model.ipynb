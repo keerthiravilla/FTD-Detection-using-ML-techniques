{
 "cells": [
  {
   "cell_type": "code",
   "execution_count": 3,
   "metadata": {
    "id": "noHDhBbWDEnp"
   },
   "outputs": [],
   "source": [
    "#Scratch Model Classification\n",
    "import zipfile\n",
    "import nibabel as nib\n",
    "import torch\n",
    "import torch.nn as nn\n",
    "import torch.nn.functional as F\n",
    "from torchvision.utils import make_grid\n",
    "import numpy as np\n",
    "import pandas as pd\n",
    "import pickle\n",
    "from sklearn.metrics import confusion_matrix\n",
    "import matplotlib.pyplot as plt\n",
    "import glob\n",
    "from torch.autograd import Variable\n",
    "from torchvision import models\n",
    "from torch.nn import Module,  Linear, ReLU, CrossEntropyLoss, Sequential, Conv3d, MaxPool3d, Softmax, BatchNorm3d\n",
    "from torch.optim import Adam\n",
    "from tqdm import tqdm\n",
    "from sklearn.metrics import accuracy_score\n",
    "import seaborn as sn\n",
    "import torch.optim as optim\n",
    "from sklearn.metrics import accuracy_score\n",
    "from sklearn.metrics import balanced_accuracy_score\n",
    "from sklearn.metrics import matthews_corrcoef\n",
    "from torchsummary import summary\n",
    "\n",
    "%matplotlib inline"
   ]
  },
  {
   "cell_type": "code",
   "execution_count": 4,
   "metadata": {
    "colab": {
     "base_uri": "https://localhost:8080/"
    },
    "id": "XobsECwpDZo0",
    "outputId": "d529f3e9-dbb1-4b38-cd7c-dadf3a7c5c1c"
   },
   "outputs": [
    {
     "name": "stdout",
     "output_type": "stream",
     "text": [
      "Mounted at /content/drive/\n"
     ]
    }
   ],
   "source": [
    "from google.colab import drive\n",
    "drive.mount('/content/drive/')"
   ]
  },
  {
   "cell_type": "code",
   "execution_count": 5,
   "metadata": {
    "colab": {
     "base_uri": "https://localhost:8080/"
    },
    "id": "NqqiwD-qDZq5",
    "outputId": "f11d53a6-2e4e-4988-efd1-7171c84e5258"
   },
   "outputs": [
    {
     "name": "stdout",
     "output_type": "stream",
     "text": [
      "There are 4 directories and 0 images in '/content/drive/My Drive/ADNI_full'.\n",
      "There are 0 directories and 189 images in '/content/drive/My Drive/ADNI_full/AD'.\n",
      "There are 0 directories and 220 images in '/content/drive/My Drive/ADNI_full/LMCI'.\n",
      "There are 0 directories and 254 images in '/content/drive/My Drive/ADNI_full/CN'.\n",
      "There are 0 directories and 0 images in '/content/drive/My Drive/ADNI_full/.ipynb_checkpoints'.\n"
     ]
    },
    {
     "data": {
      "text/plain": [
       "0"
      ]
     },
     "execution_count": 5,
     "metadata": {},
     "output_type": "execute_result"
    }
   ],
   "source": [
    "import os\n",
    "#walk through directory and list through files\n",
    "for dirpath, dirnames, filenames in os.walk(\"/content/drive/My Drive/ADNI_full\"):\n",
    "  print(f\"There are {len(dirnames)} directories and {len(filenames)} images in '{dirpath}'.\")\n",
    "len(filenames)\n"
   ]
  },
  {
   "cell_type": "code",
   "execution_count": 6,
   "metadata": {
    "colab": {
     "base_uri": "https://localhost:8080/"
    },
    "id": "H6F4aPpsDZun",
    "outputId": "a34ac5ff-ebca-4153-cff3-b1a4460a2340"
   },
   "outputs": [
    {
     "name": "stdout",
     "output_type": "stream",
     "text": [
      "['.ipynb_checkpoints' 'AD' 'CN' 'LMCI']\n"
     ]
    }
   ],
   "source": [
    "#Get the class names\n",
    "import numpy as np\n",
    "import pathlib\n",
    "data_dir = pathlib.Path('/content/drive/My Drive/ADNI_full')\n",
    "class_names = np.array(sorted([item.name for item in data_dir.glob('*')]))\n",
    "print(class_names)"
   ]
  },
  {
   "cell_type": "code",
   "execution_count": 7,
   "metadata": {
    "id": "MuvQclJMDZwy"
   },
   "outputs": [],
   "source": [
    "\n",
    "with open(\"/content/drive/MyDrive/Images_ADNI.txt\", 'rb') as fp:\n",
    "  X=pickle.load(fp)\n",
    "  y=pickle.load(fp)"
   ]
  },
  {
   "cell_type": "code",
   "execution_count": 8,
   "metadata": {
    "colab": {
     "base_uri": "https://localhost:8080/"
    },
    "id": "PuD6IXKWDZz2",
    "outputId": "ef74ea15-beea-473b-cd0b-0288ff74f423"
   },
   "outputs": [
    {
     "data": {
      "text/plain": [
       "((663, 100, 100, 55, 1), (663,))"
      ]
     },
     "execution_count": 8,
     "metadata": {},
     "output_type": "execute_result"
    }
   ],
   "source": [
    "X.shape, y.shape"
   ]
  },
  {
   "cell_type": "code",
   "execution_count": 9,
   "metadata": {
    "colab": {
     "base_uri": "https://localhost:8080/"
    },
    "id": "Li2_2WovDZ2t",
    "outputId": "03675e5d-eecb-4c51-85cc-215d2297631d"
   },
   "outputs": [
    {
     "data": {
      "text/plain": [
       "(torch.Size([663, 100, 100, 55, 1]), torch.float32)"
      ]
     },
     "execution_count": 9,
     "metadata": {},
     "output_type": "execute_result"
    }
   ],
   "source": [
    "X = torch.from_numpy(X)\n",
    "X.shape, X.dtype"
   ]
  },
  {
   "cell_type": "code",
   "execution_count": 10,
   "metadata": {
    "colab": {
     "base_uri": "https://localhost:8080/"
    },
    "id": "3Z36qq_DDz0y",
    "outputId": "979ac69d-1961-400d-9c2e-2fe3ae69328a"
   },
   "outputs": [
    {
     "data": {
      "text/plain": [
       "torch.Size([663, 1, 100, 100, 55])"
      ]
     },
     "execution_count": 10,
     "metadata": {},
     "output_type": "execute_result"
    }
   ],
   "source": [
    "X=X.reshape(663,1,100,100,55)\n",
    "\n",
    "X.shape"
   ]
  },
  {
   "cell_type": "code",
   "execution_count": 11,
   "metadata": {
    "colab": {
     "base_uri": "https://localhost:8080/"
    },
    "id": "XXP-JHK-Dz2-",
    "outputId": "7e6d5d00-fb3a-47f3-cd22-b70340cc90db"
   },
   "outputs": [
    {
     "data": {
      "text/plain": [
       "torch.Size([663, 3, 100, 100, 55])"
      ]
     },
     "execution_count": 11,
     "metadata": {},
     "output_type": "execute_result"
    }
   ],
   "source": [
    "X=X.expand(-1,3,-1,-1,-1)\n",
    "X.shape"
   ]
  },
  {
   "cell_type": "code",
   "execution_count": 12,
   "metadata": {
    "colab": {
     "base_uri": "https://localhost:8080/"
    },
    "id": "AHXVDGULxxzb",
    "outputId": "87e838e5-f846-48d7-8d7a-92783950e3bb"
   },
   "outputs": [
    {
     "data": {
      "text/plain": [
       "(torch.Size([663]), torch.int64)"
      ]
     },
     "execution_count": 12,
     "metadata": {},
     "output_type": "execute_result"
    }
   ],
   "source": [
    "y = torch.from_numpy(y)\n",
    "y.shape, y.dtype"
   ]
  },
  {
   "cell_type": "code",
   "execution_count": 13,
   "metadata": {
    "colab": {
     "base_uri": "https://localhost:8080/"
    },
    "id": "hrBRsmTODz8o",
    "outputId": "6501aa6c-06a4-429e-d405-cef893b9c78c"
   },
   "outputs": [
    {
     "data": {
      "text/plain": [
       "((torch.Size([530, 3, 100, 100, 55]), torch.Size([530])),\n",
       " (torch.Size([67, 3, 100, 100, 55]), torch.Size([67])),\n",
       " (torch.Size([66, 3, 100, 100, 55]), torch.Size([66])),\n",
       " (torch.float32, torch.int64))"
      ]
     },
     "execution_count": 13,
     "metadata": {},
     "output_type": "execute_result"
    }
   ],
   "source": [
    "from sklearn.model_selection import train_test_split\n",
    "#batch_size=32\n",
    "X_train,X_test_data, y_train,y_test_data =train_test_split(X,y, test_size=0.2,  random_state=42)\n",
    "X_val,X_test,y_val,y_test= train_test_split(X_test_data,y_test_data, test_size=0.5,random_state=42)\n",
    "#X_train, X_test, y_train, y_test,X_val,y_val = X_train.cuda(), X_test.cuda(), y_train.cuda(), y_test.cuda(),X_val.cuda(), y_val.cuda()\n",
    "\n",
    "(X_train.shape, y_train.shape),(X_test.shape, y_test.shape),(X_val.shape,y_val.shape), (X_train.dtype, y_train.dtype)"
   ]
  },
  {
   "cell_type": "code",
   "execution_count": 14,
   "metadata": {
    "id": "YXpNQ5G6Dz_0"
   },
   "outputs": [],
   "source": [
    "from torch.utils.data import DataLoader,TensorDataset\n",
    "BATCH_SIZE = 10\n",
    "dataset = TensorDataset(X_train, y_train)\n",
    "dataset1= TensorDataset(X_val, y_val)\n",
    "dataset2 = TensorDataset(X_test, y_test)\n",
    "\n",
    "\n",
    "train_dataloader = DataLoader(dataset, batch_size=BATCH_SIZE, shuffle=True)\n",
    "validation_dataloader= DataLoader(dataset1, batch_size=BATCH_SIZE, shuffle=True)\n",
    "test_dataloader= DataLoader(dataset2,batch_size=BATCH_SIZE, shuffle=False)"
   ]
  },
  {
   "cell_type": "code",
   "execution_count": 15,
   "metadata": {
    "id": "5UXpxw3WlO4F"
   },
   "outputs": [],
   "source": [
    "device = torch.device(\"cuda:0\" if torch.cuda.is_available() else \"cpu\")"
   ]
  },
  {
   "cell_type": "code",
   "execution_count": 16,
   "metadata": {
    "id": "h8j6dnxlETPZ"
   },
   "outputs": [],
   "source": [
    "multiclass_resnet_scratch = models.video.r3d_18(pretrained=False, progress=False)"
   ]
  },
  {
   "cell_type": "code",
   "execution_count": 17,
   "metadata": {
    "id": "SaZKx7kdETTa"
   },
   "outputs": [],
   "source": [
    "multiclass_resnet_scratch = multiclass_resnet_scratch.to(device)"
   ]
  },
  {
   "cell_type": "code",
   "execution_count": 18,
   "metadata": {
    "colab": {
     "base_uri": "https://localhost:8080/"
    },
    "id": "qPjko5JnETWQ",
    "outputId": "777482a7-1ed8-4ad1-aa75-c66b5399e471"
   },
   "outputs": [
    {
     "name": "stdout",
     "output_type": "stream",
     "text": [
      "----------------------------------------------------------------\n",
      "        Layer (type)               Output Shape         Param #\n",
      "================================================================\n",
      "            Conv3d-1      [-1, 64, 100, 50, 28]          28,224\n",
      "       BatchNorm3d-2      [-1, 64, 100, 50, 28]             128\n",
      "              ReLU-3      [-1, 64, 100, 50, 28]               0\n",
      "      Conv3DSimple-4      [-1, 64, 100, 50, 28]         110,592\n",
      "       BatchNorm3d-5      [-1, 64, 100, 50, 28]             128\n",
      "              ReLU-6      [-1, 64, 100, 50, 28]               0\n",
      "      Conv3DSimple-7      [-1, 64, 100, 50, 28]         110,592\n",
      "       BatchNorm3d-8      [-1, 64, 100, 50, 28]             128\n",
      "              ReLU-9      [-1, 64, 100, 50, 28]               0\n",
      "       BasicBlock-10      [-1, 64, 100, 50, 28]               0\n",
      "     Conv3DSimple-11      [-1, 64, 100, 50, 28]         110,592\n",
      "      BatchNorm3d-12      [-1, 64, 100, 50, 28]             128\n",
      "             ReLU-13      [-1, 64, 100, 50, 28]               0\n",
      "     Conv3DSimple-14      [-1, 64, 100, 50, 28]         110,592\n",
      "      BatchNorm3d-15      [-1, 64, 100, 50, 28]             128\n",
      "             ReLU-16      [-1, 64, 100, 50, 28]               0\n",
      "       BasicBlock-17      [-1, 64, 100, 50, 28]               0\n",
      "     Conv3DSimple-18      [-1, 128, 50, 25, 14]         221,184\n",
      "      BatchNorm3d-19      [-1, 128, 50, 25, 14]             256\n",
      "             ReLU-20      [-1, 128, 50, 25, 14]               0\n",
      "     Conv3DSimple-21      [-1, 128, 50, 25, 14]         442,368\n",
      "      BatchNorm3d-22      [-1, 128, 50, 25, 14]             256\n",
      "           Conv3d-23      [-1, 128, 50, 25, 14]           8,192\n",
      "      BatchNorm3d-24      [-1, 128, 50, 25, 14]             256\n",
      "             ReLU-25      [-1, 128, 50, 25, 14]               0\n",
      "       BasicBlock-26      [-1, 128, 50, 25, 14]               0\n",
      "     Conv3DSimple-27      [-1, 128, 50, 25, 14]         442,368\n",
      "      BatchNorm3d-28      [-1, 128, 50, 25, 14]             256\n",
      "             ReLU-29      [-1, 128, 50, 25, 14]               0\n",
      "     Conv3DSimple-30      [-1, 128, 50, 25, 14]         442,368\n",
      "      BatchNorm3d-31      [-1, 128, 50, 25, 14]             256\n",
      "             ReLU-32      [-1, 128, 50, 25, 14]               0\n",
      "       BasicBlock-33      [-1, 128, 50, 25, 14]               0\n",
      "     Conv3DSimple-34       [-1, 256, 25, 13, 7]         884,736\n",
      "      BatchNorm3d-35       [-1, 256, 25, 13, 7]             512\n",
      "             ReLU-36       [-1, 256, 25, 13, 7]               0\n",
      "     Conv3DSimple-37       [-1, 256, 25, 13, 7]       1,769,472\n",
      "      BatchNorm3d-38       [-1, 256, 25, 13, 7]             512\n",
      "           Conv3d-39       [-1, 256, 25, 13, 7]          32,768\n",
      "      BatchNorm3d-40       [-1, 256, 25, 13, 7]             512\n",
      "             ReLU-41       [-1, 256, 25, 13, 7]               0\n",
      "       BasicBlock-42       [-1, 256, 25, 13, 7]               0\n",
      "     Conv3DSimple-43       [-1, 256, 25, 13, 7]       1,769,472\n",
      "      BatchNorm3d-44       [-1, 256, 25, 13, 7]             512\n",
      "             ReLU-45       [-1, 256, 25, 13, 7]               0\n",
      "     Conv3DSimple-46       [-1, 256, 25, 13, 7]       1,769,472\n",
      "      BatchNorm3d-47       [-1, 256, 25, 13, 7]             512\n",
      "             ReLU-48       [-1, 256, 25, 13, 7]               0\n",
      "       BasicBlock-49       [-1, 256, 25, 13, 7]               0\n",
      "     Conv3DSimple-50        [-1, 512, 13, 7, 4]       3,538,944\n",
      "      BatchNorm3d-51        [-1, 512, 13, 7, 4]           1,024\n",
      "             ReLU-52        [-1, 512, 13, 7, 4]               0\n",
      "     Conv3DSimple-53        [-1, 512, 13, 7, 4]       7,077,888\n",
      "      BatchNorm3d-54        [-1, 512, 13, 7, 4]           1,024\n",
      "           Conv3d-55        [-1, 512, 13, 7, 4]         131,072\n",
      "      BatchNorm3d-56        [-1, 512, 13, 7, 4]           1,024\n",
      "             ReLU-57        [-1, 512, 13, 7, 4]               0\n",
      "       BasicBlock-58        [-1, 512, 13, 7, 4]               0\n",
      "     Conv3DSimple-59        [-1, 512, 13, 7, 4]       7,077,888\n",
      "      BatchNorm3d-60        [-1, 512, 13, 7, 4]           1,024\n",
      "             ReLU-61        [-1, 512, 13, 7, 4]               0\n",
      "     Conv3DSimple-62        [-1, 512, 13, 7, 4]       7,077,888\n",
      "      BatchNorm3d-63        [-1, 512, 13, 7, 4]           1,024\n",
      "             ReLU-64        [-1, 512, 13, 7, 4]               0\n",
      "       BasicBlock-65        [-1, 512, 13, 7, 4]               0\n",
      "AdaptiveAvgPool3d-66         [-1, 512, 1, 1, 1]               0\n",
      "           Linear-67                  [-1, 400]         205,200\n",
      "================================================================\n",
      "Total params: 33,371,472\n",
      "Trainable params: 33,371,472\n",
      "Non-trainable params: 0\n",
      "----------------------------------------------------------------\n",
      "Input size (MB): 6.29\n",
      "Forward/backward pass size (MB): 1529.40\n",
      "Params size (MB): 127.30\n",
      "Estimated Total Size (MB): 1662.99\n",
      "----------------------------------------------------------------\n"
     ]
    }
   ],
   "source": [
    "summary(multiclass_resnet_scratch, (3, 100, 100,55))"
   ]
  },
  {
   "cell_type": "code",
   "execution_count": 20,
   "metadata": {
    "colab": {
     "base_uri": "https://localhost:8080/"
    },
    "id": "ZWrWcUL2Enie",
    "outputId": "abfb787a-462d-4d61-c631-7c6e23197a30"
   },
   "outputs": [
    {
     "data": {
      "text/plain": [
       "VideoResNet(\n",
       "  (stem): BasicStem(\n",
       "    (0): Conv3d(3, 64, kernel_size=(3, 7, 7), stride=(1, 2, 2), padding=(1, 3, 3), bias=False)\n",
       "    (1): BatchNorm3d(64, eps=1e-05, momentum=0.1, affine=True, track_running_stats=True)\n",
       "    (2): ReLU(inplace=True)\n",
       "  )\n",
       "  (layer1): Sequential(\n",
       "    (0): BasicBlock(\n",
       "      (conv1): Sequential(\n",
       "        (0): Conv3DSimple(64, 64, kernel_size=(3, 3, 3), stride=(1, 1, 1), padding=(1, 1, 1), bias=False)\n",
       "        (1): BatchNorm3d(64, eps=1e-05, momentum=0.1, affine=True, track_running_stats=True)\n",
       "        (2): ReLU(inplace=True)\n",
       "      )\n",
       "      (conv2): Sequential(\n",
       "        (0): Conv3DSimple(64, 64, kernel_size=(3, 3, 3), stride=(1, 1, 1), padding=(1, 1, 1), bias=False)\n",
       "        (1): BatchNorm3d(64, eps=1e-05, momentum=0.1, affine=True, track_running_stats=True)\n",
       "      )\n",
       "      (relu): ReLU(inplace=True)\n",
       "    )\n",
       "    (1): BasicBlock(\n",
       "      (conv1): Sequential(\n",
       "        (0): Conv3DSimple(64, 64, kernel_size=(3, 3, 3), stride=(1, 1, 1), padding=(1, 1, 1), bias=False)\n",
       "        (1): BatchNorm3d(64, eps=1e-05, momentum=0.1, affine=True, track_running_stats=True)\n",
       "        (2): ReLU(inplace=True)\n",
       "      )\n",
       "      (conv2): Sequential(\n",
       "        (0): Conv3DSimple(64, 64, kernel_size=(3, 3, 3), stride=(1, 1, 1), padding=(1, 1, 1), bias=False)\n",
       "        (1): BatchNorm3d(64, eps=1e-05, momentum=0.1, affine=True, track_running_stats=True)\n",
       "      )\n",
       "      (relu): ReLU(inplace=True)\n",
       "    )\n",
       "  )\n",
       "  (layer2): Sequential(\n",
       "    (0): BasicBlock(\n",
       "      (conv1): Sequential(\n",
       "        (0): Conv3DSimple(64, 128, kernel_size=(3, 3, 3), stride=(2, 2, 2), padding=(1, 1, 1), bias=False)\n",
       "        (1): BatchNorm3d(128, eps=1e-05, momentum=0.1, affine=True, track_running_stats=True)\n",
       "        (2): ReLU(inplace=True)\n",
       "      )\n",
       "      (conv2): Sequential(\n",
       "        (0): Conv3DSimple(128, 128, kernel_size=(3, 3, 3), stride=(1, 1, 1), padding=(1, 1, 1), bias=False)\n",
       "        (1): BatchNorm3d(128, eps=1e-05, momentum=0.1, affine=True, track_running_stats=True)\n",
       "      )\n",
       "      (relu): ReLU(inplace=True)\n",
       "      (downsample): Sequential(\n",
       "        (0): Conv3d(64, 128, kernel_size=(1, 1, 1), stride=(2, 2, 2), bias=False)\n",
       "        (1): BatchNorm3d(128, eps=1e-05, momentum=0.1, affine=True, track_running_stats=True)\n",
       "      )\n",
       "    )\n",
       "    (1): BasicBlock(\n",
       "      (conv1): Sequential(\n",
       "        (0): Conv3DSimple(128, 128, kernel_size=(3, 3, 3), stride=(1, 1, 1), padding=(1, 1, 1), bias=False)\n",
       "        (1): BatchNorm3d(128, eps=1e-05, momentum=0.1, affine=True, track_running_stats=True)\n",
       "        (2): ReLU(inplace=True)\n",
       "      )\n",
       "      (conv2): Sequential(\n",
       "        (0): Conv3DSimple(128, 128, kernel_size=(3, 3, 3), stride=(1, 1, 1), padding=(1, 1, 1), bias=False)\n",
       "        (1): BatchNorm3d(128, eps=1e-05, momentum=0.1, affine=True, track_running_stats=True)\n",
       "      )\n",
       "      (relu): ReLU(inplace=True)\n",
       "    )\n",
       "  )\n",
       "  (layer3): Sequential(\n",
       "    (0): BasicBlock(\n",
       "      (conv1): Sequential(\n",
       "        (0): Conv3DSimple(128, 256, kernel_size=(3, 3, 3), stride=(2, 2, 2), padding=(1, 1, 1), bias=False)\n",
       "        (1): BatchNorm3d(256, eps=1e-05, momentum=0.1, affine=True, track_running_stats=True)\n",
       "        (2): ReLU(inplace=True)\n",
       "      )\n",
       "      (conv2): Sequential(\n",
       "        (0): Conv3DSimple(256, 256, kernel_size=(3, 3, 3), stride=(1, 1, 1), padding=(1, 1, 1), bias=False)\n",
       "        (1): BatchNorm3d(256, eps=1e-05, momentum=0.1, affine=True, track_running_stats=True)\n",
       "      )\n",
       "      (relu): ReLU(inplace=True)\n",
       "      (downsample): Sequential(\n",
       "        (0): Conv3d(128, 256, kernel_size=(1, 1, 1), stride=(2, 2, 2), bias=False)\n",
       "        (1): BatchNorm3d(256, eps=1e-05, momentum=0.1, affine=True, track_running_stats=True)\n",
       "      )\n",
       "    )\n",
       "    (1): BasicBlock(\n",
       "      (conv1): Sequential(\n",
       "        (0): Conv3DSimple(256, 256, kernel_size=(3, 3, 3), stride=(1, 1, 1), padding=(1, 1, 1), bias=False)\n",
       "        (1): BatchNorm3d(256, eps=1e-05, momentum=0.1, affine=True, track_running_stats=True)\n",
       "        (2): ReLU(inplace=True)\n",
       "      )\n",
       "      (conv2): Sequential(\n",
       "        (0): Conv3DSimple(256, 256, kernel_size=(3, 3, 3), stride=(1, 1, 1), padding=(1, 1, 1), bias=False)\n",
       "        (1): BatchNorm3d(256, eps=1e-05, momentum=0.1, affine=True, track_running_stats=True)\n",
       "      )\n",
       "      (relu): ReLU(inplace=True)\n",
       "    )\n",
       "  )\n",
       "  (layer4): Sequential(\n",
       "    (0): BasicBlock(\n",
       "      (conv1): Sequential(\n",
       "        (0): Conv3DSimple(256, 512, kernel_size=(3, 3, 3), stride=(2, 2, 2), padding=(1, 1, 1), bias=False)\n",
       "        (1): BatchNorm3d(512, eps=1e-05, momentum=0.1, affine=True, track_running_stats=True)\n",
       "        (2): ReLU(inplace=True)\n",
       "      )\n",
       "      (conv2): Sequential(\n",
       "        (0): Conv3DSimple(512, 512, kernel_size=(3, 3, 3), stride=(1, 1, 1), padding=(1, 1, 1), bias=False)\n",
       "        (1): BatchNorm3d(512, eps=1e-05, momentum=0.1, affine=True, track_running_stats=True)\n",
       "      )\n",
       "      (relu): ReLU(inplace=True)\n",
       "      (downsample): Sequential(\n",
       "        (0): Conv3d(256, 512, kernel_size=(1, 1, 1), stride=(2, 2, 2), bias=False)\n",
       "        (1): BatchNorm3d(512, eps=1e-05, momentum=0.1, affine=True, track_running_stats=True)\n",
       "      )\n",
       "    )\n",
       "    (1): BasicBlock(\n",
       "      (conv1): Sequential(\n",
       "        (0): Conv3DSimple(512, 512, kernel_size=(3, 3, 3), stride=(1, 1, 1), padding=(1, 1, 1), bias=False)\n",
       "        (1): BatchNorm3d(512, eps=1e-05, momentum=0.1, affine=True, track_running_stats=True)\n",
       "        (2): ReLU(inplace=True)\n",
       "      )\n",
       "      (conv2): Sequential(\n",
       "        (0): Conv3DSimple(512, 512, kernel_size=(3, 3, 3), stride=(1, 1, 1), padding=(1, 1, 1), bias=False)\n",
       "        (1): BatchNorm3d(512, eps=1e-05, momentum=0.1, affine=True, track_running_stats=True)\n",
       "      )\n",
       "      (relu): ReLU(inplace=True)\n",
       "    )\n",
       "  )\n",
       "  (avgpool): AdaptiveAvgPool3d(output_size=(1, 1, 1))\n",
       "  (fc): Linear(in_features=512, out_features=400, bias=True)\n",
       ")"
      ]
     },
     "execution_count": 20,
     "metadata": {},
     "output_type": "execute_result"
    }
   ],
   "source": [
    "multiclass_resnet_scratch"
   ]
  },
  {
   "cell_type": "code",
   "execution_count": 21,
   "metadata": {
    "id": "VobfDAULEnlC"
   },
   "outputs": [],
   "source": [
    "for param in multiclass_resnet_scratch.parameters():\n",
    "    param.requires_grad = False"
   ]
  },
  {
   "cell_type": "code",
   "execution_count": 22,
   "metadata": {
    "id": "PyjQ1D9OEnoh"
   },
   "outputs": [],
   "source": [
    "multiclass_resnet_scratch.fc =  nn.Sequential(\n",
    "            nn.Linear(512, 512),\n",
    "            nn.LeakyReLU(inplace=True),\n",
    "            nn.Dropout(),\n",
    "            nn.Linear(512, 3),\n",
    "            )\n",
    "for param in multiclass_resnet_scratch.fc.parameters():\n",
    "    param.requires_grad = True"
   ]
  },
  {
   "cell_type": "code",
   "execution_count": 23,
   "metadata": {
    "id": "tPmWKBGcEnxV"
   },
   "outputs": [],
   "source": [
    "criterion = nn.CrossEntropyLoss()\n",
    "optimizer = optim.SGD(multiclass_resnet_scratch.fc.parameters(), lr=0.001) "
   ]
  },
  {
   "cell_type": "code",
   "execution_count": 24,
   "metadata": {
    "colab": {
     "base_uri": "https://localhost:8080/"
    },
    "id": "QYPOdJ25FfTY",
    "outputId": "ed0321a1-06ad-419d-ca88-a929cd6498a9"
   },
   "outputs": [
    {
     "name": "stdout",
     "output_type": "stream",
     "text": [
      "----------------------------------------------------------------\n",
      "        Layer (type)               Output Shape         Param #\n",
      "================================================================\n",
      "            Conv3d-1      [-1, 64, 100, 50, 28]          28,224\n",
      "       BatchNorm3d-2      [-1, 64, 100, 50, 28]             128\n",
      "              ReLU-3      [-1, 64, 100, 50, 28]               0\n",
      "      Conv3DSimple-4      [-1, 64, 100, 50, 28]         110,592\n",
      "       BatchNorm3d-5      [-1, 64, 100, 50, 28]             128\n",
      "              ReLU-6      [-1, 64, 100, 50, 28]               0\n",
      "      Conv3DSimple-7      [-1, 64, 100, 50, 28]         110,592\n",
      "       BatchNorm3d-8      [-1, 64, 100, 50, 28]             128\n",
      "              ReLU-9      [-1, 64, 100, 50, 28]               0\n",
      "       BasicBlock-10      [-1, 64, 100, 50, 28]               0\n",
      "     Conv3DSimple-11      [-1, 64, 100, 50, 28]         110,592\n",
      "      BatchNorm3d-12      [-1, 64, 100, 50, 28]             128\n",
      "             ReLU-13      [-1, 64, 100, 50, 28]               0\n",
      "     Conv3DSimple-14      [-1, 64, 100, 50, 28]         110,592\n",
      "      BatchNorm3d-15      [-1, 64, 100, 50, 28]             128\n",
      "             ReLU-16      [-1, 64, 100, 50, 28]               0\n",
      "       BasicBlock-17      [-1, 64, 100, 50, 28]               0\n",
      "     Conv3DSimple-18      [-1, 128, 50, 25, 14]         221,184\n",
      "      BatchNorm3d-19      [-1, 128, 50, 25, 14]             256\n",
      "             ReLU-20      [-1, 128, 50, 25, 14]               0\n",
      "     Conv3DSimple-21      [-1, 128, 50, 25, 14]         442,368\n",
      "      BatchNorm3d-22      [-1, 128, 50, 25, 14]             256\n",
      "           Conv3d-23      [-1, 128, 50, 25, 14]           8,192\n",
      "      BatchNorm3d-24      [-1, 128, 50, 25, 14]             256\n",
      "             ReLU-25      [-1, 128, 50, 25, 14]               0\n",
      "       BasicBlock-26      [-1, 128, 50, 25, 14]               0\n",
      "     Conv3DSimple-27      [-1, 128, 50, 25, 14]         442,368\n",
      "      BatchNorm3d-28      [-1, 128, 50, 25, 14]             256\n",
      "             ReLU-29      [-1, 128, 50, 25, 14]               0\n",
      "     Conv3DSimple-30      [-1, 128, 50, 25, 14]         442,368\n",
      "      BatchNorm3d-31      [-1, 128, 50, 25, 14]             256\n",
      "             ReLU-32      [-1, 128, 50, 25, 14]               0\n",
      "       BasicBlock-33      [-1, 128, 50, 25, 14]               0\n",
      "     Conv3DSimple-34       [-1, 256, 25, 13, 7]         884,736\n",
      "      BatchNorm3d-35       [-1, 256, 25, 13, 7]             512\n",
      "             ReLU-36       [-1, 256, 25, 13, 7]               0\n",
      "     Conv3DSimple-37       [-1, 256, 25, 13, 7]       1,769,472\n",
      "      BatchNorm3d-38       [-1, 256, 25, 13, 7]             512\n",
      "           Conv3d-39       [-1, 256, 25, 13, 7]          32,768\n",
      "      BatchNorm3d-40       [-1, 256, 25, 13, 7]             512\n",
      "             ReLU-41       [-1, 256, 25, 13, 7]               0\n",
      "       BasicBlock-42       [-1, 256, 25, 13, 7]               0\n",
      "     Conv3DSimple-43       [-1, 256, 25, 13, 7]       1,769,472\n",
      "      BatchNorm3d-44       [-1, 256, 25, 13, 7]             512\n",
      "             ReLU-45       [-1, 256, 25, 13, 7]               0\n",
      "     Conv3DSimple-46       [-1, 256, 25, 13, 7]       1,769,472\n",
      "      BatchNorm3d-47       [-1, 256, 25, 13, 7]             512\n",
      "             ReLU-48       [-1, 256, 25, 13, 7]               0\n",
      "       BasicBlock-49       [-1, 256, 25, 13, 7]               0\n",
      "     Conv3DSimple-50        [-1, 512, 13, 7, 4]       3,538,944\n",
      "      BatchNorm3d-51        [-1, 512, 13, 7, 4]           1,024\n",
      "             ReLU-52        [-1, 512, 13, 7, 4]               0\n",
      "     Conv3DSimple-53        [-1, 512, 13, 7, 4]       7,077,888\n",
      "      BatchNorm3d-54        [-1, 512, 13, 7, 4]           1,024\n",
      "           Conv3d-55        [-1, 512, 13, 7, 4]         131,072\n",
      "      BatchNorm3d-56        [-1, 512, 13, 7, 4]           1,024\n",
      "             ReLU-57        [-1, 512, 13, 7, 4]               0\n",
      "       BasicBlock-58        [-1, 512, 13, 7, 4]               0\n",
      "     Conv3DSimple-59        [-1, 512, 13, 7, 4]       7,077,888\n",
      "      BatchNorm3d-60        [-1, 512, 13, 7, 4]           1,024\n",
      "             ReLU-61        [-1, 512, 13, 7, 4]               0\n",
      "     Conv3DSimple-62        [-1, 512, 13, 7, 4]       7,077,888\n",
      "      BatchNorm3d-63        [-1, 512, 13, 7, 4]           1,024\n",
      "             ReLU-64        [-1, 512, 13, 7, 4]               0\n",
      "       BasicBlock-65        [-1, 512, 13, 7, 4]               0\n",
      "AdaptiveAvgPool3d-66         [-1, 512, 1, 1, 1]               0\n",
      "           Linear-67                  [-1, 512]         262,656\n",
      "        LeakyReLU-68                  [-1, 512]               0\n",
      "          Dropout-69                  [-1, 512]               0\n",
      "           Linear-70                    [-1, 3]           1,539\n",
      "================================================================\n",
      "Total params: 33,430,467\n",
      "Trainable params: 264,195\n",
      "Non-trainable params: 33,166,272\n",
      "----------------------------------------------------------------\n",
      "Input size (MB): 6.29\n",
      "Forward/backward pass size (MB): 1529.41\n",
      "Params size (MB): 127.53\n",
      "Estimated Total Size (MB): 1663.23\n",
      "----------------------------------------------------------------\n"
     ]
    }
   ],
   "source": [
    "summary(multiclass_resnet_scratch, (3, 100, 100,55))"
   ]
  },
  {
   "cell_type": "markdown",
   "metadata": {
    "id": "F7InDtptya8J"
   },
   "source": [
    "# Training  Scratch Model "
   ]
  },
  {
   "cell_type": "code",
   "execution_count": 25,
   "metadata": {
    "colab": {
     "base_uri": "https://localhost:8080/"
    },
    "id": "x8TZGmayFfb4",
    "outputId": "ad4e9d76-bd60-47ed-b1af-97622c53462e"
   },
   "outputs": [
    {
     "name": "stdout",
     "output_type": "stream",
     "text": [
      "epoch:  0  batch:   10 [   100/530]  loss: 0.94140834  accuracy:  39.000%\n",
      "epoch:  0  batch:   20 [   200/530]  loss: 1.11862075  accuracy:  41.500%\n",
      "epoch:  0  batch:   30 [   300/530]  loss: 0.96418172  accuracy:  45.000%\n",
      "epoch:  0  batch:   40 [   400/530]  loss: 1.00007451  accuracy:  44.750%\n",
      "epoch:  0  batch:   50 [   500/530]  loss: 0.94020307  accuracy:  45.800%\n",
      "epoch:  1  batch:   10 [   100/530]  loss: 1.01993620  accuracy:  55.000%\n",
      "epoch:  1  batch:   20 [   200/530]  loss: 0.99085581  accuracy:  50.500%\n",
      "epoch:  1  batch:   30 [   300/530]  loss: 0.79918694  accuracy:  55.333%\n",
      "epoch:  1  batch:   40 [   400/530]  loss: 0.86545897  accuracy:  57.000%\n",
      "epoch:  1  batch:   50 [   500/530]  loss: 0.77170759  accuracy:  60.000%\n",
      "epoch:  2  batch:   10 [   100/530]  loss: 0.93665010  accuracy:  65.000%\n",
      "epoch:  2  batch:   20 [   200/530]  loss: 0.86157322  accuracy:  67.500%\n",
      "epoch:  2  batch:   30 [   300/530]  loss: 0.79008758  accuracy:  69.667%\n",
      "epoch:  2  batch:   40 [   400/530]  loss: 0.74154967  accuracy:  72.000%\n",
      "epoch:  2  batch:   50 [   500/530]  loss: 0.77513373  accuracy:  70.000%\n",
      "epoch:  3  batch:   10 [   100/530]  loss: 0.72253853  accuracy:  69.000%\n",
      "epoch:  3  batch:   20 [   200/530]  loss: 0.81537217  accuracy:  69.000%\n",
      "epoch:  3  batch:   30 [   300/530]  loss: 0.80598629  accuracy:  69.667%\n",
      "epoch:  3  batch:   40 [   400/530]  loss: 0.71066815  accuracy:  70.250%\n",
      "epoch:  3  batch:   50 [   500/530]  loss: 0.66676491  accuracy:  71.600%\n",
      "epoch:  4  batch:   10 [   100/530]  loss: 0.66697270  accuracy:  78.000%\n",
      "epoch:  4  batch:   20 [   200/530]  loss: 0.75514925  accuracy:  76.500%\n",
      "epoch:  4  batch:   30 [   300/530]  loss: 0.73743993  accuracy:  74.667%\n",
      "epoch:  4  batch:   40 [   400/530]  loss: 0.73424089  accuracy:  74.750%\n",
      "epoch:  4  batch:   50 [   500/530]  loss: 0.60484177  accuracy:  73.000%\n",
      "\n",
      "Duration: 6289 seconds\n"
     ]
    }
   ],
   "source": [
    "\n",
    "torch.manual_seed(50)\n",
    "import time\n",
    "start_time = time.time()\n",
    "\n",
    "epochs = 5\n",
    "train_losses = []\n",
    "test_losses = []\n",
    "train_correct = []\n",
    "test_correct = []\n",
    "\n",
    "for i in range(epochs):\n",
    "    trn_corr = 0\n",
    "    tst_corr = 0\n",
    "    \n",
    "    # Run the training batches\n",
    "    for b, (X_train, y_train) in enumerate(train_dataloader):\n",
    "        b+=1\n",
    "        \n",
    "        # Apply the model\n",
    "        y_pred = multiclass_resnet_scratch(X_train)\n",
    "        loss = criterion(y_pred, y_train)\n",
    " \n",
    "        # Tally the number of correct predictions\n",
    "        predicted = torch.max(y_pred.data, 1)[1]\n",
    "        batch_corr = (predicted == y_train).sum()\n",
    "        trn_corr += batch_corr\n",
    "        \n",
    "        # Update parameters\n",
    "        optimizer.zero_grad()\n",
    "        loss.backward()\n",
    "        optimizer.step()\n",
    "        \n",
    "        # Print interim results\n",
    "        if b%10 == 0:\n",
    "            print(f'epoch: {i:2}  batch: {b:4} [{10*b:6}/530]  loss: {loss.item():10.8f}  \\\n",
    "accuracy: {trn_corr.item()*100/(10*b):7.3f}%')\n",
    "        \n",
    "    train_losses.append(loss)\n",
    "    train_correct.append(trn_corr)\n",
    "        \n",
    "    # Run the testing batches\n",
    "    with torch.no_grad():\n",
    "        for b, (X_val, y_val) in enumerate(validation_dataloader):\n",
    "\n",
    "            # Apply the model\n",
    "            outputs = multiclass_resnet_scratch(X_val)\n",
    "\n",
    "            # Tally the number of correct predictions\n",
    "            predicted = torch.max(outputs.data, 1)[1] \n",
    "            tst_corr += (predicted == y_val).sum()\n",
    "            \n",
    "    loss = criterion(outputs, y_val)\n",
    "    test_losses.append(loss)\n",
    "    test_correct.append(tst_corr)\n",
    "        \n",
    "print(f'\\nDuration: {time.time() - start_time:.0f} seconds') # print the time elapsed  \n"
   ]
  },
  {
   "cell_type": "code",
   "execution_count": 26,
   "metadata": {
    "colab": {
     "base_uri": "https://localhost:8080/",
     "height": 281
    },
    "id": "XaSvGQsaFffO",
    "outputId": "2eeee9ce-6a15-4688-dcfc-370bd1bdf2aa"
   },
   "outputs": [
    {
     "data": {
      "image/png": "[encoded data removed]",
      "text/plain": [
       "<Figure size 432x288 with 1 Axes>"
      ]
     },
     "metadata": {
      "needs_background": "light"
     },
     "output_type": "display_data"
    }
   ],
   "source": [
    "plt.plot(train_losses, label='training loss')\n",
    "plt.plot(test_losses, label='validation loss')\n",
    "plt.title('Loss at the end of each epoch')\n",
    "plt.legend();\n",
    "#plt.savefig('model_resnet_losscurves.png')"
   ]
  },
  {
   "cell_type": "code",
   "execution_count": 27,
   "metadata": {
    "colab": {
     "base_uri": "https://localhost:8080/",
     "height": 281
    },
    "id": "4D5A73FLFfiH",
    "outputId": "8a2e2708-dce9-4657-e4c9-6b0caeff6388"
   },
   "outputs": [
    {
     "data": {
      "image/png": "[encoded data removed]",
      "text/plain": [
       "<Figure size 432x288 with 1 Axes>"
      ]
     },
     "metadata": {
      "needs_background": "light"
     },
     "output_type": "display_data"
    }
   ],
   "source": [
    "plt.plot([t/530 for t in train_correct], label='training accuracy')\n",
    "plt.plot([t/66 for t in test_correct], label='validation accuracy')\n",
    "plt.title('Accuracy at the end of each epoch')\n",
    "plt.legend();"
   ]
  },
  {
   "cell_type": "markdown",
   "metadata": {
    "id": "bsMwBdZSyWVO"
   },
   "source": [
    "# Evaluation of the Model"
   ]
  },
  {
   "cell_type": "code",
   "execution_count": 28,
   "metadata": {
    "colab": {
     "base_uri": "https://localhost:8080/"
    },
    "id": "eGI0ygDKFf8k",
    "outputId": "6a9109f9-d147-4f27-830d-7921dc85d9bc"
   },
   "outputs": [
    {
     "name": "stdout",
     "output_type": "stream",
     "text": [
      "Testing  accuracy: 46/67 =  68.657%\n"
     ]
    }
   ],
   "source": [
    "torch.manual_seed(53)\n",
    "with torch.no_grad():\n",
    "    correct = 0\n",
    "    for X_test, y_test in test_dataloader:\n",
    "        y_val1 = multiclass_resnet_scratch(X_test)  # we don't flatten the data this time\n",
    "        predicted = torch.max(y_val1,1)[1]\n",
    "        correct += (predicted == y_test).sum()\n",
    "print(f'Testing  accuracy: {correct.item()}/{len(dataset2)} = {correct.item()*100/(len(dataset2)):7.3f}%')"
   ]
  },
  {
   "cell_type": "code",
   "execution_count": 29,
   "metadata": {
    "colab": {
     "base_uri": "https://localhost:8080/"
    },
    "id": "XQGtcwFoFf_j",
    "outputId": "b43972d6-5aaa-4ec5-f539-9038ecef4b2a"
   },
   "outputs": [
    {
     "name": "stdout",
     "output_type": "stream",
     "text": [
      "Accuracy of the network on the 66 test images: 73 %\n"
     ]
    }
   ],
   "source": [
    "torch.manual_seed(52)\n",
    "correct = 0\n",
    "total = 0\n",
    "# since we're not training, we don't need to calculate the gradients for our outputs\n",
    "with torch.no_grad():\n",
    "    for data in test_dataloader:\n",
    "        images, labels = data\n",
    "        # calculate outputs by running images through the network\n",
    "        outputs = multiclass_resnet_scratch(images)\n",
    "        # the class with the highest energy is what we choose as prediction\n",
    "        _, predicted = torch.max(outputs.data, 1)\n",
    "        total += labels.size(0)\n",
    "        correct += (predicted == labels).sum().item()\n",
    "print(f'Accuracy of the network on the 66 test images: {100 * correct // total} %')"
   ]
  },
  {
   "cell_type": "code",
   "execution_count": 30,
   "metadata": {
    "colab": {
     "base_uri": "https://localhost:8080/",
     "height": 495
    },
    "id": "LjzOjCYsHUnj",
    "outputId": "9e70475c-3134-4c4c-f50b-cc8d562adc26"
   },
   "outputs": [
    {
     "name": "stderr",
     "output_type": "stream",
     "text": [
      "No handles with labels found to put in legend.\n"
     ]
    },
    {
     "data": {
      "image/png": "[encoded data removed]",
      "text/plain": [
       "<Figure size 540x540 with 1 Axes>"
      ]
     },
     "metadata": {
      "needs_background": "light"
     },
     "output_type": "display_data"
    }
   ],
   "source": [
    "torch.manual_seed(51)\n",
    "nb_classes = 3\n",
    "from sklearn.metrics import confusion_matrix\n",
    "confusion_matrix = torch.zeros(nb_classes, nb_classes)\n",
    "with torch.no_grad():\n",
    "    for i, (inputs, classes) in enumerate(test_dataloader):\n",
    "        inputs = inputs.to(device)\n",
    "        classes = classes.to(device)\n",
    "        outputs = multiclass_resnet_scratch(inputs)\n",
    "        _, preds = torch.max(outputs, 1)\n",
    "        for t, p in zip(classes.view(-1), preds.view(-1)):\n",
    "                confusion_matrix[t.long(), p.long()] += 1\n",
    "fig, ax = plt.subplots(figsize=(7.5, 7.5))\n",
    "ax.matshow(confusion_matrix, cmap=plt.cm.Blues, alpha=0.3)\n",
    "for i in range(confusion_matrix.shape[0]):\n",
    "  for j in range(confusion_matrix.shape[1]):\n",
    "    ax.text(x=j, y=i,s=confusion_matrix[i, j], va='center', ha='center', size='xx-large')\n",
    "plt.xlabel('Predictions', fontsize=18)\n",
    "plt.ylabel('Actuals', fontsize=18)\n",
    "plt.legend()\n",
    "plt.show();\n",
    "#print(confusion_matrix)"
   ]
  },
  {
   "cell_type": "code",
   "execution_count": 37,
   "metadata": {
    "colab": {
     "base_uri": "https://localhost:8080/"
    },
    "id": "Wn7vIxDnHUry",
    "outputId": "cc042475-2836-4dbb-a96c-c465684fc0dc"
   },
   "outputs": [
    {
     "name": "stdout",
     "output_type": "stream",
     "text": [
      "Accuracy for class CN    is: 88.9 %\n",
      "Accuracy for class AD    is: 11.8 %\n",
      "Accuracy for class LMCI  is: 100.0 %\n"
     ]
    }
   ],
   "source": [
    "torch.manual_seed(54)\n",
    "# prepare to count predictions for each class\n",
    "classes= ['CN','AD', 'LMCI']\n",
    "correct_pred = {classname: 0 for classname in classes}\n",
    "total_pred = {classname: 0 for classname in classes}\n",
    "\n",
    "# again no gradients needed\n",
    "with torch.no_grad():\n",
    "    for X_test, y_test in test_dataloader:\n",
    "        outputs = multiclass_resnet_scratch(X_test)\n",
    "        _, predictions = torch.max(outputs, 1)\n",
    "        # collect the correct predictions for each class\n",
    "        for label, prediction in zip(y_test, predictions):\n",
    "            if label == prediction:\n",
    "                correct_pred[classes[label]] += 1\n",
    "            total_pred[classes[label]] += 1\n",
    "\n",
    "\n",
    "# print accuracy for each class\n",
    "for classname, correct_count in correct_pred.items():\n",
    "    accuracy = 100 * float(correct_count) / total_pred[classname]\n",
    "    print(\"Accuracy for class {:5s} is: {:.1f} %\".format(classname,\n",
    "                                                   accuracy))"
   ]
  },
  {
   "cell_type": "code",
   "execution_count": 32,
   "metadata": {
    "colab": {
     "base_uri": "https://localhost:8080/"
    },
    "id": "9uPWmUGwIr8H",
    "outputId": "222cfd83-8c14-4ff7-9785-ccd285936bf0"
   },
   "outputs": [
    {
     "name": "stdout",
     "output_type": "stream",
     "text": [
      "Accuracy of the network on the 67 test images: 73 %\n"
     ]
    },
    {
     "data": {
      "text/plain": [
       "0.5887147332235396"
      ]
     },
     "execution_count": 32,
     "metadata": {},
     "output_type": "execute_result"
    }
   ],
   "source": [
    "torch.manual_seed(56)\n",
    "y_pred_list = []\n",
    "labels_list = []\n",
    "correct = 0\n",
    "total = 0\n",
    "# since we're not training, we don't need to calculate the gradients for our outputs\n",
    "with torch.no_grad():\n",
    "    for data in test_dataloader:\n",
    "        images, labels = data\n",
    "        batch_size = images.shape[0]\n",
    "        # calculate outputs by running images through the network\n",
    "        outputs = multiclass_resnet_scratch(images)\n",
    "        # the class with the highest energy is what we choose as prediction\n",
    "        _, predicted = torch.max(outputs.data, 1)\n",
    "        total += labels.size(0)\n",
    "        correct += (predicted == labels).sum().item()\n",
    "        predicted=predicted.detach().numpy()\n",
    "        labels=labels.detach().numpy()\n",
    "        for i in range(batch_size):\n",
    "          y_pred_list.append(predicted[i])\n",
    "          labels_list.append(labels[i])\n",
    "\n",
    "print(f'Accuracy of the network on the 67 test images: {100 * correct // total} %')\n",
    "matthews_corrcoef(y_pred_list, labels_list) \n"
   ]
  },
  {
   "cell_type": "code",
   "execution_count": 33,
   "metadata": {
    "colab": {
     "base_uri": "https://localhost:8080/"
    },
    "id": "YRi1-uYwIr9x",
    "outputId": "11f94b5d-77f6-4d9d-9af5-00ecef8a5568"
   },
   "outputs": [
    {
     "data": {
      "text/plain": [
       "67"
      ]
     },
     "execution_count": 33,
     "metadata": {},
     "output_type": "execute_result"
    }
   ],
   "source": [
    "len(y_pred_list)"
   ]
  },
  {
   "cell_type": "code",
   "execution_count": 34,
   "metadata": {
    "colab": {
     "base_uri": "https://localhost:8080/"
    },
    "id": "Sm8WhfPQIsCC",
    "outputId": "abc593e6-aef2-48eb-99af-553c5bc762a6"
   },
   "outputs": [
    {
     "data": {
      "text/plain": [
       "67"
      ]
     },
     "execution_count": 34,
     "metadata": {},
     "output_type": "execute_result"
    }
   ],
   "source": [
    "len(labels_list)"
   ]
  },
  {
   "cell_type": "code",
   "execution_count": 35,
   "metadata": {
    "colab": {
     "base_uri": "https://localhost:8080/"
    },
    "id": "b9hoNJZrIsE5",
    "outputId": "63e27c3a-7d6a-40c8-aeb2-8e381de5f830"
   },
   "outputs": [
    {
     "name": "stdout",
     "output_type": "stream",
     "text": [
      "0.7313432835820896\n"
     ]
    }
   ],
   "source": [
    "acc = accuracy_score(y_pred_list,labels_list)\n",
    "print(acc)"
   ]
  },
  {
   "cell_type": "code",
   "execution_count": 36,
   "metadata": {
    "colab": {
     "base_uri": "https://localhost:8080/"
    },
    "id": "iVdCjJNfJJ91",
    "outputId": "8aa0979a-3b44-49f2-cb6e-028370a7469d"
   },
   "outputs": [
    {
     "data": {
      "text/plain": [
       "0.689709595959596"
      ]
     },
     "execution_count": 36,
     "metadata": {},
     "output_type": "execute_result"
    }
   ],
   "source": [
    "balanced_accuracy_score(y_pred_list,labels_list)\n"
   ]
  },
  {
   "cell_type": "markdown",
   "metadata": {
    "id": "LLYyS3RryGxj"
   },
   "source": [
    "# Save the Model"
   ]
  },
  {
   "cell_type": "code",
   "execution_count": 38,
   "metadata": {
    "id": "KgOrMNuAJNxC"
   },
   "outputs": [],
   "source": [
    "filepath='Multiclass_scrach_eval.pt'\n",
    "torch.save(multiclass_resnet_scratch.state_dict(), filepath)"
   ]
  },
  {
   "cell_type": "markdown",
   "metadata": {
    "id": "2F88HOF0yFJv"
   },
   "source": []
  }
 ],
 "metadata": {
  "colab": {
   "machine_shape": "hm",
   "name": "Scratch_Model.ipynb",
   "provenance": []
  },
  "kernelspec": {
   "display_name": "Python 3",
   "language": "python",
   "name": "python3"
  },
  "language_info": {
   "codemirror_mode": {
    "name": "ipython",
    "version": 3
   },
   "file_extension": ".py",
   "mimetype": "text/x-python",
   "name": "python",
   "nbconvert_exporter": "python",
   "pygments_lexer": "ipython3",
   "version": "3.8.8"
  }
 },
 "nbformat": 4,
 "nbformat_minor": 1
}
