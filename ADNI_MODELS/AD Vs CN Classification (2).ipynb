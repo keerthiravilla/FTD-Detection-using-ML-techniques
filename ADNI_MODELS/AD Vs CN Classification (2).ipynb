{
 "cells": [
  {
   "cell_type": "code",
   "execution_count": 1,
   "metadata": {
    "id": "DGazKjXPwNGq"
   },
   "outputs": [],
   "source": [
    "#Binary Classification\n",
    "import zipfile\n",
    "import nibabel as nib\n",
    "import torch\n",
    "import torch.nn as nn\n",
    "import torch.nn.functional as F\n",
    "from torchvision.utils import make_grid\n",
    "import numpy as np\n",
    "import pandas as pd\n",
    "import pickle\n",
    "from sklearn.metrics import confusion_matrix\n",
    "import matplotlib.pyplot as plt\n",
    "import glob\n",
    "from torch.autograd import Variable\n",
    "from torchvision import models\n",
    "from torch.nn import Module,  Linear, ReLU, CrossEntropyLoss, Sequential, Conv3d, MaxPool3d, Softmax, BatchNorm3d\n",
    "from torch.optim import Adam\n",
    "from tqdm import tqdm\n",
    "from sklearn.metrics import accuracy_score\n",
    "import seaborn as sn\n",
    "import torch.optim as optim\n",
    "from torchsummary import summary\n",
    "from sklearn.metrics import accuracy_score\n",
    "from sklearn.metrics import balanced_accuracy_score\n",
    "from sklearn.metrics import matthews_corrcoef\n",
    "%matplotlib inline"
   ]
  },
  {
   "cell_type": "code",
   "execution_count": 2,
   "metadata": {
    "colab": {
     "base_uri": "https://localhost:8080/"
    },
    "id": "keNeeHXLwTiZ",
    "outputId": "6b21d9ef-87b4-4188-c96b-4fdd59072397"
   },
   "outputs": [
    {
     "name": "stdout",
     "output_type": "stream",
     "text": [
      "Mounted at /content/drive\n"
     ]
    }
   ],
   "source": [
    "from google.colab import drive\n",
    "drive.mount('/content/drive')"
   ]
  },
  {
   "cell_type": "code",
   "execution_count": 3,
   "metadata": {
    "colab": {
     "base_uri": "https://localhost:8080/"
    },
    "id": "fv2FdX17wTlR",
    "outputId": "e5bb1d2b-f871-43a7-a525-b430095856c0"
   },
   "outputs": [
    {
     "name": "stdout",
     "output_type": "stream",
     "text": [
      "There are 4 directories and 0 images in '/content/drive/My Drive/ADNI_full'.\n",
      "There are 0 directories and 189 images in '/content/drive/My Drive/ADNI_full/AD'.\n",
      "There are 0 directories and 220 images in '/content/drive/My Drive/ADNI_full/LMCI'.\n",
      "There are 0 directories and 254 images in '/content/drive/My Drive/ADNI_full/CN'.\n",
      "There are 0 directories and 0 images in '/content/drive/My Drive/ADNI_full/.ipynb_checkpoints'.\n"
     ]
    },
    {
     "data": {
      "text/plain": [
       "0"
      ]
     },
     "execution_count": 3,
     "metadata": {},
     "output_type": "execute_result"
    }
   ],
   "source": [
    "import os\n",
    "#walk through directory and list through files\n",
    "for dirpath, dirnames, filenames in os.walk(\"/content/drive/My Drive/ADNI_full\"):\n",
    "  print(f\"There are {len(dirnames)} directories and {len(filenames)} images in '{dirpath}'.\")\n",
    "len(filenames)"
   ]
  },
  {
   "cell_type": "markdown",
   "metadata": {
    "id": "y1TfSGCiygAn"
   },
   "source": [
    "#Loading AD Samples"
   ]
  },
  {
   "cell_type": "code",
   "execution_count": 5,
   "metadata": {
    "colab": {
     "base_uri": "https://localhost:8080/"
    },
    "id": "P5lawUvvwTow",
    "outputId": "847bf220-802e-4771-d221-49d3006a26e8"
   },
   "outputs": [
    {
     "name": "stdout",
     "output_type": "stream",
     "text": [
      "Found  189  nifti files\n",
      "(189, 100, 100, 55, 1)\n",
      "Loading file 1 of 189\n",
      "Loading file 11 of 189\n",
      "Loading file 21 of 189\n",
      "Loading file 31 of 189\n",
      "Loading file 41 of 189\n",
      "Loading file 51 of 189\n",
      "Loading file 61 of 189\n",
      "Loading file 71 of 189\n",
      "Loading file 81 of 189\n",
      "Loading file 91 of 189\n",
      "Loading file 101 of 189\n",
      "Loading file 111 of 189\n",
      "Loading file 121 of 189\n",
      "Loading file 131 of 189\n",
      "Loading file 141 of 189\n",
      "Loading file 151 of 189\n",
      "Loading file 161 of 189\n",
      "Loading file 171 of 189\n",
      "Loading file 181 of 189\n",
      "Successfully loaded files\n",
      "Image array size:  (189, 100, 100, 55, 1)\n",
      "LabelAD size:  (189,)\n"
     ]
    }
   ],
   "source": [
    "AD = glob.glob(r'/content/drive/MyDrive/ADNI_full/AD/*.nii.gz')\n",
    "ADFiles = AD\n",
    "ADtotalfiles = len(ADFiles)\n",
    "print('Found ', str(ADtotalfiles), ' nifti files')\n",
    "\n",
    "x_range_from = 10; x_range_to = 110\n",
    "y_range_from = 40; y_range_to = 95\n",
    "z_range_from = 5; z_range_to = 105\n",
    "ADimages = np.zeros((ADtotalfiles, z_range_to-z_range_from, x_range_to-x_range_from, y_range_to-y_range_from, 1), \n",
    "                  dtype=np.float32) \n",
    "print(ADimages.shape)\n",
    "\n",
    "# Actually load nifti files into array\n",
    "for i in range(ADtotalfiles):   \n",
    "    if (i % 10 == 0):\n",
    "        print('Loading file %d of %d' % (i+1, ADtotalfiles))\n",
    "    AD_img = nib.load(ADFiles[i])\n",
    "    AD_img = AD_img.get_fdata()[x_range_from:x_range_to, y_range_from:y_range_to, z_range_from:z_range_to]\n",
    "    AD_img = np.transpose(AD_img, (2, 0, 1)) \n",
    "    AD_img = np.flip(AD_img) # flip all positions\n",
    "    ADimages[i, :,:,:, 0] = np.nan_to_num(AD_img)\n",
    "print('Successfully loaded files')\n",
    "print('Image array size: ', ADimages.shape)\n",
    "\n",
    "#y_label for AD\n",
    "label_AD=np.full(len(ADimages),1)\n",
    "print('LabelAD size: ', label_AD.shape)"
   ]
  },
  {
   "cell_type": "markdown",
   "metadata": {
    "id": "J9C6ZycoywUf"
   },
   "source": [
    "#Loading CN samples"
   ]
  },
  {
   "cell_type": "code",
   "execution_count": 6,
   "metadata": {
    "colab": {
     "base_uri": "https://localhost:8080/"
    },
    "id": "FdDTdkudwTsH",
    "outputId": "799a84c0-a5ae-4d2d-bc33-e0a147d6869c"
   },
   "outputs": [
    {
     "name": "stdout",
     "output_type": "stream",
     "text": [
      "Found  254  nifti files\n",
      "(254, 100, 100, 55, 1)\n",
      "Loading file 1 of 254\n",
      "Loading file 11 of 254\n",
      "Loading file 21 of 254\n",
      "Loading file 31 of 254\n",
      "Loading file 41 of 254\n",
      "Loading file 51 of 254\n",
      "Loading file 61 of 254\n",
      "Loading file 71 of 254\n",
      "Loading file 81 of 254\n",
      "Loading file 91 of 254\n",
      "Loading file 101 of 254\n",
      "Loading file 111 of 254\n",
      "Loading file 121 of 254\n",
      "Loading file 131 of 254\n",
      "Loading file 141 of 254\n",
      "Loading file 151 of 254\n",
      "Loading file 161 of 254\n",
      "Loading file 171 of 254\n",
      "Loading file 181 of 254\n",
      "Loading file 191 of 254\n",
      "Loading file 201 of 254\n",
      "Loading file 211 of 254\n",
      "Loading file 221 of 254\n",
      "Loading file 231 of 254\n",
      "Loading file 241 of 254\n",
      "Loading file 251 of 254\n",
      "Successfully loaded files\n",
      "Image array size:  (254, 100, 100, 55, 1)\n",
      "LabelCN size:  (254,)\n"
     ]
    }
   ],
   "source": [
    "CN = glob.glob(r'/content/drive/MyDrive/ADNI_full/CN/*.nii.gz')\n",
    "CNFiles = CN\n",
    "CNtotalfiles = len(CNFiles)\n",
    "print('Found ', str(CNtotalfiles), ' nifti files')\n",
    "\n",
    "\n",
    "x_range_from = 10; x_range_to = 110\n",
    "y_range_from = 40; y_range_to = 95\n",
    "z_range_from = 5; z_range_to = 105\n",
    "CNimages = np.zeros((CNtotalfiles, z_range_to-z_range_from, x_range_to-x_range_from, y_range_to-y_range_from, 1), \n",
    "                  dtype=np.float32) \n",
    "print(CNimages.shape)\n",
    "\n",
    "# Actually load nifti files into array\n",
    "for i in range(CNtotalfiles):  \n",
    "    if (i % 10 == 0):\n",
    "        print('Loading file %d of %d' % (i+1, CNtotalfiles))\n",
    "    CN_img = nib.load(CNFiles[i])\n",
    "    CN_img = CN_img.get_fdata()[x_range_from:x_range_to, y_range_from:y_range_to, z_range_from:z_range_to]\n",
    "    CN_img = np.transpose(CN_img, (2, 0, 1)) \n",
    "    CN_img = np.flip(CN_img)\n",
    "    #print(img.shape)\n",
    "    CNimages[i, :,:,:, 0] = np.nan_to_num(CN_img)\n",
    "print('Successfully loaded files')\n",
    "print('Image array size: ', CNimages.shape)\n",
    "#y_label for CN\n",
    "label_CN=np.full(len(CNimages),0)\n",
    "print('LabelCN size: ', label_CN.shape)\n",
    "\n"
   ]
  },
  {
   "cell_type": "code",
   "execution_count": null,
   "metadata": {
    "colab": {
     "base_uri": "https://localhost:8080/"
    },
    "id": "ofvV65YlwTu4",
    "outputId": "cc1eebd1-2ed9-4db0-c155-32c5071ea5ae"
   },
   "outputs": [
    {
     "name": "stdout",
     "output_type": "stream",
     "text": [
      "x data of train size:  (443, 100, 100, 55, 1)\n",
      "y data in  of train size:  (443,)\n"
     ]
    }
   ],
   "source": [
    "#Concatenation of training data\n",
    "X=np.concatenate((CNimages, ADimages), axis=0)\n",
    "print('x data of train size: ', X.shape)\n",
    "y=np.concatenate((labelCNN,labelADD), axis=0)\n",
    "print('y data in  of train size: ', y.shape)"
   ]
  },
  {
   "cell_type": "code",
   "execution_count": null,
   "metadata": {
    "colab": {
     "base_uri": "https://localhost:8080/"
    },
    "id": "p8aA_JmEwTxg",
    "outputId": "61a858d9-585d-486f-db18-9520c722c0f7"
   },
   "outputs": [
    {
     "data": {
      "text/plain": [
       "((443, 100, 100, 55, 1), (443,))"
      ]
     },
     "execution_count": 8,
     "metadata": {},
     "output_type": "execute_result"
    }
   ],
   "source": [
    "X.shape, y.shape"
   ]
  },
  {
   "cell_type": "code",
   "execution_count": null,
   "metadata": {
    "colab": {
     "base_uri": "https://localhost:8080/"
    },
    "id": "2ETGuNg8wT0K",
    "outputId": "00dc73a8-9c12-482e-95d6-85120b9b51e8"
   },
   "outputs": [
    {
     "data": {
      "text/plain": [
       "(torch.Size([443, 100, 100, 55, 1]), torch.float32)"
      ]
     },
     "execution_count": 9,
     "metadata": {},
     "output_type": "execute_result"
    }
   ],
   "source": [
    "X = torch.from_numpy(X)\n",
    "X.shape, X.dtype"
   ]
  },
  {
   "cell_type": "code",
   "execution_count": null,
   "metadata": {
    "colab": {
     "base_uri": "https://localhost:8080/"
    },
    "id": "Z8TRaONPwT2t",
    "outputId": "977eb46b-4bc2-4fee-c268-5aa63d8e0304"
   },
   "outputs": [
    {
     "data": {
      "text/plain": [
       "(torch.Size([443, 1, 100, 100, 55]), (443,))"
      ]
     },
     "execution_count": 10,
     "metadata": {},
     "output_type": "execute_result"
    }
   ],
   "source": [
    "X=X.reshape(443,1,100,100,55)\n",
    "\n",
    "X.shape, y.shape"
   ]
  },
  {
   "cell_type": "code",
   "execution_count": null,
   "metadata": {
    "colab": {
     "base_uri": "https://localhost:8080/"
    },
    "id": "fLIv7M3cwT5V",
    "outputId": "8601578b-9f2b-4a98-ee20-2767f45e9e90"
   },
   "outputs": [
    {
     "data": {
      "text/plain": [
       "torch.Size([443, 3, 100, 100, 55])"
      ]
     },
     "execution_count": 11,
     "metadata": {},
     "output_type": "execute_result"
    }
   ],
   "source": [
    "X=X.expand(-1,3,-1,-1,-1)\n",
    "X.shape"
   ]
  },
  {
   "cell_type": "code",
   "execution_count": null,
   "metadata": {
    "colab": {
     "base_uri": "https://localhost:8080/"
    },
    "id": "s5IlzyjqwT8Y",
    "outputId": "4a3ac853-7983-4160-e124-9782eb77e014"
   },
   "outputs": [
    {
     "data": {
      "text/plain": [
       "(torch.Size([443]), torch.int64)"
      ]
     },
     "execution_count": 12,
     "metadata": {},
     "output_type": "execute_result"
    }
   ],
   "source": [
    "y = torch.from_numpy(y)\n",
    "y.shape, y.dtype"
   ]
  },
  {
   "cell_type": "code",
   "execution_count": null,
   "metadata": {
    "colab": {
     "base_uri": "https://localhost:8080/"
    },
    "id": "cGWVOkkIwT_E",
    "outputId": "72e75f37-4818-4f80-8852-19be3938fbe0"
   },
   "outputs": [
    {
     "data": {
      "text/plain": [
       "((torch.Size([354, 3, 100, 100, 55]), torch.Size([354])),\n",
       " (torch.Size([45, 3, 100, 100, 55]), torch.Size([45])),\n",
       " (torch.Size([44, 3, 100, 100, 55]), torch.Size([44])),\n",
       " (torch.float32, torch.int64))"
      ]
     },
     "execution_count": 43,
     "metadata": {},
     "output_type": "execute_result"
    }
   ],
   "source": [
    "from sklearn.model_selection import train_test_split\n",
    "#batch_size=32\n",
    "X_train,X_test_data, y_train,y_test_data =train_test_split(X,y, test_size=0.2,  random_state=42)\n",
    "X_val,X_test,y_val,y_test= train_test_split(X_test_data,y_test_data, test_size=0.5,random_state=42)\n",
    "#X_train, X_test, y_train, y_test,X_val,y_val = X_train.cuda(), X_test.cuda(), y_train.cuda(), y_test.cuda(),X_val.cuda(), y_val.cuda()\n",
    "\n",
    "(X_train.shape, y_train.shape),(X_test.shape, y_test.shape),(X_val.shape,y_val.shape),(X_train.dtype, y_train.dtype)"
   ]
  },
  {
   "cell_type": "code",
   "execution_count": null,
   "metadata": {
    "id": "Bo27zf4MwUCt"
   },
   "outputs": [],
   "source": [
    "from torch.utils.data import DataLoader,TensorDataset\n",
    "BATCH_SIZE = 10\n",
    "dataset = TensorDataset(X_train, y_train)\n",
    "dataset1= TensorDataset(X_val, y_val)\n",
    "dataset2 = TensorDataset(X_test, y_test)\n",
    "\n",
    "\n",
    "train_dataloader = DataLoader(dataset, batch_size=BATCH_SIZE, shuffle=True)\n",
    "Validation_dataloader= DataLoader(dataset1, batch_size=BATCH_SIZE, shuffle=True)\n",
    "test_dataloader= DataLoader(dataset2,batch_size=BATCH_SIZE, shuffle=False)"
   ]
  },
  {
   "cell_type": "code",
   "execution_count": null,
   "metadata": {
    "id": "AlFglbZQwUF_"
   },
   "outputs": [],
   "source": [
    "device = torch.device(\"cuda:0\" if torch.cuda.is_available() else \"cpu\")"
   ]
  },
  {
   "cell_type": "code",
   "execution_count": null,
   "metadata": {
    "colab": {
     "base_uri": "https://localhost:8080/"
    },
    "id": "AEf9xErowUI-",
    "outputId": "9b1f9417-acd3-443c-aa34-e6d9cdbd0659"
   },
   "outputs": [
    {
     "name": "stderr",
     "output_type": "stream",
     "text": [
      "Downloading: \"https://download.pytorch.org/models/r3d_18-b3b3357e.pth\" to /root/.cache/torch/hub/checkpoints/r3d_18-b3b3357e.pth\n"
     ]
    }
   ],
   "source": [
    "Binary_AD_finetune = models.video.r3d_18(pretrained=True, progress=False)"
   ]
  },
  {
   "cell_type": "code",
   "execution_count": null,
   "metadata": {
    "id": "3P8x9RJ8wULV"
   },
   "outputs": [],
   "source": [
    "Binary_AD_finetune=Binary_AD_finetune.to(device)"
   ]
  },
  {
   "cell_type": "code",
   "execution_count": null,
   "metadata": {
    "colab": {
     "base_uri": "https://localhost:8080/"
    },
    "id": "3ouMf8lXw9KG",
    "outputId": "66e22c14-527b-4e0a-da6d-5a15cee825d1"
   },
   "outputs": [
    {
     "name": "stdout",
     "output_type": "stream",
     "text": [
      "VideoResNet(\n",
      "  (stem): BasicStem(\n",
      "    (0): Conv3d(3, 64, kernel_size=(3, 7, 7), stride=(1, 2, 2), padding=(1, 3, 3), bias=False)\n",
      "    (1): BatchNorm3d(64, eps=1e-05, momentum=0.1, affine=True, track_running_stats=True)\n",
      "    (2): ReLU(inplace=True)\n",
      "  )\n",
      "  (layer1): Sequential(\n",
      "    (0): BasicBlock(\n",
      "      (conv1): Sequential(\n",
      "        (0): Conv3DSimple(64, 64, kernel_size=(3, 3, 3), stride=(1, 1, 1), padding=(1, 1, 1), bias=False)\n",
      "        (1): BatchNorm3d(64, eps=1e-05, momentum=0.1, affine=True, track_running_stats=True)\n",
      "        (2): ReLU(inplace=True)\n",
      "      )\n",
      "      (conv2): Sequential(\n",
      "        (0): Conv3DSimple(64, 64, kernel_size=(3, 3, 3), stride=(1, 1, 1), padding=(1, 1, 1), bias=False)\n",
      "        (1): BatchNorm3d(64, eps=1e-05, momentum=0.1, affine=True, track_running_stats=True)\n",
      "      )\n",
      "      (relu): ReLU(inplace=True)\n",
      "    )\n",
      "    (1): BasicBlock(\n",
      "      (conv1): Sequential(\n",
      "        (0): Conv3DSimple(64, 64, kernel_size=(3, 3, 3), stride=(1, 1, 1), padding=(1, 1, 1), bias=False)\n",
      "        (1): BatchNorm3d(64, eps=1e-05, momentum=0.1, affine=True, track_running_stats=True)\n",
      "        (2): ReLU(inplace=True)\n",
      "      )\n",
      "      (conv2): Sequential(\n",
      "        (0): Conv3DSimple(64, 64, kernel_size=(3, 3, 3), stride=(1, 1, 1), padding=(1, 1, 1), bias=False)\n",
      "        (1): BatchNorm3d(64, eps=1e-05, momentum=0.1, affine=True, track_running_stats=True)\n",
      "      )\n",
      "      (relu): ReLU(inplace=True)\n",
      "    )\n",
      "  )\n",
      "  (layer2): Sequential(\n",
      "    (0): BasicBlock(\n",
      "      (conv1): Sequential(\n",
      "        (0): Conv3DSimple(64, 128, kernel_size=(3, 3, 3), stride=(2, 2, 2), padding=(1, 1, 1), bias=False)\n",
      "        (1): BatchNorm3d(128, eps=1e-05, momentum=0.1, affine=True, track_running_stats=True)\n",
      "        (2): ReLU(inplace=True)\n",
      "      )\n",
      "      (conv2): Sequential(\n",
      "        (0): Conv3DSimple(128, 128, kernel_size=(3, 3, 3), stride=(1, 1, 1), padding=(1, 1, 1), bias=False)\n",
      "        (1): BatchNorm3d(128, eps=1e-05, momentum=0.1, affine=True, track_running_stats=True)\n",
      "      )\n",
      "      (relu): ReLU(inplace=True)\n",
      "      (downsample): Sequential(\n",
      "        (0): Conv3d(64, 128, kernel_size=(1, 1, 1), stride=(2, 2, 2), bias=False)\n",
      "        (1): BatchNorm3d(128, eps=1e-05, momentum=0.1, affine=True, track_running_stats=True)\n",
      "      )\n",
      "    )\n",
      "    (1): BasicBlock(\n",
      "      (conv1): Sequential(\n",
      "        (0): Conv3DSimple(128, 128, kernel_size=(3, 3, 3), stride=(1, 1, 1), padding=(1, 1, 1), bias=False)\n",
      "        (1): BatchNorm3d(128, eps=1e-05, momentum=0.1, affine=True, track_running_stats=True)\n",
      "        (2): ReLU(inplace=True)\n",
      "      )\n",
      "      (conv2): Sequential(\n",
      "        (0): Conv3DSimple(128, 128, kernel_size=(3, 3, 3), stride=(1, 1, 1), padding=(1, 1, 1), bias=False)\n",
      "        (1): BatchNorm3d(128, eps=1e-05, momentum=0.1, affine=True, track_running_stats=True)\n",
      "      )\n",
      "      (relu): ReLU(inplace=True)\n",
      "    )\n",
      "  )\n",
      "  (layer3): Sequential(\n",
      "    (0): BasicBlock(\n",
      "      (conv1): Sequential(\n",
      "        (0): Conv3DSimple(128, 256, kernel_size=(3, 3, 3), stride=(2, 2, 2), padding=(1, 1, 1), bias=False)\n",
      "        (1): BatchNorm3d(256, eps=1e-05, momentum=0.1, affine=True, track_running_stats=True)\n",
      "        (2): ReLU(inplace=True)\n",
      "      )\n",
      "      (conv2): Sequential(\n",
      "        (0): Conv3DSimple(256, 256, kernel_size=(3, 3, 3), stride=(1, 1, 1), padding=(1, 1, 1), bias=False)\n",
      "        (1): BatchNorm3d(256, eps=1e-05, momentum=0.1, affine=True, track_running_stats=True)\n",
      "      )\n",
      "      (relu): ReLU(inplace=True)\n",
      "      (downsample): Sequential(\n",
      "        (0): Conv3d(128, 256, kernel_size=(1, 1, 1), stride=(2, 2, 2), bias=False)\n",
      "        (1): BatchNorm3d(256, eps=1e-05, momentum=0.1, affine=True, track_running_stats=True)\n",
      "      )\n",
      "    )\n",
      "    (1): BasicBlock(\n",
      "      (conv1): Sequential(\n",
      "        (0): Conv3DSimple(256, 256, kernel_size=(3, 3, 3), stride=(1, 1, 1), padding=(1, 1, 1), bias=False)\n",
      "        (1): BatchNorm3d(256, eps=1e-05, momentum=0.1, affine=True, track_running_stats=True)\n",
      "        (2): ReLU(inplace=True)\n",
      "      )\n",
      "      (conv2): Sequential(\n",
      "        (0): Conv3DSimple(256, 256, kernel_size=(3, 3, 3), stride=(1, 1, 1), padding=(1, 1, 1), bias=False)\n",
      "        (1): BatchNorm3d(256, eps=1e-05, momentum=0.1, affine=True, track_running_stats=True)\n",
      "      )\n",
      "      (relu): ReLU(inplace=True)\n",
      "    )\n",
      "  )\n",
      "  (layer4): Sequential(\n",
      "    (0): BasicBlock(\n",
      "      (conv1): Sequential(\n",
      "        (0): Conv3DSimple(256, 512, kernel_size=(3, 3, 3), stride=(2, 2, 2), padding=(1, 1, 1), bias=False)\n",
      "        (1): BatchNorm3d(512, eps=1e-05, momentum=0.1, affine=True, track_running_stats=True)\n",
      "        (2): ReLU(inplace=True)\n",
      "      )\n",
      "      (conv2): Sequential(\n",
      "        (0): Conv3DSimple(512, 512, kernel_size=(3, 3, 3), stride=(1, 1, 1), padding=(1, 1, 1), bias=False)\n",
      "        (1): BatchNorm3d(512, eps=1e-05, momentum=0.1, affine=True, track_running_stats=True)\n",
      "      )\n",
      "      (relu): ReLU(inplace=True)\n",
      "      (downsample): Sequential(\n",
      "        (0): Conv3d(256, 512, kernel_size=(1, 1, 1), stride=(2, 2, 2), bias=False)\n",
      "        (1): BatchNorm3d(512, eps=1e-05, momentum=0.1, affine=True, track_running_stats=True)\n",
      "      )\n",
      "    )\n",
      "    (1): BasicBlock(\n",
      "      (conv1): Sequential(\n",
      "        (0): Conv3DSimple(512, 512, kernel_size=(3, 3, 3), stride=(1, 1, 1), padding=(1, 1, 1), bias=False)\n",
      "        (1): BatchNorm3d(512, eps=1e-05, momentum=0.1, affine=True, track_running_stats=True)\n",
      "        (2): ReLU(inplace=True)\n",
      "      )\n",
      "      (conv2): Sequential(\n",
      "        (0): Conv3DSimple(512, 512, kernel_size=(3, 3, 3), stride=(1, 1, 1), padding=(1, 1, 1), bias=False)\n",
      "        (1): BatchNorm3d(512, eps=1e-05, momentum=0.1, affine=True, track_running_stats=True)\n",
      "      )\n",
      "      (relu): ReLU(inplace=True)\n",
      "    )\n",
      "  )\n",
      "  (avgpool): AdaptiveAvgPool3d(output_size=(1, 1, 1))\n",
      "  (fc): Linear(in_features=512, out_features=400, bias=True)\n",
      ")\n"
     ]
    }
   ],
   "source": [
    "print(Binary_AD_finetune)"
   ]
  },
  {
   "cell_type": "code",
   "execution_count": null,
   "metadata": {
    "colab": {
     "base_uri": "https://localhost:8080/"
    },
    "id": "3gTShkM8w9NY",
    "outputId": "ff5d18ee-6628-4823-cb13-d11233d800c2"
   },
   "outputs": [
    {
     "data": {
      "text/plain": [
       "Sequential(\n",
       "  (0): BasicBlock(\n",
       "    (conv1): Sequential(\n",
       "      (0): Conv3DSimple(256, 512, kernel_size=(3, 3, 3), stride=(2, 2, 2), padding=(1, 1, 1), bias=False)\n",
       "      (1): BatchNorm3d(512, eps=1e-05, momentum=0.1, affine=True, track_running_stats=True)\n",
       "      (2): ReLU(inplace=True)\n",
       "    )\n",
       "    (conv2): Sequential(\n",
       "      (0): Conv3DSimple(512, 512, kernel_size=(3, 3, 3), stride=(1, 1, 1), padding=(1, 1, 1), bias=False)\n",
       "      (1): BatchNorm3d(512, eps=1e-05, momentum=0.1, affine=True, track_running_stats=True)\n",
       "    )\n",
       "    (relu): ReLU(inplace=True)\n",
       "    (downsample): Sequential(\n",
       "      (0): Conv3d(256, 512, kernel_size=(1, 1, 1), stride=(2, 2, 2), bias=False)\n",
       "      (1): BatchNorm3d(512, eps=1e-05, momentum=0.1, affine=True, track_running_stats=True)\n",
       "    )\n",
       "  )\n",
       "  (1): BasicBlock(\n",
       "    (conv1): Sequential(\n",
       "      (0): Conv3DSimple(512, 512, kernel_size=(3, 3, 3), stride=(1, 1, 1), padding=(1, 1, 1), bias=False)\n",
       "      (1): BatchNorm3d(512, eps=1e-05, momentum=0.1, affine=True, track_running_stats=True)\n",
       "      (2): ReLU(inplace=True)\n",
       "    )\n",
       "    (conv2): Sequential(\n",
       "      (0): Conv3DSimple(512, 512, kernel_size=(3, 3, 3), stride=(1, 1, 1), padding=(1, 1, 1), bias=False)\n",
       "      (1): BatchNorm3d(512, eps=1e-05, momentum=0.1, affine=True, track_running_stats=True)\n",
       "    )\n",
       "    (relu): ReLU(inplace=True)\n",
       "  )\n",
       ")"
      ]
     },
     "execution_count": 19,
     "metadata": {},
     "output_type": "execute_result"
    }
   ],
   "source": [
    "Binary_AD_finetune.layer4"
   ]
  },
  {
   "cell_type": "code",
   "execution_count": null,
   "metadata": {
    "id": "_93rVNBNw9QB"
   },
   "outputs": [],
   "source": [
    "for param in Binary_AD_finetune.layer4.parameters():\n",
    "    param.requires_grad = False"
   ]
  },
  {
   "cell_type": "code",
   "execution_count": null,
   "metadata": {
    "id": "kS0qXzyxw9S1"
   },
   "outputs": [],
   "source": [
    "Binary_AD_finetune.fc =  nn.Sequential(\n",
    "            nn.Linear(512, 512),\n",
    "            nn.LeakyReLU(inplace=True),\n",
    "            nn.Dropout(),\n",
    "            nn.Linear(512, 2),\n",
    "            )\n",
    "for param in Binary_AD_finetune.fc.parameters():\n",
    "    param.requires_grad = True"
   ]
  },
  {
   "cell_type": "code",
   "execution_count": null,
   "metadata": {
    "id": "fmMAO-nZw9V4"
   },
   "outputs": [],
   "source": [
    "criterion = nn.CrossEntropyLoss()\n",
    "optimizer = optim.Adam(Binary_AD_finetune.fc.parameters(), lr=0.0001) #Learning rate must be low due to finetunning"
   ]
  },
  {
   "cell_type": "code",
   "execution_count": null,
   "metadata": {
    "colab": {
     "base_uri": "https://localhost:8080/"
    },
    "id": "6x5xxpONw9Zg",
    "outputId": "9d0840d2-ecb3-4323-8fe3-497752ba85bb"
   },
   "outputs": [
    {
     "name": "stdout",
     "output_type": "stream",
     "text": [
      "----------------------------------------------------------------\n",
      "        Layer (type)               Output Shape         Param #\n",
      "================================================================\n",
      "            Conv3d-1      [-1, 64, 100, 50, 28]          28,224\n",
      "       BatchNorm3d-2      [-1, 64, 100, 50, 28]             128\n",
      "              ReLU-3      [-1, 64, 100, 50, 28]               0\n",
      "      Conv3DSimple-4      [-1, 64, 100, 50, 28]         110,592\n",
      "       BatchNorm3d-5      [-1, 64, 100, 50, 28]             128\n",
      "              ReLU-6      [-1, 64, 100, 50, 28]               0\n",
      "      Conv3DSimple-7      [-1, 64, 100, 50, 28]         110,592\n",
      "       BatchNorm3d-8      [-1, 64, 100, 50, 28]             128\n",
      "              ReLU-9      [-1, 64, 100, 50, 28]               0\n",
      "       BasicBlock-10      [-1, 64, 100, 50, 28]               0\n",
      "     Conv3DSimple-11      [-1, 64, 100, 50, 28]         110,592\n",
      "      BatchNorm3d-12      [-1, 64, 100, 50, 28]             128\n",
      "             ReLU-13      [-1, 64, 100, 50, 28]               0\n",
      "     Conv3DSimple-14      [-1, 64, 100, 50, 28]         110,592\n",
      "      BatchNorm3d-15      [-1, 64, 100, 50, 28]             128\n",
      "             ReLU-16      [-1, 64, 100, 50, 28]               0\n",
      "       BasicBlock-17      [-1, 64, 100, 50, 28]               0\n",
      "     Conv3DSimple-18      [-1, 128, 50, 25, 14]         221,184\n",
      "      BatchNorm3d-19      [-1, 128, 50, 25, 14]             256\n",
      "             ReLU-20      [-1, 128, 50, 25, 14]               0\n",
      "     Conv3DSimple-21      [-1, 128, 50, 25, 14]         442,368\n",
      "      BatchNorm3d-22      [-1, 128, 50, 25, 14]             256\n",
      "           Conv3d-23      [-1, 128, 50, 25, 14]           8,192\n",
      "      BatchNorm3d-24      [-1, 128, 50, 25, 14]             256\n",
      "             ReLU-25      [-1, 128, 50, 25, 14]               0\n",
      "       BasicBlock-26      [-1, 128, 50, 25, 14]               0\n",
      "     Conv3DSimple-27      [-1, 128, 50, 25, 14]         442,368\n",
      "      BatchNorm3d-28      [-1, 128, 50, 25, 14]             256\n",
      "             ReLU-29      [-1, 128, 50, 25, 14]               0\n",
      "     Conv3DSimple-30      [-1, 128, 50, 25, 14]         442,368\n",
      "      BatchNorm3d-31      [-1, 128, 50, 25, 14]             256\n",
      "             ReLU-32      [-1, 128, 50, 25, 14]               0\n",
      "       BasicBlock-33      [-1, 128, 50, 25, 14]               0\n",
      "     Conv3DSimple-34       [-1, 256, 25, 13, 7]         884,736\n",
      "      BatchNorm3d-35       [-1, 256, 25, 13, 7]             512\n",
      "             ReLU-36       [-1, 256, 25, 13, 7]               0\n",
      "     Conv3DSimple-37       [-1, 256, 25, 13, 7]       1,769,472\n",
      "      BatchNorm3d-38       [-1, 256, 25, 13, 7]             512\n",
      "           Conv3d-39       [-1, 256, 25, 13, 7]          32,768\n",
      "      BatchNorm3d-40       [-1, 256, 25, 13, 7]             512\n",
      "             ReLU-41       [-1, 256, 25, 13, 7]               0\n",
      "       BasicBlock-42       [-1, 256, 25, 13, 7]               0\n",
      "     Conv3DSimple-43       [-1, 256, 25, 13, 7]       1,769,472\n",
      "      BatchNorm3d-44       [-1, 256, 25, 13, 7]             512\n",
      "             ReLU-45       [-1, 256, 25, 13, 7]               0\n",
      "     Conv3DSimple-46       [-1, 256, 25, 13, 7]       1,769,472\n",
      "      BatchNorm3d-47       [-1, 256, 25, 13, 7]             512\n",
      "             ReLU-48       [-1, 256, 25, 13, 7]               0\n",
      "       BasicBlock-49       [-1, 256, 25, 13, 7]               0\n",
      "     Conv3DSimple-50        [-1, 512, 13, 7, 4]       3,538,944\n",
      "      BatchNorm3d-51        [-1, 512, 13, 7, 4]           1,024\n",
      "             ReLU-52        [-1, 512, 13, 7, 4]               0\n",
      "     Conv3DSimple-53        [-1, 512, 13, 7, 4]       7,077,888\n",
      "      BatchNorm3d-54        [-1, 512, 13, 7, 4]           1,024\n",
      "           Conv3d-55        [-1, 512, 13, 7, 4]         131,072\n",
      "      BatchNorm3d-56        [-1, 512, 13, 7, 4]           1,024\n",
      "             ReLU-57        [-1, 512, 13, 7, 4]               0\n",
      "       BasicBlock-58        [-1, 512, 13, 7, 4]               0\n",
      "     Conv3DSimple-59        [-1, 512, 13, 7, 4]       7,077,888\n",
      "      BatchNorm3d-60        [-1, 512, 13, 7, 4]           1,024\n",
      "             ReLU-61        [-1, 512, 13, 7, 4]               0\n",
      "     Conv3DSimple-62        [-1, 512, 13, 7, 4]       7,077,888\n",
      "      BatchNorm3d-63        [-1, 512, 13, 7, 4]           1,024\n",
      "             ReLU-64        [-1, 512, 13, 7, 4]               0\n",
      "       BasicBlock-65        [-1, 512, 13, 7, 4]               0\n",
      "AdaptiveAvgPool3d-66         [-1, 512, 1, 1, 1]               0\n",
      "           Linear-67                  [-1, 512]         262,656\n",
      "        LeakyReLU-68                  [-1, 512]               0\n",
      "          Dropout-69                  [-1, 512]               0\n",
      "           Linear-70                    [-1, 2]           1,026\n",
      "================================================================\n",
      "Total params: 33,429,954\n",
      "Trainable params: 8,521,154\n",
      "Non-trainable params: 24,908,800\n",
      "----------------------------------------------------------------\n",
      "Input size (MB): 6.29\n",
      "Forward/backward pass size (MB): 1529.41\n",
      "Params size (MB): 127.53\n",
      "Estimated Total Size (MB): 1663.23\n",
      "----------------------------------------------------------------\n"
     ]
    }
   ],
   "source": [
    "summary(Binary_AD_finetune, (3, 100, 100,55))"
   ]
  },
  {
   "cell_type": "code",
   "execution_count": null,
   "metadata": {
    "colab": {
     "base_uri": "https://localhost:8080/"
    },
    "id": "7oU8gFQ7w9bS",
    "outputId": "ccc84d14-6a59-416f-ff87-56d4ad99468e"
   },
   "outputs": [
    {
     "name": "stdout",
     "output_type": "stream",
     "text": [
      "epoch:  0  batch:   10 [   100/354]  loss: 0.56505740  accuracy:  59.000%\n",
      "epoch:  0  batch:   20 [   200/354]  loss: 0.63094473  accuracy:  56.500%\n",
      "epoch:  0  batch:   30 [   300/354]  loss: 0.60252118  accuracy:  58.333%\n",
      "epoch:  1  batch:   10 [   100/354]  loss: 0.68124455  accuracy:  64.000%\n",
      "epoch:  1  batch:   20 [   200/354]  loss: 0.67226303  accuracy:  65.000%\n",
      "epoch:  1  batch:   30 [   300/354]  loss: 0.65848178  accuracy:  64.000%\n",
      "epoch:  2  batch:   10 [   100/354]  loss: 0.57790798  accuracy:  64.000%\n",
      "epoch:  2  batch:   20 [   200/354]  loss: 0.59458852  accuracy:  62.000%\n",
      "epoch:  2  batch:   30 [   300/354]  loss: 0.80016148  accuracy:  61.000%\n",
      "epoch:  3  batch:   10 [   100/354]  loss: 0.58993882  accuracy:  60.000%\n",
      "epoch:  3  batch:   20 [   200/354]  loss: 0.74020994  accuracy:  59.500%\n",
      "epoch:  3  batch:   30 [   300/354]  loss: 0.51250517  accuracy:  63.333%\n",
      "epoch:  4  batch:   10 [   100/354]  loss: 0.64538217  accuracy:  72.000%\n",
      "epoch:  4  batch:   20 [   200/354]  loss: 0.62999403  accuracy:  69.500%\n",
      "epoch:  4  batch:   30 [   300/354]  loss: 0.55300552  accuracy:  68.333%\n",
      "\n",
      "Duration: 14726 seconds\n"
     ]
    }
   ],
   "source": [
    "\n",
    "import time\n",
    "start_time = time.time()\n",
    "\n",
    "epochs = 5\n",
    "train_losses = []\n",
    "test_losses = []\n",
    "train_correct = []\n",
    "test_correct = []\n",
    "\n",
    "for i in range(epochs):\n",
    "    trn_corr = 0\n",
    "    tst_corr = 0\n",
    "    \n",
    "    # Run the training batches\n",
    "    for b, (X_train, y_train) in enumerate(train_dataloader):\n",
    "        b+=1\n",
    "        \n",
    "        # Apply the model\n",
    "        y_pred = Binary_AD_finetune(X_train)\n",
    "        loss = criterion(y_pred, y_train)\n",
    " \n",
    "        # Tally the number of correct predictions\n",
    "        predicted = torch.max(y_pred.data, 1)[1]\n",
    "        batch_corr = (predicted == y_train).sum()\n",
    "        trn_corr += batch_corr\n",
    "        \n",
    "        # Update parameters\n",
    "        optimizer.zero_grad()\n",
    "        loss.backward()\n",
    "        optimizer.step()\n",
    "        \n",
    "        # Print interim results\n",
    "        if b%10 == 0:\n",
    "            print(f'epoch: {i:2}  batch: {b:4} [{10*b:6}/354]  loss: {loss.item():10.8f}  \\\n",
    "accuracy: {trn_corr.item()*100/(10*b):7.3f}%')\n",
    "        \n",
    "    train_losses.append(loss)\n",
    "    train_correct.append(trn_corr)\n",
    "        \n",
    "    # Run the testing batches\n",
    "    with torch.no_grad():\n",
    "        for b, (X_val, y_val) in enumerate(Validation_dataloader):\n",
    "\n",
    "            # Apply the model\n",
    "            outputs = Binary_AD_finetune(X_val)\n",
    "\n",
    "            # Tally the number of correct predictions\n",
    "            predicted = torch.max(outputs.data, 1)[1] \n",
    "            tst_corr += (predicted == y_val).sum()\n",
    "            \n",
    "    loss = criterion(outputs, y_val)\n",
    "    test_losses.append(loss)\n",
    "    test_correct.append(tst_corr)\n",
    "        \n",
    "print(f'\\nDuration: {time.time() - start_time:.0f} seconds') # print the time elapsed  "
   ]
  },
  {
   "cell_type": "code",
   "execution_count": null,
   "metadata": {
    "colab": {
     "base_uri": "https://localhost:8080/",
     "height": 1000
    },
    "id": "W7T__V3rw9dU",
    "outputId": "f0e484cd-69aa-4f09-d011-a1db255c4178"
   },
   "outputs": [],
   "source": [
    "plt.plot(train_losses, label='training loss')\n",
    "plt.plot(test_losses, label='validation loss')\n",
    "plt.title('Loss at the end of each epoch')\n",
    "plt.legend();"
   ]
  },
  {
   "cell_type": "code",
   "execution_count": null,
   "metadata": {
    "colab": {
     "base_uri": "https://localhost:8080/",
     "height": 281
    },
    "id": "W03pSTZtw9f7",
    "outputId": "04b5a329-6378-4d69-83e1-0acd4a84dd50"
   },
   "outputs": [
    {
     "data": {
      "image/png": "[encoded data removed]",
      "text/plain": [
       "<Figure size 432x288 with 1 Axes>"
      ]
     },
     "metadata": {
      "needs_background": "light"
     },
     "output_type": "display_data"
    }
   ],
   "source": [
    "plt.plot([t/354 for t in train_correct], label='training accuracy')\n",
    "plt.plot([t/44 for t in test_correct], label='validation accuracy')\n",
    "plt.title('Accuracy at the end of each epoch')\n",
    "plt.legend();"
   ]
  },
  {
   "cell_type": "markdown",
   "metadata": {
    "id": "GeRhRktwxcdJ"
   },
   "source": [
    "#Evaluation Model"
   ]
  },
  {
   "cell_type": "code",
   "execution_count": null,
   "metadata": {
    "colab": {
     "base_uri": "https://localhost:8080/"
    },
    "id": "rp15loD4w9ih",
    "outputId": "ab9dea3e-8d13-4e2b-a893-055951d8950d"
   },
   "outputs": [
    {
     "name": "stdout",
     "output_type": "stream",
     "text": [
      "Testing  accuracy: 26/45 =  57.778%\n"
     ]
    }
   ],
   "source": [
    "torch.manual_seed(62)\n",
    "with torch.no_grad():\n",
    "    correct = 0\n",
    "    for X_test, y_test in test_dataloader:\n",
    "        y_val1 = Binary_AD_finetune(X_test)  # we don't flatten the data this time\n",
    "        predicted = torch.max(y_val1,1)[1]\n",
    "        correct += (predicted == y_test).sum()\n",
    "print(f'Testing  accuracy: {correct.item()}/{len(dataset2)} = {correct.item()*100/(len(dataset2)):7.3f}%')"
   ]
  },
  {
   "cell_type": "code",
   "execution_count": null,
   "metadata": {
    "colab": {
     "base_uri": "https://localhost:8080/"
    },
    "id": "vjbrVmNBw9lH",
    "outputId": "5b598be0-820e-4adc-e2c3-bd6d3df6203f"
   },
   "outputs": [
    {
     "name": "stdout",
     "output_type": "stream",
     "text": [
      "Accuracy of the network on the 45 test images: 64 %\n"
     ]
    }
   ],
   "source": [
    "\n",
    "torch.manual_seed(63)\n",
    "correct = 0\n",
    "total = 0\n",
    "# since we're not training, we don't need to calculate the gradients for our outputs\n",
    "with torch.no_grad():\n",
    "    for data in test_dataloader:\n",
    "        images, labels = data\n",
    "        # calculate outputs by running images through the network\n",
    "        outputs = Binary_AD_finetune(images)\n",
    "        # the class with the highest energy is what we choose as prediction\n",
    "        _, predicted = torch.max(outputs.data, 1)\n",
    "        total += labels.size(0)\n",
    "        correct += (predicted == labels).sum().item()\n",
    "print(f'Accuracy of the network on the 45 test images: {100 * correct // total} %')"
   ]
  },
  {
   "cell_type": "code",
   "execution_count": null,
   "metadata": {
    "colab": {
     "base_uri": "https://localhost:8080/",
     "height": 513
    },
    "id": "zpG72g6ow9n8",
    "outputId": "1b00c76c-d141-4d54-b789-7e5f156243a8"
   },
   "outputs": [
    {
     "name": "stderr",
     "output_type": "stream",
     "text": [
      "No handles with labels found to put in legend.\n"
     ]
    },
    {
     "data": {
      "image/png": "[encoded data removed]",
      "text/plain": [
       "<Figure size 540x540 with 1 Axes>"
      ]
     },
     "metadata": {
      "needs_background": "light"
     },
     "output_type": "display_data"
    },
    {
     "name": "stdout",
     "output_type": "stream",
     "text": [
      "tensor([0.7619, 0.2917])\n"
     ]
    }
   ],
   "source": [
    "torch.manual_seed(64)\n",
    "nb_classes = 2\n",
    "from sklearn.metrics import confusion_matrix\n",
    "confusion_matrix = torch.zeros(nb_classes, nb_classes)\n",
    "with torch.no_grad():\n",
    "    for i, (inputs, classes) in enumerate(test_dataloader):\n",
    "        inputs = inputs.to(device)\n",
    "        classes = classes.to(device)\n",
    "        outputs = Binary_AD_finetune(inputs)\n",
    "        _, preds = torch.max(outputs, 1)\n",
    "        for t, p in zip(classes.view(-1), preds.view(-1)):\n",
    "                confusion_matrix[t.long(), p.long()] += 1\n",
    "fig, ax = plt.subplots(figsize=(7.5, 7.5))\n",
    "ax.matshow(confusion_matrix, cmap=plt.cm.Blues, alpha=0.3)\n",
    "for i in range(confusion_matrix.shape[0]):\n",
    "  for j in range(confusion_matrix.shape[1]):\n",
    "    ax.text(x=j, y=i,s=confusion_matrix[i, j], va='center', ha='center', size='xx-large')\n",
    "plt.xlabel('Predictions', fontsize=18)\n",
    "plt.ylabel('Actuals', fontsize=18)\n",
    "plt.legend()\n",
    "plt.show();\n",
    "print(confusion_matrix.diag()/confusion_matrix.sum(1))\n",
    "#print(confusion_matrix)"
   ]
  },
  {
   "cell_type": "code",
   "execution_count": null,
   "metadata": {
    "colab": {
     "base_uri": "https://localhost:8080/"
    },
    "id": "LMfFDXScw9qT",
    "outputId": "89e78515-a999-4820-934d-76e11e4ce0a5"
   },
   "outputs": [
    {
     "name": "stdout",
     "output_type": "stream",
     "text": [
      "Accuracy for class CN    is: 81.0 %\n",
      "Accuracy for class AD    is: 37.5 %\n"
     ]
    }
   ],
   "source": [
    "torch.manual_seed(65)\n",
    "# prepare to count predictions for each class\n",
    "classes= ['CN','AD']\n",
    "correct_pred = {classname: 0 for classname in classes}\n",
    "total_pred = {classname: 0 for classname in classes}\n",
    "\n",
    "# again no gradients needed\n",
    "with torch.no_grad():\n",
    "    for X_test, y_test in test_dataloader:\n",
    "        outputs = Binary_AD_finetune(X_test)\n",
    "        _, predictions = torch.max(outputs, 1)\n",
    "        # collect the correct predictions for each class\n",
    "        for label, prediction in zip(y_test, predictions):\n",
    "            if label == prediction:\n",
    "                correct_pred[classes[label]] += 1\n",
    "            total_pred[classes[label]] += 1\n",
    "\n",
    "\n",
    "# print accuracy for each class\n",
    "for classname, correct_count in correct_pred.items():\n",
    "    accuracy = 100 * float(correct_count) / total_pred[classname]\n",
    "    print(\"Accuracy for class {:5s} is: {:.1f} %\".format(classname,\n",
    "                                                   accuracy))"
   ]
  },
  {
   "cell_type": "code",
   "execution_count": null,
   "metadata": {
    "colab": {
     "base_uri": "https://localhost:8080/"
    },
    "id": "4gk7dHCKw9tE",
    "outputId": "c3da737d-88c5-4c76-dfa6-d762ecbfb008"
   },
   "outputs": [
    {
     "name": "stdout",
     "output_type": "stream",
     "text": [
      "Accuracy of the network on the 45 test images: 55 %\n"
     ]
    },
    {
     "data": {
      "text/plain": [
       "0.1475329266648508"
      ]
     },
     "execution_count": 36,
     "metadata": {},
     "output_type": "execute_result"
    }
   ],
   "source": [
    "torch.manual_seed(66)\n",
    "y_pred_list = []\n",
    "labels_list = []\n",
    "correct = 0\n",
    "total = 0\n",
    "# since we're not training, we don't need to calculate the gradients for our outputs\n",
    "with torch.no_grad():\n",
    "    for data in test_dataloader:\n",
    "        images, labels = data\n",
    "        batch_size = images.shape[0]\n",
    "        # calculate outputs by running images through the network\n",
    "        outputs = Binary_AD_finetune(images)\n",
    "        # the class with the highest energy is what we choose as prediction\n",
    "        _, predicted = torch.max(outputs.data, 1)\n",
    "        total += labels.size(0)\n",
    "        correct += (predicted == labels).sum().item()\n",
    "        predicted=predicted.detach().numpy()\n",
    "        labels=labels.detach().numpy()\n",
    "        for i in range(batch_size):\n",
    "          y_pred_list.append(predicted[i])\n",
    "          labels_list.append(labels[i])\n",
    "\n",
    "print(f'Accuracy of the network on the 45 test images: {100 * correct // total} %')\n",
    "matthews_corrcoef(y_pred_list, labels_list) \n"
   ]
  },
  {
   "cell_type": "code",
   "execution_count": null,
   "metadata": {
    "colab": {
     "base_uri": "https://localhost:8080/"
    },
    "id": "00i5V3NOw9wL",
    "outputId": "19fa3448-5e95-40bd-826b-cb8abd9a106f"
   },
   "outputs": [
    {
     "data": {
      "text/plain": [
       "45"
      ]
     },
     "execution_count": 37,
     "metadata": {},
     "output_type": "execute_result"
    }
   ],
   "source": [
    "len(y_pred_list)"
   ]
  },
  {
   "cell_type": "code",
   "execution_count": null,
   "metadata": {
    "colab": {
     "base_uri": "https://localhost:8080/"
    },
    "id": "-Ki_cFbWw9zX",
    "outputId": "73c0ca52-ef19-4780-88d1-5616e57c56b3"
   },
   "outputs": [
    {
     "data": {
      "text/plain": [
       "45"
      ]
     },
     "execution_count": 38,
     "metadata": {},
     "output_type": "execute_result"
    }
   ],
   "source": [
    "len(labels_list)"
   ]
  },
  {
   "cell_type": "code",
   "execution_count": null,
   "metadata": {
    "colab": {
     "base_uri": "https://localhost:8080/"
    },
    "id": "E4ZOBWGjw91v",
    "outputId": "72c0d1ff-2dbd-4b25-91e9-3f10a0321f69"
   },
   "outputs": [
    {
     "name": "stdout",
     "output_type": "stream",
     "text": [
      "0.5555555555555556\n"
     ]
    }
   ],
   "source": [
    "acc = accuracy_score(y_pred_list,labels_list)\n",
    "print(acc)"
   ]
  },
  {
   "cell_type": "code",
   "execution_count": null,
   "metadata": {
    "colab": {
     "base_uri": "https://localhost:8080/"
    },
    "id": "wVCYuxkTx9DC",
    "outputId": "2650d96f-6c54-4f1e-c5eb-fd6fea9e3bca"
   },
   "outputs": [
    {
     "data": {
      "text/plain": [
       "0.5794930875576036"
      ]
     },
     "execution_count": 40,
     "metadata": {},
     "output_type": "execute_result"
    }
   ],
   "source": [
    "balanced_accuracy_score(y_pred_list,labels_list)\n"
   ]
  },
  {
   "cell_type": "code",
   "execution_count": null,
   "metadata": {
    "id": "aBvWUNnnx9Fp"
   },
   "outputs": [],
   "source": [
    "filepath='Binary_classification_AD.pt'\n",
    "torch.save(Binary_AD_finetune.state_dict(), filepath)"
   ]
  }
 ],
 "metadata": {
  "colab": {
   "machine_shape": "hm",
   "name": "New_AD_1.ipynb",
   "provenance": []
  },
  "kernelspec": {
   "display_name": "Python 3",
   "language": "python",
   "name": "python3"
  },
  "language_info": {
   "codemirror_mode": {
    "name": "ipython",
    "version": 3
   },
   "file_extension": ".py",
   "mimetype": "text/x-python",
   "name": "python",
   "nbconvert_exporter": "python",
   "pygments_lexer": "ipython3",
   "version": "3.8.8"
  }
 },
 "nbformat": 4,
 "nbformat_minor": 1
}
