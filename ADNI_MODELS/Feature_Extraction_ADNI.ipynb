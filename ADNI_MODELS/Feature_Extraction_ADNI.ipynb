{
 "cells": [
  {
   "cell_type": "code",
   "execution_count": 101,
   "metadata": {
    "id": "AQUcBZbWaC2T"
   },
   "outputs": [],
   "source": [
    "#Multi-class Classification\n",
    "import zipfile\n",
    "import nibabel as nib\n",
    "import torch\n",
    "import torch.nn as nn\n",
    "import torch.nn.functional as F\n",
    "from torchvision.utils import make_grid\n",
    "import numpy as np\n",
    "import pandas as pd\n",
    "import pickle\n",
    "from sklearn.metrics import confusion_matrix\n",
    "import matplotlib.pyplot as plt\n",
    "import glob\n",
    "from torch.autograd import Variable\n",
    "from torchvision import models\n",
    "from torch.nn import Module,  Linear, ReLU, CrossEntropyLoss, Sequential, Conv3d, MaxPool3d, Softmax, BatchNorm3d\n",
    "from torch.optim import Adam\n",
    "from tqdm import tqdm\n",
    "from sklearn.metrics import accuracy_score\n",
    "import seaborn as sn\n",
    "import torch.optim as optim\n",
    "from torchsummary import summary\n",
    "from sklearn.metrics import accuracy_score\n",
    "from sklearn.metrics import balanced_accuracy_score\n",
    "from sklearn.metrics import matthews_corrcoef\n",
    "%matplotlib inline"
   ]
  },
  {
   "cell_type": "code",
   "execution_count": 66,
   "metadata": {
    "colab": {
     "base_uri": "https://localhost:8080/"
    },
    "id": "ebiQM8MgaN76",
    "outputId": "8bd45cdd-f20f-48fc-9e61-5be6f71f0a5a"
   },
   "outputs": [
    {
     "name": "stdout",
     "output_type": "stream",
     "text": [
      "Drive already mounted at /content/drive/; to attempt to forcibly remount, call drive.mount(\"/content/drive/\", force_remount=True).\n"
     ]
    }
   ],
   "source": [
    "from google.colab import drive\n",
    "drive.mount('/content/drive/')"
   ]
  },
  {
   "cell_type": "code",
   "execution_count": 3,
   "metadata": {
    "colab": {
     "base_uri": "https://localhost:8080/"
    },
    "id": "t87fbNdoaN99",
    "outputId": "0dc9a6cc-e032-4712-d57b-e6e6c9637ec1"
   },
   "outputs": [
    {
     "name": "stdout",
     "output_type": "stream",
     "text": [
      "There are 4 directories and 0 images in '/content/drive/My Drive/ADNI_full'.\n",
      "There are 0 directories and 189 images in '/content/drive/My Drive/ADNI_full/AD'.\n",
      "There are 0 directories and 220 images in '/content/drive/My Drive/ADNI_full/LMCI'.\n",
      "There are 0 directories and 254 images in '/content/drive/My Drive/ADNI_full/CN'.\n",
      "There are 0 directories and 0 images in '/content/drive/My Drive/ADNI_full/.ipynb_checkpoints'.\n"
     ]
    },
    {
     "data": {
      "text/plain": [
       "0"
      ]
     },
     "execution_count": 3,
     "metadata": {},
     "output_type": "execute_result"
    }
   ],
   "source": [
    "import os\n",
    "#walk through directory and list through files\n",
    "for dirpath, dirnames, filenames in os.walk(\"/content/drive/My Drive/ADNI_full\"):\n",
    "  print(f\"There are {len(dirnames)} directories and {len(filenames)} images in '{dirpath}'.\")\n",
    "len(filenames)"
   ]
  },
  {
   "cell_type": "code",
   "execution_count": 4,
   "metadata": {
    "id": "HJHmFt3QaOBW"
   },
   "outputs": [],
   "source": [
    "with open(\"/content/drive/MyDrive/Images_ADNI.txt\", 'rb') as fp:\n",
    "  X=pickle.load(fp)\n",
    "  y=pickle.load(fp)"
   ]
  },
  {
   "cell_type": "code",
   "execution_count": 5,
   "metadata": {
    "colab": {
     "base_uri": "https://localhost:8080/"
    },
    "id": "GUapQ4noaODA",
    "outputId": "1f29cca9-f15d-465d-eef7-26b43fa84373"
   },
   "outputs": [
    {
     "data": {
      "text/plain": [
       "((663, 100, 100, 55, 1), (663,))"
      ]
     },
     "execution_count": 5,
     "metadata": {},
     "output_type": "execute_result"
    }
   ],
   "source": [
    "X.shape, y.shape"
   ]
  },
  {
   "cell_type": "code",
   "execution_count": 6,
   "metadata": {
    "colab": {
     "base_uri": "https://localhost:8080/"
    },
    "id": "EoZSMCXFaOG7",
    "outputId": "50c50f75-7e06-4998-a354-ebb36f301e76"
   },
   "outputs": [
    {
     "data": {
      "text/plain": [
       "(torch.Size([663, 100, 100, 55, 1]), torch.float32)"
      ]
     },
     "execution_count": 6,
     "metadata": {},
     "output_type": "execute_result"
    }
   ],
   "source": [
    "X = torch.from_numpy(X)\n",
    "X.shape, X.dtype"
   ]
  },
  {
   "cell_type": "code",
   "execution_count": 7,
   "metadata": {
    "colab": {
     "base_uri": "https://localhost:8080/"
    },
    "id": "mYtXMkk5aOKP",
    "outputId": "bab34f90-851e-410f-a54d-3c96eb98cebe"
   },
   "outputs": [
    {
     "data": {
      "text/plain": [
       "torch.Size([663, 1, 100, 100, 55])"
      ]
     },
     "execution_count": 7,
     "metadata": {},
     "output_type": "execute_result"
    }
   ],
   "source": [
    "X=X.reshape(663,1,100,100,55)\n",
    "\n",
    "X.shape"
   ]
  },
  {
   "cell_type": "code",
   "execution_count": 8,
   "metadata": {
    "colab": {
     "base_uri": "https://localhost:8080/"
    },
    "id": "hs2CkkliaOMj",
    "outputId": "36508fa6-5071-4475-8aa8-cd419a12247a"
   },
   "outputs": [
    {
     "data": {
      "text/plain": [
       "torch.Size([663, 3, 100, 100, 55])"
      ]
     },
     "execution_count": 8,
     "metadata": {},
     "output_type": "execute_result"
    }
   ],
   "source": [
    "X=X.expand(-1,3,-1,-1,-1)\n",
    "X.shape"
   ]
  },
  {
   "cell_type": "code",
   "execution_count": 9,
   "metadata": {
    "colab": {
     "base_uri": "https://localhost:8080/"
    },
    "id": "vmcd05TbaOP_",
    "outputId": "4e2afd12-4adf-4d52-f34e-bf8833320566"
   },
   "outputs": [
    {
     "data": {
      "text/plain": [
       "(torch.Size([663]), torch.int64)"
      ]
     },
     "execution_count": 9,
     "metadata": {},
     "output_type": "execute_result"
    }
   ],
   "source": [
    "y = torch.from_numpy(y)\n",
    "y.shape, y.dtype"
   ]
  },
  {
   "cell_type": "code",
   "execution_count": 10,
   "metadata": {
    "colab": {
     "base_uri": "https://localhost:8080/"
    },
    "id": "AnXNhqN9aORo",
    "outputId": "823dfc16-bf4c-4a48-9cd6-890fd9969ab5"
   },
   "outputs": [
    {
     "data": {
      "text/plain": [
       "((torch.Size([530, 3, 100, 100, 55]), torch.Size([530])),\n",
       " (torch.Size([67, 3, 100, 100, 55]), torch.Size([67])),\n",
       " (torch.Size([66, 3, 100, 100, 55]), torch.Size([66])),\n",
       " (torch.float32, torch.int64))"
      ]
     },
     "execution_count": 10,
     "metadata": {},
     "output_type": "execute_result"
    }
   ],
   "source": [
    "from sklearn.model_selection import train_test_split\n",
    "#batch_size=32\n",
    "X_train,X_test_data, y_train,y_test_data =train_test_split(X,y, test_size=0.2,  random_state=42)\n",
    "X_val,X_test,y_val,y_test= train_test_split(X_test_data,y_test_data, test_size=0.5,random_state=42)\n",
    "#X_train, X_test, y_train, y_test,X_val,y_val = X_train.cuda(), X_test.cuda(), y_train.cuda(), y_test.cuda(),X_val.cuda(), y_val.cuda()\n",
    "\n",
    "(X_train.shape, y_train.shape),(X_test.shape, y_test.shape),(X_val.shape,y_val.shape), (X_train.dtype, y_train.dtype)"
   ]
  },
  {
   "cell_type": "code",
   "execution_count": 11,
   "metadata": {
    "id": "g8A4lekwaOVC"
   },
   "outputs": [],
   "source": [
    "from torch.utils.data import DataLoader,TensorDataset\n",
    "BATCH_SIZE = 10\n",
    "dataset = TensorDataset(X_train, y_train)\n",
    "dataset1= TensorDataset(X_val, y_val)\n",
    "dataset2 = TensorDataset(X_test, y_test)\n",
    "\n",
    "\n",
    "train_dataloader = DataLoader(dataset, batch_size=BATCH_SIZE, shuffle=True)\n",
    "validation_dataloader= DataLoader(dataset1, batch_size=BATCH_SIZE, shuffle=True)\n",
    "test_dataloader= DataLoader(dataset2,batch_size=BATCH_SIZE, shuffle=False)"
   ]
  },
  {
   "cell_type": "code",
   "execution_count": 12,
   "metadata": {
    "id": "XgtI4sAuaOX9"
   },
   "outputs": [],
   "source": [
    "device = torch.device(\"cuda:0\" if torch.cuda.is_available() else \"cpu\")"
   ]
  },
  {
   "cell_type": "code",
   "execution_count": 13,
   "metadata": {
    "colab": {
     "base_uri": "https://localhost:8080/"
    },
    "id": "DtvZpyeSbAzg",
    "outputId": "07119002-b921-4156-fcc3-b4ed94d4bb9b"
   },
   "outputs": [
    {
     "name": "stderr",
     "output_type": "stream",
     "text": [
      "Downloading: \"https://download.pytorch.org/models/r3d_18-b3b3357e.pth\" to /root/.cache/torch/hub/checkpoints/r3d_18-b3b3357e.pth\n"
     ]
    }
   ],
   "source": [
    "feature_3d_resnet = models.video.r3d_18(pretrained=True, progress=False)"
   ]
  },
  {
   "cell_type": "code",
   "execution_count": 14,
   "metadata": {
    "id": "eGYLMznybA1q"
   },
   "outputs": [],
   "source": [
    "feature_3d_resnet = feature_3d_resnet.to(device)"
   ]
  },
  {
   "cell_type": "code",
   "execution_count": 15,
   "metadata": {
    "colab": {
     "base_uri": "https://localhost:8080/"
    },
    "id": "gyjIoob8bA5U",
    "outputId": "0df5e9ed-b323-4070-ccaa-bb7d4b498a86"
   },
   "outputs": [
    {
     "name": "stdout",
     "output_type": "stream",
     "text": [
      "----------------------------------------------------------------\n",
      "        Layer (type)               Output Shape         Param #\n",
      "================================================================\n",
      "            Conv3d-1      [-1, 64, 100, 50, 28]          28,224\n",
      "       BatchNorm3d-2      [-1, 64, 100, 50, 28]             128\n",
      "              ReLU-3      [-1, 64, 100, 50, 28]               0\n",
      "      Conv3DSimple-4      [-1, 64, 100, 50, 28]         110,592\n",
      "       BatchNorm3d-5      [-1, 64, 100, 50, 28]             128\n",
      "              ReLU-6      [-1, 64, 100, 50, 28]               0\n",
      "      Conv3DSimple-7      [-1, 64, 100, 50, 28]         110,592\n",
      "       BatchNorm3d-8      [-1, 64, 100, 50, 28]             128\n",
      "              ReLU-9      [-1, 64, 100, 50, 28]               0\n",
      "       BasicBlock-10      [-1, 64, 100, 50, 28]               0\n",
      "     Conv3DSimple-11      [-1, 64, 100, 50, 28]         110,592\n",
      "      BatchNorm3d-12      [-1, 64, 100, 50, 28]             128\n",
      "             ReLU-13      [-1, 64, 100, 50, 28]               0\n",
      "     Conv3DSimple-14      [-1, 64, 100, 50, 28]         110,592\n",
      "      BatchNorm3d-15      [-1, 64, 100, 50, 28]             128\n",
      "             ReLU-16      [-1, 64, 100, 50, 28]               0\n",
      "       BasicBlock-17      [-1, 64, 100, 50, 28]               0\n",
      "     Conv3DSimple-18      [-1, 128, 50, 25, 14]         221,184\n",
      "      BatchNorm3d-19      [-1, 128, 50, 25, 14]             256\n",
      "             ReLU-20      [-1, 128, 50, 25, 14]               0\n",
      "     Conv3DSimple-21      [-1, 128, 50, 25, 14]         442,368\n",
      "      BatchNorm3d-22      [-1, 128, 50, 25, 14]             256\n",
      "           Conv3d-23      [-1, 128, 50, 25, 14]           8,192\n",
      "      BatchNorm3d-24      [-1, 128, 50, 25, 14]             256\n",
      "             ReLU-25      [-1, 128, 50, 25, 14]               0\n",
      "       BasicBlock-26      [-1, 128, 50, 25, 14]               0\n",
      "     Conv3DSimple-27      [-1, 128, 50, 25, 14]         442,368\n",
      "      BatchNorm3d-28      [-1, 128, 50, 25, 14]             256\n",
      "             ReLU-29      [-1, 128, 50, 25, 14]               0\n",
      "     Conv3DSimple-30      [-1, 128, 50, 25, 14]         442,368\n",
      "      BatchNorm3d-31      [-1, 128, 50, 25, 14]             256\n",
      "             ReLU-32      [-1, 128, 50, 25, 14]               0\n",
      "       BasicBlock-33      [-1, 128, 50, 25, 14]               0\n",
      "     Conv3DSimple-34       [-1, 256, 25, 13, 7]         884,736\n",
      "      BatchNorm3d-35       [-1, 256, 25, 13, 7]             512\n",
      "             ReLU-36       [-1, 256, 25, 13, 7]               0\n",
      "     Conv3DSimple-37       [-1, 256, 25, 13, 7]       1,769,472\n",
      "      BatchNorm3d-38       [-1, 256, 25, 13, 7]             512\n",
      "           Conv3d-39       [-1, 256, 25, 13, 7]          32,768\n",
      "      BatchNorm3d-40       [-1, 256, 25, 13, 7]             512\n",
      "             ReLU-41       [-1, 256, 25, 13, 7]               0\n",
      "       BasicBlock-42       [-1, 256, 25, 13, 7]               0\n",
      "     Conv3DSimple-43       [-1, 256, 25, 13, 7]       1,769,472\n",
      "      BatchNorm3d-44       [-1, 256, 25, 13, 7]             512\n",
      "             ReLU-45       [-1, 256, 25, 13, 7]               0\n",
      "     Conv3DSimple-46       [-1, 256, 25, 13, 7]       1,769,472\n",
      "      BatchNorm3d-47       [-1, 256, 25, 13, 7]             512\n",
      "             ReLU-48       [-1, 256, 25, 13, 7]               0\n",
      "       BasicBlock-49       [-1, 256, 25, 13, 7]               0\n",
      "     Conv3DSimple-50        [-1, 512, 13, 7, 4]       3,538,944\n",
      "      BatchNorm3d-51        [-1, 512, 13, 7, 4]           1,024\n",
      "             ReLU-52        [-1, 512, 13, 7, 4]               0\n",
      "     Conv3DSimple-53        [-1, 512, 13, 7, 4]       7,077,888\n",
      "      BatchNorm3d-54        [-1, 512, 13, 7, 4]           1,024\n",
      "           Conv3d-55        [-1, 512, 13, 7, 4]         131,072\n",
      "      BatchNorm3d-56        [-1, 512, 13, 7, 4]           1,024\n",
      "             ReLU-57        [-1, 512, 13, 7, 4]               0\n",
      "       BasicBlock-58        [-1, 512, 13, 7, 4]               0\n",
      "     Conv3DSimple-59        [-1, 512, 13, 7, 4]       7,077,888\n",
      "      BatchNorm3d-60        [-1, 512, 13, 7, 4]           1,024\n",
      "             ReLU-61        [-1, 512, 13, 7, 4]               0\n",
      "     Conv3DSimple-62        [-1, 512, 13, 7, 4]       7,077,888\n",
      "      BatchNorm3d-63        [-1, 512, 13, 7, 4]           1,024\n",
      "             ReLU-64        [-1, 512, 13, 7, 4]               0\n",
      "       BasicBlock-65        [-1, 512, 13, 7, 4]               0\n",
      "AdaptiveAvgPool3d-66         [-1, 512, 1, 1, 1]               0\n",
      "           Linear-67                  [-1, 400]         205,200\n",
      "================================================================\n",
      "Total params: 33,371,472\n",
      "Trainable params: 33,371,472\n",
      "Non-trainable params: 0\n",
      "----------------------------------------------------------------\n",
      "Input size (MB): 6.29\n",
      "Forward/backward pass size (MB): 1529.40\n",
      "Params size (MB): 127.30\n",
      "Estimated Total Size (MB): 1662.99\n",
      "----------------------------------------------------------------\n"
     ]
    }
   ],
   "source": [
    "summary(feature_3d_resnet, (3, 100, 100,55))"
   ]
  },
  {
   "cell_type": "code",
   "execution_count": 16,
   "metadata": {
    "colab": {
     "base_uri": "https://localhost:8080/"
    },
    "id": "DxqZTyp5bA8P",
    "outputId": "14d5b3d1-c352-450d-c93d-581fdbd886fd"
   },
   "outputs": [
    {
     "name": "stdout",
     "output_type": "stream",
     "text": [
      "VideoResNet(\n",
      "  (stem): BasicStem(\n",
      "    (0): Conv3d(3, 64, kernel_size=(3, 7, 7), stride=(1, 2, 2), padding=(1, 3, 3), bias=False)\n",
      "    (1): BatchNorm3d(64, eps=1e-05, momentum=0.1, affine=True, track_running_stats=True)\n",
      "    (2): ReLU(inplace=True)\n",
      "  )\n",
      "  (layer1): Sequential(\n",
      "    (0): BasicBlock(\n",
      "      (conv1): Sequential(\n",
      "        (0): Conv3DSimple(64, 64, kernel_size=(3, 3, 3), stride=(1, 1, 1), padding=(1, 1, 1), bias=False)\n",
      "        (1): BatchNorm3d(64, eps=1e-05, momentum=0.1, affine=True, track_running_stats=True)\n",
      "        (2): ReLU(inplace=True)\n",
      "      )\n",
      "      (conv2): Sequential(\n",
      "        (0): Conv3DSimple(64, 64, kernel_size=(3, 3, 3), stride=(1, 1, 1), padding=(1, 1, 1), bias=False)\n",
      "        (1): BatchNorm3d(64, eps=1e-05, momentum=0.1, affine=True, track_running_stats=True)\n",
      "      )\n",
      "      (relu): ReLU(inplace=True)\n",
      "    )\n",
      "    (1): BasicBlock(\n",
      "      (conv1): Sequential(\n",
      "        (0): Conv3DSimple(64, 64, kernel_size=(3, 3, 3), stride=(1, 1, 1), padding=(1, 1, 1), bias=False)\n",
      "        (1): BatchNorm3d(64, eps=1e-05, momentum=0.1, affine=True, track_running_stats=True)\n",
      "        (2): ReLU(inplace=True)\n",
      "      )\n",
      "      (conv2): Sequential(\n",
      "        (0): Conv3DSimple(64, 64, kernel_size=(3, 3, 3), stride=(1, 1, 1), padding=(1, 1, 1), bias=False)\n",
      "        (1): BatchNorm3d(64, eps=1e-05, momentum=0.1, affine=True, track_running_stats=True)\n",
      "      )\n",
      "      (relu): ReLU(inplace=True)\n",
      "    )\n",
      "  )\n",
      "  (layer2): Sequential(\n",
      "    (0): BasicBlock(\n",
      "      (conv1): Sequential(\n",
      "        (0): Conv3DSimple(64, 128, kernel_size=(3, 3, 3), stride=(2, 2, 2), padding=(1, 1, 1), bias=False)\n",
      "        (1): BatchNorm3d(128, eps=1e-05, momentum=0.1, affine=True, track_running_stats=True)\n",
      "        (2): ReLU(inplace=True)\n",
      "      )\n",
      "      (conv2): Sequential(\n",
      "        (0): Conv3DSimple(128, 128, kernel_size=(3, 3, 3), stride=(1, 1, 1), padding=(1, 1, 1), bias=False)\n",
      "        (1): BatchNorm3d(128, eps=1e-05, momentum=0.1, affine=True, track_running_stats=True)\n",
      "      )\n",
      "      (relu): ReLU(inplace=True)\n",
      "      (downsample): Sequential(\n",
      "        (0): Conv3d(64, 128, kernel_size=(1, 1, 1), stride=(2, 2, 2), bias=False)\n",
      "        (1): BatchNorm3d(128, eps=1e-05, momentum=0.1, affine=True, track_running_stats=True)\n",
      "      )\n",
      "    )\n",
      "    (1): BasicBlock(\n",
      "      (conv1): Sequential(\n",
      "        (0): Conv3DSimple(128, 128, kernel_size=(3, 3, 3), stride=(1, 1, 1), padding=(1, 1, 1), bias=False)\n",
      "        (1): BatchNorm3d(128, eps=1e-05, momentum=0.1, affine=True, track_running_stats=True)\n",
      "        (2): ReLU(inplace=True)\n",
      "      )\n",
      "      (conv2): Sequential(\n",
      "        (0): Conv3DSimple(128, 128, kernel_size=(3, 3, 3), stride=(1, 1, 1), padding=(1, 1, 1), bias=False)\n",
      "        (1): BatchNorm3d(128, eps=1e-05, momentum=0.1, affine=True, track_running_stats=True)\n",
      "      )\n",
      "      (relu): ReLU(inplace=True)\n",
      "    )\n",
      "  )\n",
      "  (layer3): Sequential(\n",
      "    (0): BasicBlock(\n",
      "      (conv1): Sequential(\n",
      "        (0): Conv3DSimple(128, 256, kernel_size=(3, 3, 3), stride=(2, 2, 2), padding=(1, 1, 1), bias=False)\n",
      "        (1): BatchNorm3d(256, eps=1e-05, momentum=0.1, affine=True, track_running_stats=True)\n",
      "        (2): ReLU(inplace=True)\n",
      "      )\n",
      "      (conv2): Sequential(\n",
      "        (0): Conv3DSimple(256, 256, kernel_size=(3, 3, 3), stride=(1, 1, 1), padding=(1, 1, 1), bias=False)\n",
      "        (1): BatchNorm3d(256, eps=1e-05, momentum=0.1, affine=True, track_running_stats=True)\n",
      "      )\n",
      "      (relu): ReLU(inplace=True)\n",
      "      (downsample): Sequential(\n",
      "        (0): Conv3d(128, 256, kernel_size=(1, 1, 1), stride=(2, 2, 2), bias=False)\n",
      "        (1): BatchNorm3d(256, eps=1e-05, momentum=0.1, affine=True, track_running_stats=True)\n",
      "      )\n",
      "    )\n",
      "    (1): BasicBlock(\n",
      "      (conv1): Sequential(\n",
      "        (0): Conv3DSimple(256, 256, kernel_size=(3, 3, 3), stride=(1, 1, 1), padding=(1, 1, 1), bias=False)\n",
      "        (1): BatchNorm3d(256, eps=1e-05, momentum=0.1, affine=True, track_running_stats=True)\n",
      "        (2): ReLU(inplace=True)\n",
      "      )\n",
      "      (conv2): Sequential(\n",
      "        (0): Conv3DSimple(256, 256, kernel_size=(3, 3, 3), stride=(1, 1, 1), padding=(1, 1, 1), bias=False)\n",
      "        (1): BatchNorm3d(256, eps=1e-05, momentum=0.1, affine=True, track_running_stats=True)\n",
      "      )\n",
      "      (relu): ReLU(inplace=True)\n",
      "    )\n",
      "  )\n",
      "  (layer4): Sequential(\n",
      "    (0): BasicBlock(\n",
      "      (conv1): Sequential(\n",
      "        (0): Conv3DSimple(256, 512, kernel_size=(3, 3, 3), stride=(2, 2, 2), padding=(1, 1, 1), bias=False)\n",
      "        (1): BatchNorm3d(512, eps=1e-05, momentum=0.1, affine=True, track_running_stats=True)\n",
      "        (2): ReLU(inplace=True)\n",
      "      )\n",
      "      (conv2): Sequential(\n",
      "        (0): Conv3DSimple(512, 512, kernel_size=(3, 3, 3), stride=(1, 1, 1), padding=(1, 1, 1), bias=False)\n",
      "        (1): BatchNorm3d(512, eps=1e-05, momentum=0.1, affine=True, track_running_stats=True)\n",
      "      )\n",
      "      (relu): ReLU(inplace=True)\n",
      "      (downsample): Sequential(\n",
      "        (0): Conv3d(256, 512, kernel_size=(1, 1, 1), stride=(2, 2, 2), bias=False)\n",
      "        (1): BatchNorm3d(512, eps=1e-05, momentum=0.1, affine=True, track_running_stats=True)\n",
      "      )\n",
      "    )\n",
      "    (1): BasicBlock(\n",
      "      (conv1): Sequential(\n",
      "        (0): Conv3DSimple(512, 512, kernel_size=(3, 3, 3), stride=(1, 1, 1), padding=(1, 1, 1), bias=False)\n",
      "        (1): BatchNorm3d(512, eps=1e-05, momentum=0.1, affine=True, track_running_stats=True)\n",
      "        (2): ReLU(inplace=True)\n",
      "      )\n",
      "      (conv2): Sequential(\n",
      "        (0): Conv3DSimple(512, 512, kernel_size=(3, 3, 3), stride=(1, 1, 1), padding=(1, 1, 1), bias=False)\n",
      "        (1): BatchNorm3d(512, eps=1e-05, momentum=0.1, affine=True, track_running_stats=True)\n",
      "      )\n",
      "      (relu): ReLU(inplace=True)\n",
      "    )\n",
      "  )\n",
      "  (avgpool): AdaptiveAvgPool3d(output_size=(1, 1, 1))\n",
      "  (fc): Linear(in_features=512, out_features=400, bias=True)\n",
      ")\n"
     ]
    }
   ],
   "source": [
    "print(feature_3d_resnet)"
   ]
  },
  {
   "cell_type": "code",
   "execution_count": 18,
   "metadata": {
    "id": "Vd3Hb2QPbBCI"
   },
   "outputs": [],
   "source": [
    "for param in feature_3d_resnet.parameters():\n",
    "    param.requires_grad = False"
   ]
  },
  {
   "cell_type": "code",
   "execution_count": 19,
   "metadata": {
    "id": "V1HGzGymbBFB"
   },
   "outputs": [],
   "source": [
    "feature_3d_resnet.fc =  nn.Sequential(\n",
    "            nn.Linear(512, 512),\n",
    "            nn.LeakyReLU(inplace=True),\n",
    "            nn.Dropout(),\n",
    "            nn.Linear(512, 3),\n",
    "            )\n",
    "for param in feature_3d_resnet.fc.parameters():\n",
    "    param.requires_grad = True"
   ]
  },
  {
   "cell_type": "code",
   "execution_count": 20,
   "metadata": {
    "id": "n1Oees3IbvAp"
   },
   "outputs": [],
   "source": [
    "criterion = nn.CrossEntropyLoss()\n",
    "optimizer = optim.SGD(feature_3d_resnet.fc.parameters(), lr=0.001) #Learning rate must be low due to finetunning"
   ]
  },
  {
   "cell_type": "code",
   "execution_count": 21,
   "metadata": {
    "colab": {
     "base_uri": "https://localhost:8080/"
    },
    "id": "mBhw1qv7bvCi",
    "outputId": "3c8e831c-1574-4eed-cd0e-d1ddd6ce55a7"
   },
   "outputs": [
    {
     "name": "stdout",
     "output_type": "stream",
     "text": [
      "----------------------------------------------------------------\n",
      "        Layer (type)               Output Shape         Param #\n",
      "================================================================\n",
      "            Conv3d-1      [-1, 64, 100, 50, 28]          28,224\n",
      "       BatchNorm3d-2      [-1, 64, 100, 50, 28]             128\n",
      "              ReLU-3      [-1, 64, 100, 50, 28]               0\n",
      "      Conv3DSimple-4      [-1, 64, 100, 50, 28]         110,592\n",
      "       BatchNorm3d-5      [-1, 64, 100, 50, 28]             128\n",
      "              ReLU-6      [-1, 64, 100, 50, 28]               0\n",
      "      Conv3DSimple-7      [-1, 64, 100, 50, 28]         110,592\n",
      "       BatchNorm3d-8      [-1, 64, 100, 50, 28]             128\n",
      "              ReLU-9      [-1, 64, 100, 50, 28]               0\n",
      "       BasicBlock-10      [-1, 64, 100, 50, 28]               0\n",
      "     Conv3DSimple-11      [-1, 64, 100, 50, 28]         110,592\n",
      "      BatchNorm3d-12      [-1, 64, 100, 50, 28]             128\n",
      "             ReLU-13      [-1, 64, 100, 50, 28]               0\n",
      "     Conv3DSimple-14      [-1, 64, 100, 50, 28]         110,592\n",
      "      BatchNorm3d-15      [-1, 64, 100, 50, 28]             128\n",
      "             ReLU-16      [-1, 64, 100, 50, 28]               0\n",
      "       BasicBlock-17      [-1, 64, 100, 50, 28]               0\n",
      "     Conv3DSimple-18      [-1, 128, 50, 25, 14]         221,184\n",
      "      BatchNorm3d-19      [-1, 128, 50, 25, 14]             256\n",
      "             ReLU-20      [-1, 128, 50, 25, 14]               0\n",
      "     Conv3DSimple-21      [-1, 128, 50, 25, 14]         442,368\n",
      "      BatchNorm3d-22      [-1, 128, 50, 25, 14]             256\n",
      "           Conv3d-23      [-1, 128, 50, 25, 14]           8,192\n",
      "      BatchNorm3d-24      [-1, 128, 50, 25, 14]             256\n",
      "             ReLU-25      [-1, 128, 50, 25, 14]               0\n",
      "       BasicBlock-26      [-1, 128, 50, 25, 14]               0\n",
      "     Conv3DSimple-27      [-1, 128, 50, 25, 14]         442,368\n",
      "      BatchNorm3d-28      [-1, 128, 50, 25, 14]             256\n",
      "             ReLU-29      [-1, 128, 50, 25, 14]               0\n",
      "     Conv3DSimple-30      [-1, 128, 50, 25, 14]         442,368\n",
      "      BatchNorm3d-31      [-1, 128, 50, 25, 14]             256\n",
      "             ReLU-32      [-1, 128, 50, 25, 14]               0\n",
      "       BasicBlock-33      [-1, 128, 50, 25, 14]               0\n",
      "     Conv3DSimple-34       [-1, 256, 25, 13, 7]         884,736\n",
      "      BatchNorm3d-35       [-1, 256, 25, 13, 7]             512\n",
      "             ReLU-36       [-1, 256, 25, 13, 7]               0\n",
      "     Conv3DSimple-37       [-1, 256, 25, 13, 7]       1,769,472\n",
      "      BatchNorm3d-38       [-1, 256, 25, 13, 7]             512\n",
      "           Conv3d-39       [-1, 256, 25, 13, 7]          32,768\n",
      "      BatchNorm3d-40       [-1, 256, 25, 13, 7]             512\n",
      "             ReLU-41       [-1, 256, 25, 13, 7]               0\n",
      "       BasicBlock-42       [-1, 256, 25, 13, 7]               0\n",
      "     Conv3DSimple-43       [-1, 256, 25, 13, 7]       1,769,472\n",
      "      BatchNorm3d-44       [-1, 256, 25, 13, 7]             512\n",
      "             ReLU-45       [-1, 256, 25, 13, 7]               0\n",
      "     Conv3DSimple-46       [-1, 256, 25, 13, 7]       1,769,472\n",
      "      BatchNorm3d-47       [-1, 256, 25, 13, 7]             512\n",
      "             ReLU-48       [-1, 256, 25, 13, 7]               0\n",
      "       BasicBlock-49       [-1, 256, 25, 13, 7]               0\n",
      "     Conv3DSimple-50        [-1, 512, 13, 7, 4]       3,538,944\n",
      "      BatchNorm3d-51        [-1, 512, 13, 7, 4]           1,024\n",
      "             ReLU-52        [-1, 512, 13, 7, 4]               0\n",
      "     Conv3DSimple-53        [-1, 512, 13, 7, 4]       7,077,888\n",
      "      BatchNorm3d-54        [-1, 512, 13, 7, 4]           1,024\n",
      "           Conv3d-55        [-1, 512, 13, 7, 4]         131,072\n",
      "      BatchNorm3d-56        [-1, 512, 13, 7, 4]           1,024\n",
      "             ReLU-57        [-1, 512, 13, 7, 4]               0\n",
      "       BasicBlock-58        [-1, 512, 13, 7, 4]               0\n",
      "     Conv3DSimple-59        [-1, 512, 13, 7, 4]       7,077,888\n",
      "      BatchNorm3d-60        [-1, 512, 13, 7, 4]           1,024\n",
      "             ReLU-61        [-1, 512, 13, 7, 4]               0\n",
      "     Conv3DSimple-62        [-1, 512, 13, 7, 4]       7,077,888\n",
      "      BatchNorm3d-63        [-1, 512, 13, 7, 4]           1,024\n",
      "             ReLU-64        [-1, 512, 13, 7, 4]               0\n",
      "       BasicBlock-65        [-1, 512, 13, 7, 4]               0\n",
      "AdaptiveAvgPool3d-66         [-1, 512, 1, 1, 1]               0\n",
      "           Linear-67                  [-1, 512]         262,656\n",
      "        LeakyReLU-68                  [-1, 512]               0\n",
      "          Dropout-69                  [-1, 512]               0\n",
      "           Linear-70                    [-1, 3]           1,539\n",
      "================================================================\n",
      "Total params: 33,430,467\n",
      "Trainable params: 264,195\n",
      "Non-trainable params: 33,166,272\n",
      "----------------------------------------------------------------\n",
      "Input size (MB): 6.29\n",
      "Forward/backward pass size (MB): 1529.41\n",
      "Params size (MB): 127.53\n",
      "Estimated Total Size (MB): 1663.23\n",
      "----------------------------------------------------------------\n"
     ]
    }
   ],
   "source": [
    "summary(feature_3d_resnet, (3, 100, 100,55))"
   ]
  },
  {
   "cell_type": "code",
   "execution_count": 22,
   "metadata": {
    "colab": {
     "base_uri": "https://localhost:8080/"
    },
    "id": "UWCIhReabvGY",
    "outputId": "46e5227f-dc88-4111-c263-2348c7dbefa7"
   },
   "outputs": [
    {
     "name": "stdout",
     "output_type": "stream",
     "text": [
      "epoch:  0  batch:   10 [   100/530]  loss: 1.12803793  accuracy:  39.000%\n",
      "epoch:  0  batch:   20 [   200/530]  loss: 1.09224904  accuracy:  38.000%\n",
      "epoch:  0  batch:   30 [   300/530]  loss: 1.01560497  accuracy:  40.000%\n",
      "epoch:  0  batch:   40 [   400/530]  loss: 1.21638846  accuracy:  41.250%\n",
      "epoch:  0  batch:   50 [   500/530]  loss: 1.00069427  accuracy:  42.200%\n",
      "epoch:  1  batch:   10 [   100/530]  loss: 0.94462836  accuracy:  52.000%\n",
      "epoch:  1  batch:   20 [   200/530]  loss: 1.03809845  accuracy:  56.500%\n",
      "epoch:  1  batch:   30 [   300/530]  loss: 0.93638813  accuracy:  59.333%\n",
      "epoch:  1  batch:   40 [   400/530]  loss: 0.87351382  accuracy:  60.750%\n",
      "epoch:  1  batch:   50 [   500/530]  loss: 0.82112914  accuracy:  61.400%\n",
      "epoch:  2  batch:   10 [   100/530]  loss: 0.80387288  accuracy:  69.000%\n",
      "epoch:  2  batch:   20 [   200/530]  loss: 0.81912154  accuracy:  71.500%\n",
      "epoch:  2  batch:   30 [   300/530]  loss: 0.72034633  accuracy:  74.667%\n",
      "epoch:  2  batch:   40 [   400/530]  loss: 0.69943422  accuracy:  73.250%\n",
      "epoch:  2  batch:   50 [   500/530]  loss: 0.72693610  accuracy:  75.200%\n",
      "epoch:  3  batch:   10 [   100/530]  loss: 0.58415270  accuracy:  82.000%\n",
      "epoch:  3  batch:   20 [   200/530]  loss: 0.75279039  accuracy:  80.000%\n",
      "epoch:  3  batch:   30 [   300/530]  loss: 0.75604379  accuracy:  82.667%\n",
      "epoch:  3  batch:   40 [   400/530]  loss: 0.68522656  accuracy:  79.750%\n",
      "epoch:  3  batch:   50 [   500/530]  loss: 0.75227362  accuracy:  81.200%\n",
      "epoch:  4  batch:   10 [   100/530]  loss: 0.69910055  accuracy:  77.000%\n",
      "epoch:  4  batch:   20 [   200/530]  loss: 0.58028495  accuracy:  82.000%\n",
      "epoch:  4  batch:   30 [   300/530]  loss: 0.68869126  accuracy:  82.667%\n",
      "epoch:  4  batch:   40 [   400/530]  loss: 0.53643858  accuracy:  83.000%\n",
      "epoch:  4  batch:   50 [   500/530]  loss: 0.76820737  accuracy:  83.600%\n",
      "\n",
      "Duration: 6321 seconds\n"
     ]
    }
   ],
   "source": [
    "import time\n",
    "start_time = time.time()\n",
    "\n",
    "epochs = 5\n",
    "train_losses = []\n",
    "test_losses = []\n",
    "train_correct = []\n",
    "test_correct = []\n",
    "\n",
    "for i in range(epochs):\n",
    "    trn_corr = 0\n",
    "    tst_corr = 0\n",
    "    \n",
    "    # Run the training batches\n",
    "    for b, (X_train, y_train) in enumerate(train_dataloader):\n",
    "        b+=1\n",
    "        \n",
    "        # Apply the model\n",
    "        y_pred = feature_3d_resnet(X_train)\n",
    "        loss = criterion(y_pred, y_train)\n",
    " \n",
    "        # Tally the number of correct predictions\n",
    "        predicted = torch.max(y_pred.data, 1)[1]\n",
    "        batch_corr = (predicted == y_train).sum()\n",
    "        trn_corr += batch_corr\n",
    "        \n",
    "        # Update parameters\n",
    "        optimizer.zero_grad()\n",
    "        loss.backward()\n",
    "        optimizer.step()\n",
    "        \n",
    "        # Print interim results\n",
    "        if b%10 == 0:\n",
    "            print(f'epoch: {i:2}  batch: {b:4} [{10*b:6}/530]  loss: {loss.item():10.8f}  \\\n",
    "accuracy: {trn_corr.item()*100/(10*b):7.3f}%')\n",
    "        \n",
    "    train_losses.append(loss)\n",
    "    train_correct.append(trn_corr)\n",
    "        \n",
    "    # Run the testing batches\n",
    "    with torch.no_grad():\n",
    "        for b, (X_val, y_val) in enumerate(validation_dataloader):\n",
    "\n",
    "            # Apply the model\n",
    "            outputs = feature_3d_resnet(X_val)\n",
    "\n",
    "            # Tally the number of correct predictions\n",
    "            predicted = torch.max(outputs.data, 1)[1] \n",
    "            tst_corr += (predicted == y_val).sum()\n",
    "            \n",
    "    loss = criterion(outputs, y_val)\n",
    "    test_losses.append(loss)\n",
    "    test_correct.append(tst_corr)\n",
    "        \n",
    "print(f'\\nDuration: {time.time() - start_time:.0f} seconds') # print the time elapsed  "
   ]
  },
  {
   "cell_type": "code",
   "execution_count": 23,
   "metadata": {
    "colab": {
     "base_uri": "https://localhost:8080/",
     "height": 281
    },
    "id": "_9eMRrUhbvIZ",
    "outputId": "b67c46ff-de45-4517-f1b7-f56fcfc80175"
   },
   "outputs": [
    {
     "data": {
      "image/png": "[encoded data removed]",
      "text/plain": [
       "<Figure size 432x288 with 1 Axes>"
      ]
     },
     "metadata": {
      "needs_background": "light"
     },
     "output_type": "display_data"
    }
   ],
   "source": [
    "plt.plot(train_losses, label='training loss')\n",
    "plt.plot(test_losses, label='validation loss')\n",
    "plt.title('Loss at the end of each epoch')\n",
    "plt.legend();"
   ]
  },
  {
   "cell_type": "code",
   "execution_count": 24,
   "metadata": {
    "colab": {
     "base_uri": "https://localhost:8080/",
     "height": 298
    },
    "id": "7Wm6yddfbvL7",
    "outputId": "fd18de1e-4103-433c-d30f-62a306c35507"
   },
   "outputs": [
    {
     "data": {
      "text/plain": [
       "<matplotlib.legend.Legend at 0x7f6f8f0242d0>"
      ]
     },
     "execution_count": 24,
     "metadata": {},
     "output_type": "execute_result"
    },
    {
     "data": {
      "image/png": "[encoded data removed]",
      "text/plain": [
       "<Figure size 432x288 with 1 Axes>"
      ]
     },
     "metadata": {
      "needs_background": "light"
     },
     "output_type": "display_data"
    }
   ],
   "source": [
    "plt.plot([t/530 for t in train_correct], label='training accuracy')\n",
    "plt.plot([t/66 for t in test_correct], label='validation accuracy')\n",
    "plt.title('Accuracy at the end of each epoch')\n",
    "plt.legend()"
   ]
  },
  {
   "cell_type": "markdown",
   "metadata": {},
   "source": [
    "# Evaluation of Model"
   ]
  },
  {
   "cell_type": "code",
   "execution_count": 106,
   "metadata": {
    "colab": {
     "base_uri": "https://localhost:8080/"
    },
    "id": "jL32tYCpbvOq",
    "outputId": "eead7ba4-2a88-4cbb-fe4b-90a0171fb748"
   },
   "outputs": [
    {
     "name": "stdout",
     "output_type": "stream",
     "text": [
      "Testing  accuracy: 62/67 =  92.537%\n",
      "0.8571428571428571\n"
     ]
    }
   ],
   "source": [
    "torch.manual_seed(42)\n",
    "from sklearn.metrics import accuracy_score\n",
    "from sklearn.metrics import balanced_accuracy_score\n",
    "from sklearn.metrics import matthews_corrcoef\n",
    "with torch.no_grad():\n",
    "    correct = 0\n",
    "    for X_test, y_test in test_dataloader:\n",
    "        y_val1 = feature_3d_resnet(X_test)  # we don't flatten the data this time\n",
    "        predicted = torch.max(y_val1,1)[1]\n",
    "        correct += (predicted == y_test).sum()\n",
    "print(f'Testing  accuracy: {correct.item()}/{len(dataset2)} = {correct.item()*100/(len(dataset2)):7.3f}%')\n",
    "acc = accuracy_score(predicted.view(-1),y_test.view(-1))\n",
    "print(acc)"
   ]
  },
  {
   "cell_type": "code",
   "execution_count": 100,
   "metadata": {
    "colab": {
     "base_uri": "https://localhost:8080/"
    },
    "id": "Z8zO6hSicSD2",
    "outputId": "23e21409-979e-4f03-b5b5-3872d8428978"
   },
   "outputs": [
    {
     "name": "stdout",
     "output_type": "stream",
     "text": [
      "Accuracy of the network on the 67 test images: 82 %\n"
     ]
    }
   ],
   "source": [
    "torch.manual_seed(101)\n",
    "correct = 0\n",
    "total = 0\n",
    "# since we're not training, we don't need to calculate the gradients for our outputs\n",
    "with torch.no_grad():\n",
    "    for data in test_dataloader:\n",
    "        images, labels = data\n",
    "        # calculate outputs by running images through the network\n",
    "        outputs = feature_3d_resnet(images)\n",
    "        # the class with the highest energy is what we choose as prediction\n",
    "        _, predicted = torch.max(outputs.data, 1)\n",
    "        total += labels.size(0)\n",
    "        correct += (predicted == labels).sum().item()\n",
    "print(f'Accuracy of the network on the 66 test images: {100 * correct // total} %')"
   ]
  },
  {
   "cell_type": "code",
   "execution_count": 103,
   "metadata": {
    "colab": {
     "base_uri": "https://localhost:8080/"
    },
    "id": "wHlq75gXIGYk",
    "outputId": "c68b1e35-6e8e-4bd6-90b2-62b65316d644"
   },
   "outputs": [
    {
     "name": "stdout",
     "output_type": "stream",
     "text": [
      "Accuracy of the network on the 67 test images: 82 %\n"
     ]
    },
    {
     "data": {
      "text/plain": [
       "0.7367408255403788"
      ]
     },
     "execution_count": 103,
     "metadata": {},
     "output_type": "execute_result"
    }
   ],
   "source": [
    "torch.manual_seed(101)\n",
    "y_pred_list = []\n",
    "labels_list = []\n",
    "correct = 0\n",
    "total = 0\n",
    "# since we're not training, we don't need to calculate the gradients for our outputs\n",
    "with torch.no_grad():\n",
    "    for data in test_dataloader:\n",
    "        images, labels = data\n",
    "        batch_size = images.shape[0]\n",
    "        # calculate outputs by running images through the network\n",
    "        outputs = feature_3d_resnet(images)\n",
    "        # the class with the highest energy is what we choose as prediction\n",
    "        _, predicted = torch.max(outputs.data, 1)\n",
    "        total += labels.size(0)\n",
    "        correct += (predicted == labels).sum().item()\n",
    "        predicted=predicted.detach().numpy()\n",
    "        labels=labels.detach().numpy()\n",
    "        for i in range(batch_size):\n",
    "          y_pred_list.append(predicted[i])\n",
    "          labels_list.append(labels[i])\n",
    "\n",
    "print(f'Accuracy of the network on the 67 test images: {100 * correct // total} %')\n",
    "matthews_corrcoef(y_pred_list, labels_list) \n"
   ]
  },
  {
   "cell_type": "code",
   "execution_count": 104,
   "metadata": {
    "colab": {
     "base_uri": "https://localhost:8080/"
    },
    "id": "EtwodPk4JsLf",
    "outputId": "956502b8-c82a-4cd2-e5b7-20dfbae33cec"
   },
   "outputs": [
    {
     "data": {
      "text/plain": [
       "67"
      ]
     },
     "execution_count": 104,
     "metadata": {},
     "output_type": "execute_result"
    }
   ],
   "source": [
    "len(y_pred_list)"
   ]
  },
  {
   "cell_type": "code",
   "execution_count": 105,
   "metadata": {
    "colab": {
     "base_uri": "https://localhost:8080/"
    },
    "id": "A_p0b_cCJxnI",
    "outputId": "5c66ae0a-af29-4f20-f58a-162ea7ac0446"
   },
   "outputs": [
    {
     "data": {
      "text/plain": [
       "67"
      ]
     },
     "execution_count": 105,
     "metadata": {},
     "output_type": "execute_result"
    }
   ],
   "source": [
    "len(labels_list)"
   ]
  },
  {
   "cell_type": "code",
   "execution_count": 28,
   "metadata": {
    "colab": {
     "base_uri": "https://localhost:8080/"
    },
    "id": "2uzyIiCOcSGv",
    "outputId": "86051fa7-5f9a-4e9a-89c2-3a01ccc185e3"
   },
   "outputs": [
    {
     "name": "stdout",
     "output_type": "stream",
     "text": [
      "Accuracy for class AD    is: 96.3 %\n",
      "Accuracy for class LMCI  is: 76.5 %\n",
      "Accuracy for class CN    is: 87.0 %\n"
     ]
    }
   ],
   "source": [
    "# prepare to count predictions for each class\n",
    "classes= ['AD','LMCI', 'CN']\n",
    "correct_pred = {classname: 0 for classname in classes}\n",
    "total_pred = {classname: 0 for classname in classes}\n",
    "\n",
    "# again no gradients needed\n",
    "with torch.no_grad():\n",
    "    for X_test, y_test in test_dataloader:\n",
    "        outputs = feature_3d_resnet(X_test)\n",
    "        _, predictions = torch.max(outputs, 1)\n",
    "        # collect the correct predictions for each class\n",
    "        for label, prediction in zip(y_test, predictions):\n",
    "            if label == prediction:\n",
    "                correct_pred[classes[label]] += 1\n",
    "            total_pred[classes[label]] += 1\n",
    "\n",
    "\n",
    "# print accuracy for each class\n",
    "for classname, correct_count in correct_pred.items():\n",
    "    accuracy = 100 * float(correct_count) / total_pred[classname]\n",
    "    print(\"Accuracy for class {:5s} is: {:.1f} %\".format(classname,\n",
    "                                                   accuracy))"
   ]
  },
  {
   "cell_type": "code",
   "execution_count": 29,
   "metadata": {
    "colab": {
     "base_uri": "https://localhost:8080/",
     "height": 495
    },
    "id": "zh0GkGJA4Iqo",
    "outputId": "90f6bdc4-7b59-423c-ec74-6986b302bf30"
   },
   "outputs": [
    {
     "name": "stderr",
     "output_type": "stream",
     "text": [
      "No handles with labels found to put in legend.\n"
     ]
    },
    {
     "data": {
      "image/png": "[encoded data removed]",
      "text/plain": [
       "<Figure size 540x540 with 1 Axes>"
      ]
     },
     "metadata": {
      "needs_background": "light"
     },
     "output_type": "display_data"
    }
   ],
   "source": [
    "nb_classes = 3\n",
    "from sklearn.metrics import confusion_matrix\n",
    "confusion_matrix = torch.zeros(nb_classes, nb_classes)\n",
    "with torch.no_grad():\n",
    "    for i, (inputs, classes) in enumerate(test_dataloader):\n",
    "        inputs = inputs.to(device)\n",
    "        classes = classes.to(device)\n",
    "        outputs = feature_3d_resnet(inputs)\n",
    "        _, preds = torch.max(outputs, 1)\n",
    "        for t, p in zip(classes.view(-1), preds.view(-1)):\n",
    "                confusion_matrix[t.long(), p.long()] += 1\n",
    "fig, ax = plt.subplots(figsize=(7.5, 7.5))\n",
    "ax.matshow(confusion_matrix, cmap=plt.cm.Blues, alpha=0.3)\n",
    "for i in range(confusion_matrix.shape[0]):\n",
    "  for j in range(confusion_matrix.shape[1]):\n",
    "    ax.text(x=j, y=i,s=confusion_matrix[i, j], va='center', ha='center', size='xx-large')\n",
    "plt.xlabel('Predictions', fontsize=18)\n",
    "plt.ylabel('Actuals', fontsize=18)\n",
    "plt.legend()\n",
    "plt.show();"
   ]
  },
  {
   "cell_type": "code",
   "execution_count": 30,
   "metadata": {
    "id": "gTfN5fSU5a-3"
   },
   "outputs": [],
   "source": [
    "filepath='Transfer_multiclass_feature.pt'\n",
    "torch.save(feature_3d_resnet.state_dict(), filepath)"
   ]
  },
  {
   "cell_type": "code",
   "execution_count": null,
   "metadata": {
    "id": "s6v8K9if682C"
   },
   "outputs": [],
   "source": []
  }
 ],
 "metadata": {
  "colab": {
   "machine_shape": "hm",
   "name": "Feature_Extraction_ADNI.ipynb",
   "provenance": []
  },
  "kernelspec": {
   "display_name": "Python 3",
   "language": "python",
   "name": "python3"
  },
  "language_info": {
   "codemirror_mode": {
    "name": "ipython",
    "version": 3
   },
   "file_extension": ".py",
   "mimetype": "text/x-python",
   "name": "python",
   "nbconvert_exporter": "python",
   "pygments_lexer": "ipython3",
   "version": "3.8.8"
  }
 },
 "nbformat": 4,
 "nbformat_minor": 1
}
